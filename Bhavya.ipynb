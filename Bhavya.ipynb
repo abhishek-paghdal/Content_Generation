{
  "nbformat": 4,
  "nbformat_minor": 0,
  "metadata": {
    "colab": {
      "provenance": [],
      "include_colab_link": true
    },
    "kernelspec": {
      "name": "python3",
      "display_name": "Python 3"
    },
    "language_info": {
      "name": "python"
    },
    "gpuClass": "standard",
    "accelerator": "GPU"
  },
  "cells": [
    {
      "cell_type": "markdown",
      "metadata": {
        "id": "view-in-github",
        "colab_type": "text"
      },
      "source": [
        "<a href=\"https://colab.research.google.com/github/abhishek-paghdal/Content_Generation/blob/main/Bhavya.ipynb\" target=\"_parent\"><img src=\"https://colab.research.google.com/assets/colab-badge.svg\" alt=\"Open In Colab\"/></a>"
      ]
    },
    {
      "cell_type": "code",
      "execution_count": null,
      "metadata": {
        "id": "9UmroclTq9zq"
      },
      "outputs": [],
      "source": [
        "# tf.config.set_visible_devices(tf.config.experimental.list_physical_devices('GPU')[0], 'GPU')"
      ]
    },
    {
      "cell_type": "code",
      "source": [
        "from google.colab import drive\n",
        "drive.mount('/content/drive')"
      ],
      "metadata": {
        "colab": {
          "base_uri": "https://localhost:8080/"
        },
        "id": "lQT-GQdnUFa6",
        "outputId": "82fa1bce-a03e-44f9-e8cf-c7b18f1813ed"
      },
      "execution_count": null,
      "outputs": [
        {
          "output_type": "stream",
          "name": "stdout",
          "text": [
            "Mounted at /content/drive\n"
          ]
        }
      ]
    },
    {
      "cell_type": "code",
      "source": [
        "import tensorflow as tf"
      ],
      "metadata": {
        "id": "D21mvRsi7ifK"
      },
      "execution_count": null,
      "outputs": []
    },
    {
      "cell_type": "code",
      "source": [
        "import pandas as pd"
      ],
      "metadata": {
        "id": "xIeDzCbb7Yju"
      },
      "execution_count": null,
      "outputs": []
    },
    {
      "cell_type": "code",
      "source": [
        "df=pd.read_csv('/content/drive/MyDrive/data.csv')"
      ],
      "metadata": {
        "id": "kzlOWrmVr0ty"
      },
      "execution_count": null,
      "outputs": []
    },
    {
      "cell_type": "code",
      "source": [
        "df.head()"
      ],
      "metadata": {
        "colab": {
          "base_uri": "https://localhost:8080/",
          "height": 337
        },
        "id": "ziMzL_X7r7HY",
        "outputId": "24c0032b-8411-4f84-e715-bdf06817d1ac"
      },
      "execution_count": null,
      "outputs": [
        {
          "output_type": "execute_result",
          "data": {
            "text/plain": [
              "                                    _id  \\\n",
              "0  {'$oid': '600837a2b5425d67582e0d8a'}   \n",
              "1  {'$oid': '600837a3b5425d67582e0d8e'}   \n",
              "2  {'$oid': '600837a4b5425d67582e0d91'}   \n",
              "3  {'$oid': '600837a4b5425d67582e0d92'}   \n",
              "4  {'$oid': '600837a5b5425d67582e0d97'}   \n",
              "\n",
              "                                               title        datePublished  \\\n",
              "0  EU lawmakers to push audio-visual sector on ge...  2020-11-30 05:46:35   \n",
              "1  Construction startup Scaled Robotics raises a ...  2020-02-03 07:13:18   \n",
              "2  Roblox buys digital avatar startup Loom.ai – T...  2020-12-14 11:10:15   \n",
              "3  ClickUp hits $1 billion valuation in $100M Ser...  2020-12-15 16:30:14   \n",
              "4  Spotify launches video podcasts worldwide, sta...  2020-07-21 07:13:39   \n",
              "\n",
              "                                         description  \\\n",
              "0  European Union lawmakers are considering wheth...   \n",
              "1  Industrial robots are expensive. But, then, so...   \n",
              "2  Roblox announced today that it’s buying a digi...   \n",
              "3  Just six month after raising its first bit of ...   \n",
              "4  Spotify today announced the global launch of v...   \n",
              "\n",
              "                                             article  \\\n",
              "0  European Union lawmakers are considering wheth...   \n",
              "1  Industrial robots are expensive. But, then, so...   \n",
              "2  Roblox announced today that it’s buying a digi...   \n",
              "3  Just six month after raising its first bit of ...   \n",
              "4  Spotify today announced the global launch of v...   \n",
              "\n",
              "                                            keywords  \n",
              "0  audio-visual, eu, geoblocking, Netflix, stream...  \n",
              "1  Battlefield, construction, Norwegian Construct...  \n",
              "2  Avatar, Bitmoji, bitstrips, computing, films, ...  \n",
              "3  Android, ClickUp, Craft Ventures, Georgian Par...  \n",
              "4           Spotify, streaming music, Video, YouTube  "
            ],
            "text/html": [
              "\n",
              "  <div id=\"df-2a308481-0d9c-42bf-b1ec-11dd4ff78f14\">\n",
              "    <div class=\"colab-df-container\">\n",
              "      <div>\n",
              "<style scoped>\n",
              "    .dataframe tbody tr th:only-of-type {\n",
              "        vertical-align: middle;\n",
              "    }\n",
              "\n",
              "    .dataframe tbody tr th {\n",
              "        vertical-align: top;\n",
              "    }\n",
              "\n",
              "    .dataframe thead th {\n",
              "        text-align: right;\n",
              "    }\n",
              "</style>\n",
              "<table border=\"1\" class=\"dataframe\">\n",
              "  <thead>\n",
              "    <tr style=\"text-align: right;\">\n",
              "      <th></th>\n",
              "      <th>_id</th>\n",
              "      <th>title</th>\n",
              "      <th>datePublished</th>\n",
              "      <th>description</th>\n",
              "      <th>article</th>\n",
              "      <th>keywords</th>\n",
              "    </tr>\n",
              "  </thead>\n",
              "  <tbody>\n",
              "    <tr>\n",
              "      <th>0</th>\n",
              "      <td>{'$oid': '600837a2b5425d67582e0d8a'}</td>\n",
              "      <td>EU lawmakers to push audio-visual sector on ge...</td>\n",
              "      <td>2020-11-30 05:46:35</td>\n",
              "      <td>European Union lawmakers are considering wheth...</td>\n",
              "      <td>European Union lawmakers are considering wheth...</td>\n",
              "      <td>audio-visual, eu, geoblocking, Netflix, stream...</td>\n",
              "    </tr>\n",
              "    <tr>\n",
              "      <th>1</th>\n",
              "      <td>{'$oid': '600837a3b5425d67582e0d8e'}</td>\n",
              "      <td>Construction startup Scaled Robotics raises a ...</td>\n",
              "      <td>2020-02-03 07:13:18</td>\n",
              "      <td>Industrial robots are expensive. But, then, so...</td>\n",
              "      <td>Industrial robots are expensive. But, then, so...</td>\n",
              "      <td>Battlefield, construction, Norwegian Construct...</td>\n",
              "    </tr>\n",
              "    <tr>\n",
              "      <th>2</th>\n",
              "      <td>{'$oid': '600837a4b5425d67582e0d91'}</td>\n",
              "      <td>Roblox buys digital avatar startup Loom.ai – T...</td>\n",
              "      <td>2020-12-14 11:10:15</td>\n",
              "      <td>Roblox announced today that it’s buying a digi...</td>\n",
              "      <td>Roblox announced today that it’s buying a digi...</td>\n",
              "      <td>Avatar, Bitmoji, bitstrips, computing, films, ...</td>\n",
              "    </tr>\n",
              "    <tr>\n",
              "      <th>3</th>\n",
              "      <td>{'$oid': '600837a4b5425d67582e0d92'}</td>\n",
              "      <td>ClickUp hits $1 billion valuation in $100M Ser...</td>\n",
              "      <td>2020-12-15 16:30:14</td>\n",
              "      <td>Just six month after raising its first bit of ...</td>\n",
              "      <td>Just six month after raising its first bit of ...</td>\n",
              "      <td>Android, ClickUp, Craft Ventures, Georgian Par...</td>\n",
              "    </tr>\n",
              "    <tr>\n",
              "      <th>4</th>\n",
              "      <td>{'$oid': '600837a5b5425d67582e0d97'}</td>\n",
              "      <td>Spotify launches video podcasts worldwide, sta...</td>\n",
              "      <td>2020-07-21 07:13:39</td>\n",
              "      <td>Spotify today announced the global launch of v...</td>\n",
              "      <td>Spotify today announced the global launch of v...</td>\n",
              "      <td>Spotify, streaming music, Video, YouTube</td>\n",
              "    </tr>\n",
              "  </tbody>\n",
              "</table>\n",
              "</div>\n",
              "      <button class=\"colab-df-convert\" onclick=\"convertToInteractive('df-2a308481-0d9c-42bf-b1ec-11dd4ff78f14')\"\n",
              "              title=\"Convert this dataframe to an interactive table.\"\n",
              "              style=\"display:none;\">\n",
              "        \n",
              "  <svg xmlns=\"http://www.w3.org/2000/svg\" height=\"24px\"viewBox=\"0 0 24 24\"\n",
              "       width=\"24px\">\n",
              "    <path d=\"M0 0h24v24H0V0z\" fill=\"none\"/>\n",
              "    <path d=\"M18.56 5.44l.94 2.06.94-2.06 2.06-.94-2.06-.94-.94-2.06-.94 2.06-2.06.94zm-11 1L8.5 8.5l.94-2.06 2.06-.94-2.06-.94L8.5 2.5l-.94 2.06-2.06.94zm10 10l.94 2.06.94-2.06 2.06-.94-2.06-.94-.94-2.06-.94 2.06-2.06.94z\"/><path d=\"M17.41 7.96l-1.37-1.37c-.4-.4-.92-.59-1.43-.59-.52 0-1.04.2-1.43.59L10.3 9.45l-7.72 7.72c-.78.78-.78 2.05 0 2.83L4 21.41c.39.39.9.59 1.41.59.51 0 1.02-.2 1.41-.59l7.78-7.78 2.81-2.81c.8-.78.8-2.07 0-2.86zM5.41 20L4 18.59l7.72-7.72 1.47 1.35L5.41 20z\"/>\n",
              "  </svg>\n",
              "      </button>\n",
              "      \n",
              "  <style>\n",
              "    .colab-df-container {\n",
              "      display:flex;\n",
              "      flex-wrap:wrap;\n",
              "      gap: 12px;\n",
              "    }\n",
              "\n",
              "    .colab-df-convert {\n",
              "      background-color: #E8F0FE;\n",
              "      border: none;\n",
              "      border-radius: 50%;\n",
              "      cursor: pointer;\n",
              "      display: none;\n",
              "      fill: #1967D2;\n",
              "      height: 32px;\n",
              "      padding: 0 0 0 0;\n",
              "      width: 32px;\n",
              "    }\n",
              "\n",
              "    .colab-df-convert:hover {\n",
              "      background-color: #E2EBFA;\n",
              "      box-shadow: 0px 1px 2px rgba(60, 64, 67, 0.3), 0px 1px 3px 1px rgba(60, 64, 67, 0.15);\n",
              "      fill: #174EA6;\n",
              "    }\n",
              "\n",
              "    [theme=dark] .colab-df-convert {\n",
              "      background-color: #3B4455;\n",
              "      fill: #D2E3FC;\n",
              "    }\n",
              "\n",
              "    [theme=dark] .colab-df-convert:hover {\n",
              "      background-color: #434B5C;\n",
              "      box-shadow: 0px 1px 3px 1px rgba(0, 0, 0, 0.15);\n",
              "      filter: drop-shadow(0px 1px 2px rgba(0, 0, 0, 0.3));\n",
              "      fill: #FFFFFF;\n",
              "    }\n",
              "  </style>\n",
              "\n",
              "      <script>\n",
              "        const buttonEl =\n",
              "          document.querySelector('#df-2a308481-0d9c-42bf-b1ec-11dd4ff78f14 button.colab-df-convert');\n",
              "        buttonEl.style.display =\n",
              "          google.colab.kernel.accessAllowed ? 'block' : 'none';\n",
              "\n",
              "        async function convertToInteractive(key) {\n",
              "          const element = document.querySelector('#df-2a308481-0d9c-42bf-b1ec-11dd4ff78f14');\n",
              "          const dataTable =\n",
              "            await google.colab.kernel.invokeFunction('convertToInteractive',\n",
              "                                                     [key], {});\n",
              "          if (!dataTable) return;\n",
              "\n",
              "          const docLinkHtml = 'Like what you see? Visit the ' +\n",
              "            '<a target=\"_blank\" href=https://colab.research.google.com/notebooks/data_table.ipynb>data table notebook</a>'\n",
              "            + ' to learn more about interactive tables.';\n",
              "          element.innerHTML = '';\n",
              "          dataTable['output_type'] = 'display_data';\n",
              "          await google.colab.output.renderOutput(dataTable, element);\n",
              "          const docLink = document.createElement('div');\n",
              "          docLink.innerHTML = docLinkHtml;\n",
              "          element.appendChild(docLink);\n",
              "        }\n",
              "      </script>\n",
              "    </div>\n",
              "  </div>\n",
              "  "
            ]
          },
          "metadata": {},
          "execution_count": 5
        }
      ]
    },
    {
      "cell_type": "code",
      "source": [
        "df.dropna(inplace=True)"
      ],
      "metadata": {
        "id": "1JQvsT44r_L9"
      },
      "execution_count": null,
      "outputs": []
    },
    {
      "cell_type": "code",
      "source": [
        "df1=df[:3000]"
      ],
      "metadata": {
        "id": "-BGCUh5qsGUE"
      },
      "execution_count": null,
      "outputs": []
    },
    {
      "cell_type": "code",
      "source": [
        "df1.to_csv('data1.csv',index=False)"
      ],
      "metadata": {
        "id": "FUq2eKfXsMV7"
      },
      "execution_count": null,
      "outputs": []
    },
    {
      "cell_type": "code",
      "source": [
        "data=pd.read_csv('data1.csv')"
      ],
      "metadata": {
        "id": "1wXKrlHUv8YD"
      },
      "execution_count": null,
      "outputs": []
    },
    {
      "cell_type": "code",
      "source": [
        "data.shape"
      ],
      "metadata": {
        "colab": {
          "base_uri": "https://localhost:8080/"
        },
        "id": "pOBjvWgvwMHf",
        "outputId": "7825354c-4e35-4bc8-95e9-7eab33e33862"
      },
      "execution_count": null,
      "outputs": [
        {
          "output_type": "execute_result",
          "data": {
            "text/plain": [
              "(3000, 6)"
            ]
          },
          "metadata": {},
          "execution_count": 10
        }
      ]
    },
    {
      "cell_type": "markdown",
      "source": [
        "**Split the dataset into train and evaluate**"
      ],
      "metadata": {
        "id": "9QyfG0fuvk2A"
      }
    },
    {
      "cell_type": "code",
      "source": [
        "from sklearn.model_selection import train_test_split\n",
        "\n",
        "train_data, eval_data = train_test_split(data, test_size=0.2)"
      ],
      "metadata": {
        "id": "9eLn5dNLvrID"
      },
      "execution_count": null,
      "outputs": []
    },
    {
      "cell_type": "code",
      "source": [
        "train_data.shape"
      ],
      "metadata": {
        "colab": {
          "base_uri": "https://localhost:8080/"
        },
        "id": "nM6EwJs3wrL-",
        "outputId": "348b812e-ae81-4ce6-f936-8b6280208507"
      },
      "execution_count": null,
      "outputs": [
        {
          "output_type": "execute_result",
          "data": {
            "text/plain": [
              "(2400, 6)"
            ]
          },
          "metadata": {},
          "execution_count": 12
        }
      ]
    },
    {
      "cell_type": "code",
      "source": [
        "train_data.to_csv('train_data.csv')\n",
        "eval_data.to_csv('eval_data.csv')\n"
      ],
      "metadata": {
        "id": "zPvJgszewvfC"
      },
      "execution_count": null,
      "outputs": []
    },
    {
      "cell_type": "code",
      "source": [
        "import csv\n",
        "\n",
        "# this is for the train data\n",
        "\n",
        "# Open the CSV file and read the contents\n",
        "with open('/content/train_data.csv', 'r', encoding='utf-8') as csvfile:\n",
        "    reader = csv.DictReader(csvfile)\n",
        "    data = [row['article'] for row in reader]\n",
        "\n",
        "# Write the contents to a text file\n",
        "with open('/content/train_dataset.txt', 'w', encoding='utf-8') as txtfile:\n",
        "    txtfile.write('\\n'.join(data))\n"
      ],
      "metadata": {
        "id": "zWhtJPb6rQeC"
      },
      "execution_count": null,
      "outputs": []
    },
    {
      "cell_type": "code",
      "source": [
        "# import csv\n",
        "\n",
        "# this is for the evaluate data\n",
        "\n",
        "# Open the CSV file and read the contents\n",
        "with open('/content/eval_data.csv', 'r', encoding='utf-8') as csvfile:\n",
        "    reader = csv.DictReader(csvfile)\n",
        "    data = [row['article'] for row in reader]\n",
        "\n",
        "# Write the contents to a text file\n",
        "with open('/content/eval_dataset.txt', 'w', encoding='utf-8') as txtfile:\n",
        "    txtfile.write('\\n'.join(data))\n"
      ],
      "metadata": {
        "id": "fTOqWtRMxB6d"
      },
      "execution_count": null,
      "outputs": []
    },
    {
      "cell_type": "code",
      "source": [
        "pip install transformers"
      ],
      "metadata": {
        "colab": {
          "base_uri": "https://localhost:8080/"
        },
        "id": "BKe_TIrZtQ7U",
        "outputId": "3499fda0-02e3-4fbf-cee2-3379f6698041"
      },
      "execution_count": null,
      "outputs": [
        {
          "output_type": "stream",
          "name": "stdout",
          "text": [
            "Looking in indexes: https://pypi.org/simple, https://us-python.pkg.dev/colab-wheels/public/simple/\n",
            "Requirement already satisfied: transformers in /usr/local/lib/python3.9/dist-packages (4.27.4)\n",
            "Requirement already satisfied: filelock in /usr/local/lib/python3.9/dist-packages (from transformers) (3.10.7)\n",
            "Requirement already satisfied: packaging>=20.0 in /usr/local/lib/python3.9/dist-packages (from transformers) (23.0)\n",
            "Requirement already satisfied: pyyaml>=5.1 in /usr/local/lib/python3.9/dist-packages (from transformers) (6.0)\n",
            "Requirement already satisfied: requests in /usr/local/lib/python3.9/dist-packages (from transformers) (2.27.1)\n",
            "Requirement already satisfied: huggingface-hub<1.0,>=0.11.0 in /usr/local/lib/python3.9/dist-packages (from transformers) (0.13.4)\n",
            "Requirement already satisfied: tokenizers!=0.11.3,<0.14,>=0.11.1 in /usr/local/lib/python3.9/dist-packages (from transformers) (0.13.3)\n",
            "Requirement already satisfied: numpy>=1.17 in /usr/local/lib/python3.9/dist-packages (from transformers) (1.22.4)\n",
            "Requirement already satisfied: tqdm>=4.27 in /usr/local/lib/python3.9/dist-packages (from transformers) (4.65.0)\n",
            "Requirement already satisfied: regex!=2019.12.17 in /usr/local/lib/python3.9/dist-packages (from transformers) (2022.10.31)\n",
            "Requirement already satisfied: typing-extensions>=3.7.4.3 in /usr/local/lib/python3.9/dist-packages (from huggingface-hub<1.0,>=0.11.0->transformers) (4.5.0)\n",
            "Requirement already satisfied: charset-normalizer~=2.0.0 in /usr/local/lib/python3.9/dist-packages (from requests->transformers) (2.0.12)\n",
            "Requirement already satisfied: urllib3<1.27,>=1.21.1 in /usr/local/lib/python3.9/dist-packages (from requests->transformers) (1.26.15)\n",
            "Requirement already satisfied: idna<4,>=2.5 in /usr/local/lib/python3.9/dist-packages (from requests->transformers) (3.4)\n",
            "Requirement already satisfied: certifi>=2017.4.17 in /usr/local/lib/python3.9/dist-packages (from requests->transformers) (2022.12.7)\n"
          ]
        }
      ]
    },
    {
      "cell_type": "code",
      "source": [
        "from transformers import GPT2Tokenizer, GPT2LMHeadModel, TextDataset, DataCollatorForLanguageModeling, Trainer, TrainingArguments\n"
      ],
      "metadata": {
        "id": "D2rcW8IEtEh0"
      },
      "execution_count": null,
      "outputs": []
    },
    {
      "cell_type": "code",
      "source": [
        "# Load the pre-trained GPT-2 tokenizer and model\n",
        "tokenizer = GPT2Tokenizer.from_pretrained('gpt2')\n",
        "model = GPT2LMHeadModel.from_pretrained('gpt2')\n"
      ],
      "metadata": {
        "id": "72GRRK53thcU"
      },
      "execution_count": null,
      "outputs": []
    },
    {
      "cell_type": "code",
      "source": [
        "# Prepare your dataset by creating a TextDataset object\n",
        "train_dataset = TextDataset(\n",
        "    tokenizer=tokenizer,\n",
        "    file_path='/content/train_dataset.txt',\n",
        "    block_size=128\n",
        ")\n",
        "\n"
      ],
      "metadata": {
        "colab": {
          "base_uri": "https://localhost:8080/"
        },
        "id": "teLEUf84tmnS",
        "outputId": "29f1c4a4-e4b7-48d5-8231-4f32349d982a"
      },
      "execution_count": null,
      "outputs": [
        {
          "output_type": "stream",
          "name": "stderr",
          "text": [
            "/usr/local/lib/python3.9/dist-packages/transformers/data/datasets/language_modeling.py:53: FutureWarning: This dataset will be removed from the library soon, preprocessing should be handled with the 🤗 Datasets library. You can have a look at this example script for pointers: https://github.com/huggingface/transformers/blob/main/examples/pytorch/language-modeling/run_mlm.py\n",
            "  warnings.warn(\n"
          ]
        }
      ]
    },
    {
      "cell_type": "code",
      "source": [
        "# Prepare your dataset by creating a TextDataset object\n",
        "eval_dataset = TextDataset(\n",
        "    tokenizer=tokenizer,\n",
        "    file_path='/content/eval_dataset.txt',\n",
        "    block_size=128\n",
        ")\n"
      ],
      "metadata": {
        "id": "6XwMGM9axeRF"
      },
      "execution_count": null,
      "outputs": []
    },
    {
      "cell_type": "code",
      "source": [
        "# pip install pytorch-lightning[callbacks]"
      ],
      "metadata": {
        "id": "3USyqXlI9ix_"
      },
      "execution_count": null,
      "outputs": []
    },
    {
      "cell_type": "code",
      "source": [
        "# pip install pytorch-lightning==1.2.7"
      ],
      "metadata": {
        "id": "FD4LjOwQ-Z4Y"
      },
      "execution_count": null,
      "outputs": []
    },
    {
      "cell_type": "code",
      "source": [
        "# pip install --upgrade pytorch-lightning\n"
      ],
      "metadata": {
        "id": "2izCjJu1-8Wz"
      },
      "execution_count": null,
      "outputs": []
    },
    {
      "cell_type": "code",
      "source": [
        "# pip uninstall pytorch-lightning\n"
      ],
      "metadata": {
        "id": "7lNMRGxH_2Sm"
      },
      "execution_count": null,
      "outputs": []
    },
    {
      "cell_type": "code",
      "source": [
        "# pip freeze | grep pytorch-lightning\n"
      ],
      "metadata": {
        "id": "OBnQWp5T_3Po"
      },
      "execution_count": null,
      "outputs": []
    },
    {
      "cell_type": "code",
      "source": [
        "pip install pytorch-lightning\n"
      ],
      "metadata": {
        "colab": {
          "base_uri": "https://localhost:8080/"
        },
        "id": "kLSlI2rj_4zr",
        "outputId": "62a65ae1-4b33-4f81-8e52-e25a2d03b69c"
      },
      "execution_count": null,
      "outputs": [
        {
          "output_type": "stream",
          "name": "stdout",
          "text": [
            "Looking in indexes: https://pypi.org/simple, https://us-python.pkg.dev/colab-wheels/public/simple/\n",
            "Requirement already satisfied: pytorch-lightning in /usr/local/lib/python3.9/dist-packages (2.0.1)\n",
            "Requirement already satisfied: fsspec[http]>2021.06.0 in /usr/local/lib/python3.9/dist-packages (from pytorch-lightning) (2023.3.0)\n",
            "Requirement already satisfied: PyYAML>=5.4 in /usr/local/lib/python3.9/dist-packages (from pytorch-lightning) (6.0)\n",
            "Requirement already satisfied: torchmetrics>=0.7.0 in /usr/local/lib/python3.9/dist-packages (from pytorch-lightning) (0.11.4)\n",
            "Requirement already satisfied: torch>=1.11.0 in /usr/local/lib/python3.9/dist-packages (from pytorch-lightning) (2.0.0+cu118)\n",
            "Requirement already satisfied: tqdm>=4.57.0 in /usr/local/lib/python3.9/dist-packages (from pytorch-lightning) (4.65.0)\n",
            "Requirement already satisfied: numpy>=1.17.2 in /usr/local/lib/python3.9/dist-packages (from pytorch-lightning) (1.22.4)\n",
            "Requirement already satisfied: lightning-utilities>=0.7.0 in /usr/local/lib/python3.9/dist-packages (from pytorch-lightning) (0.8.0)\n",
            "Requirement already satisfied: packaging>=17.1 in /usr/local/lib/python3.9/dist-packages (from pytorch-lightning) (23.0)\n",
            "Requirement already satisfied: typing-extensions>=4.0.0 in /usr/local/lib/python3.9/dist-packages (from pytorch-lightning) (4.5.0)\n",
            "Requirement already satisfied: aiohttp!=4.0.0a0,!=4.0.0a1 in /usr/local/lib/python3.9/dist-packages (from fsspec[http]>2021.06.0->pytorch-lightning) (3.8.4)\n",
            "Requirement already satisfied: requests in /usr/local/lib/python3.9/dist-packages (from fsspec[http]>2021.06.0->pytorch-lightning) (2.27.1)\n",
            "Requirement already satisfied: networkx in /usr/local/lib/python3.9/dist-packages (from torch>=1.11.0->pytorch-lightning) (3.0)\n",
            "Requirement already satisfied: jinja2 in /usr/local/lib/python3.9/dist-packages (from torch>=1.11.0->pytorch-lightning) (3.1.2)\n",
            "Requirement already satisfied: sympy in /usr/local/lib/python3.9/dist-packages (from torch>=1.11.0->pytorch-lightning) (1.11.1)\n",
            "Requirement already satisfied: filelock in /usr/local/lib/python3.9/dist-packages (from torch>=1.11.0->pytorch-lightning) (3.10.7)\n",
            "Requirement already satisfied: triton==2.0.0 in /usr/local/lib/python3.9/dist-packages (from torch>=1.11.0->pytorch-lightning) (2.0.0)\n",
            "Requirement already satisfied: cmake in /usr/local/lib/python3.9/dist-packages (from triton==2.0.0->torch>=1.11.0->pytorch-lightning) (3.25.2)\n",
            "Requirement already satisfied: lit in /usr/local/lib/python3.9/dist-packages (from triton==2.0.0->torch>=1.11.0->pytorch-lightning) (16.0.0)\n",
            "Requirement already satisfied: async-timeout<5.0,>=4.0.0a3 in /usr/local/lib/python3.9/dist-packages (from aiohttp!=4.0.0a0,!=4.0.0a1->fsspec[http]>2021.06.0->pytorch-lightning) (4.0.2)\n",
            "Requirement already satisfied: yarl<2.0,>=1.0 in /usr/local/lib/python3.9/dist-packages (from aiohttp!=4.0.0a0,!=4.0.0a1->fsspec[http]>2021.06.0->pytorch-lightning) (1.8.2)\n",
            "Requirement already satisfied: aiosignal>=1.1.2 in /usr/local/lib/python3.9/dist-packages (from aiohttp!=4.0.0a0,!=4.0.0a1->fsspec[http]>2021.06.0->pytorch-lightning) (1.3.1)\n",
            "Requirement already satisfied: frozenlist>=1.1.1 in /usr/local/lib/python3.9/dist-packages (from aiohttp!=4.0.0a0,!=4.0.0a1->fsspec[http]>2021.06.0->pytorch-lightning) (1.3.3)\n",
            "Requirement already satisfied: multidict<7.0,>=4.5 in /usr/local/lib/python3.9/dist-packages (from aiohttp!=4.0.0a0,!=4.0.0a1->fsspec[http]>2021.06.0->pytorch-lightning) (6.0.4)\n",
            "Requirement already satisfied: attrs>=17.3.0 in /usr/local/lib/python3.9/dist-packages (from aiohttp!=4.0.0a0,!=4.0.0a1->fsspec[http]>2021.06.0->pytorch-lightning) (22.2.0)\n",
            "Requirement already satisfied: charset-normalizer<4.0,>=2.0 in /usr/local/lib/python3.9/dist-packages (from aiohttp!=4.0.0a0,!=4.0.0a1->fsspec[http]>2021.06.0->pytorch-lightning) (2.0.12)\n",
            "Requirement already satisfied: MarkupSafe>=2.0 in /usr/local/lib/python3.9/dist-packages (from jinja2->torch>=1.11.0->pytorch-lightning) (2.1.2)\n",
            "Requirement already satisfied: certifi>=2017.4.17 in /usr/local/lib/python3.9/dist-packages (from requests->fsspec[http]>2021.06.0->pytorch-lightning) (2022.12.7)\n",
            "Requirement already satisfied: idna<4,>=2.5 in /usr/local/lib/python3.9/dist-packages (from requests->fsspec[http]>2021.06.0->pytorch-lightning) (3.4)\n",
            "Requirement already satisfied: urllib3<1.27,>=1.21.1 in /usr/local/lib/python3.9/dist-packages (from requests->fsspec[http]>2021.06.0->pytorch-lightning) (1.26.15)\n",
            "Requirement already satisfied: mpmath>=0.19 in /usr/local/lib/python3.9/dist-packages (from sympy->torch>=1.11.0->pytorch-lightning) (1.3.0)\n"
          ]
        }
      ]
    },
    {
      "cell_type": "code",
      "source": [
        "\n",
        "# Set up the model checkpoint callback\n",
        "checkpoint_callback = ModelCheckpoint(\n",
        "    dirpath='./checkpoints',\n",
        "    filename='checkpoint-{epoch:02d}',\n",
        "    save_top_k=2,\n",
        "    monitor='loss',\n",
        "    mode='min',\n",
        "    save_last=True,\n",
        ")\n",
        "\n",
        "trainer = Trainer(\n",
        "    model=model,\n",
        "    args=training_args,\n",
        "    train_dataset=train_dataset,\n",
        "    data_collator=data_collator,\n",
        "    eval_dataset=eval_dataset,\n",
        "    callbacks=[checkpoint_callback]\n",
        ")\n"
      ],
      "metadata": {
        "id": "ncs3B3vN8g-q"
      },
      "execution_count": null,
      "outputs": []
    },
    {
      "cell_type": "code",
      "source": [
        "class CustomModelCheckpoint(ModelCheckpoint):\n",
        "    def on_train_start(self, trainer, pl_module):\n",
        "        super().on_train_start(trainer, pl_module)\n",
        "        # Your custom code here\n",
        "\n",
        "checkpoint_callback = CustomModelCheckpoint(\n",
        "    dirpath='./checkpoints',\n",
        "    filename='checkpoint-{epoch:02d}',\n",
        "    save_top_k=2,\n",
        "    monitor='loss',\n",
        "    mode='min',\n",
        "    save_last=True,\n",
        ")\n",
        "\n",
        "trainer = Trainer(\n",
        "    model=model,\n",
        "    args=training_args,\n",
        "    train_dataset=train_dataset,\n",
        "    data_collator=data_collator,\n",
        "    eval_dataset=eval_dataset,\n",
        "    callbacks=[checkpoint_callback]\n",
        ")\n"
      ],
      "metadata": {
        "id": "fRw2tZt_Mdvl"
      },
      "execution_count": null,
      "outputs": []
    },
    {
      "cell_type": "code",
      "source": [
        "from transformers import EarlyStoppingCallback, IntervalStrategy\n",
        "from pytorch_lightning.callbacks import ModelCheckpoint\n",
        "\n",
        "# Set up the trainer with the appropriate training arguments\n",
        "training_args = TrainingArguments(\n",
        "    output_dir='./results',\n",
        "    evaluation_strategy='epoch',\n",
        "    learning_rate=5e-5,\n",
        "    per_device_train_batch_size=16,\n",
        "    num_train_epochs=5,\n",
        "    save_total_limit=2,\n",
        ")\n",
        "\n",
        "data_collator = DataCollatorForLanguageModeling(tokenizer=tokenizer, mlm=False)\n"
      ],
      "metadata": {
        "id": "zaBQDJbaB5ws"
      },
      "execution_count": null,
      "outputs": []
    },
    {
      "cell_type": "code",
      "source": [
        "class CustomModelCheckpoint(ModelCheckpoint):\n",
        "    def on_train_start(self, trainer, pl_module):\n",
        "        super().on_train_start(trainer, pl_module)\n",
        "        # Your custom code here\n",
        "\n",
        "\n",
        "checkpoint_callback = CustomModelCheckpoint(\n",
        "    dirpath='./checkpoints',\n",
        "    filename='checkpoint-{epoch:02d}',\n",
        "    save_top_k=2,\n",
        "    monitor='loss',\n",
        "    mode='min',\n",
        "    save_last=True,\n",
        ")\n",
        "\n",
        "trainer = Trainer(\n",
        "    model=model,\n",
        "    args=training_args,\n",
        "    train_dataset=train_dataset,\n",
        "    data_collator=data_collator,\n",
        "    eval_dataset=eval_dataset,\n",
        "    callbacks=[checkpoint_callback]\n",
        ")\n"
      ],
      "metadata": {
        "id": "i5rC9T0cBs70"
      },
      "execution_count": null,
      "outputs": []
    },
    {
      "cell_type": "code",
      "source": [
        "# # Set up the trainer with the appropriate training arguments\n",
        "# training_args = TrainingArguments(\n",
        "#     output_dir='./results',\n",
        "#     evaluation_strategy='epoch',\n",
        "#     learning_rate=5e-5,\n",
        "#     per_device_train_batch_size=16,\n",
        "#     num_train_epochs=5,\n",
        "#     save_total_limit=2,\n",
        "# )\n",
        "# data_collator = DataCollatorForLanguageModeling(tokenizer=tokenizer, mlm=False)\n",
        "# trainer = Trainer(\n",
        "#     model=model,\n",
        "#     args=training_args,\n",
        "#     train_dataset=train_dataset,\n",
        "#     data_collator=data_collator,\n",
        "#     eval_dataset=eval_dataset\n",
        "# )\n",
        "\n"
      ],
      "metadata": {
        "id": "fD9QozNhttZB"
      },
      "execution_count": null,
      "outputs": []
    },
    {
      "cell_type": "code",
      "source": [
        "# Fine-tune the model on your dataset\n",
        "trainer.train()\n"
      ],
      "metadata": {
        "colab": {
          "base_uri": "https://localhost:8080/",
          "height": 322
        },
        "id": "dDQ6Mbrgt1UP",
        "outputId": "94b533c0-674f-4222-9b4f-7b4a6e0b3b44"
      },
      "execution_count": null,
      "outputs": [
        {
          "output_type": "stream",
          "name": "stderr",
          "text": [
            "/usr/local/lib/python3.9/dist-packages/transformers/optimization.py:391: FutureWarning: This implementation of AdamW is deprecated and will be removed in a future version. Use the PyTorch implementation torch.optim.AdamW instead, or set `no_deprecation_warning=True` to disable this warning\n",
            "  warnings.warn(\n"
          ]
        },
        {
          "output_type": "display_data",
          "data": {
            "text/plain": [
              "<IPython.core.display.HTML object>"
            ],
            "text/html": [
              "\n",
              "    <div>\n",
              "      \n",
              "      <progress value='4615' max='4615' style='width:300px; height:20px; vertical-align: middle;'></progress>\n",
              "      [4615/4615 46:19, Epoch 5/5]\n",
              "    </div>\n",
              "    <table border=\"1\" class=\"dataframe\">\n",
              "  <thead>\n",
              " <tr style=\"text-align: left;\">\n",
              "      <th>Epoch</th>\n",
              "      <th>Training Loss</th>\n",
              "      <th>Validation Loss</th>\n",
              "    </tr>\n",
              "  </thead>\n",
              "  <tbody>\n",
              "    <tr>\n",
              "      <td>1</td>\n",
              "      <td>3.592800</td>\n",
              "      <td>3.346953</td>\n",
              "    </tr>\n",
              "    <tr>\n",
              "      <td>2</td>\n",
              "      <td>3.289700</td>\n",
              "      <td>3.309886</td>\n",
              "    </tr>\n",
              "    <tr>\n",
              "      <td>3</td>\n",
              "      <td>3.157100</td>\n",
              "      <td>3.297071</td>\n",
              "    </tr>\n",
              "    <tr>\n",
              "      <td>4</td>\n",
              "      <td>3.089000</td>\n",
              "      <td>3.296507</td>\n",
              "    </tr>\n",
              "    <tr>\n",
              "      <td>5</td>\n",
              "      <td>3.043300</td>\n",
              "      <td>3.298493</td>\n",
              "    </tr>\n",
              "  </tbody>\n",
              "</table><p>"
            ]
          },
          "metadata": {}
        },
        {
          "output_type": "execute_result",
          "data": {
            "text/plain": [
              "TrainOutput(global_step=4615, training_loss=3.218702177004334, metrics={'train_runtime': 2783.1486, 'train_samples_per_second': 26.52, 'train_steps_per_second': 1.658, 'total_flos': 4821491220480000.0, 'train_loss': 3.218702177004334, 'epoch': 5.0})"
            ]
          },
          "metadata": {},
          "execution_count": 23
        }
      ]
    },
    {
      "cell_type": "code",
      "source": [
        "trainer.evaluate()"
      ],
      "metadata": {
        "colab": {
          "base_uri": "https://localhost:8080/",
          "height": 124
        },
        "id": "prIthD5_W1Gm",
        "outputId": "83355f0d-f2d7-4e2c-c444-83e6b4fbc253"
      },
      "execution_count": null,
      "outputs": [
        {
          "output_type": "display_data",
          "data": {
            "text/plain": [
              "<IPython.core.display.HTML object>"
            ],
            "text/html": [
              "\n",
              "    <div>\n",
              "      \n",
              "      <progress value='464' max='464' style='width:300px; height:20px; vertical-align: middle;'></progress>\n",
              "      [464/464 00:39]\n",
              "    </div>\n",
              "    "
            ]
          },
          "metadata": {}
        },
        {
          "output_type": "execute_result",
          "data": {
            "text/plain": [
              "{'eval_loss': 3.298492670059204,\n",
              " 'eval_runtime': 39.8979,\n",
              " 'eval_samples_per_second': 92.937,\n",
              " 'eval_steps_per_second': 11.63,\n",
              " 'epoch': 5.0}"
            ]
          },
          "metadata": {},
          "execution_count": 24
        }
      ]
    },
    {
      "cell_type": "code",
      "source": [
        "trainer"
      ],
      "metadata": {
        "id": "j2m1KtL2W9Us",
        "colab": {
          "base_uri": "https://localhost:8080/"
        },
        "outputId": "081572f9-0d44-4d31-9dc9-680eee88d765"
      },
      "execution_count": null,
      "outputs": [
        {
          "output_type": "execute_result",
          "data": {
            "text/plain": [
              "<transformers.trainer.Trainer at 0x7f49064843d0>"
            ]
          },
          "metadata": {},
          "execution_count": 25
        }
      ]
    },
    {
      "cell_type": "code",
      "source": [
        "pip install torch"
      ],
      "metadata": {
        "colab": {
          "base_uri": "https://localhost:8080/"
        },
        "id": "VJmPE27_DT5u",
        "outputId": "fb3432ba-6134-4ee2-ad5d-c70a8c397878"
      },
      "execution_count": null,
      "outputs": [
        {
          "output_type": "stream",
          "name": "stdout",
          "text": [
            "Looking in indexes: https://pypi.org/simple, https://us-python.pkg.dev/colab-wheels/public/simple/\n",
            "Requirement already satisfied: torch in /usr/local/lib/python3.9/dist-packages (2.0.0+cu118)\n",
            "Requirement already satisfied: networkx in /usr/local/lib/python3.9/dist-packages (from torch) (3.0)\n",
            "Requirement already satisfied: triton==2.0.0 in /usr/local/lib/python3.9/dist-packages (from torch) (2.0.0)\n",
            "Requirement already satisfied: jinja2 in /usr/local/lib/python3.9/dist-packages (from torch) (3.1.2)\n",
            "Requirement already satisfied: sympy in /usr/local/lib/python3.9/dist-packages (from torch) (1.11.1)\n",
            "Requirement already satisfied: filelock in /usr/local/lib/python3.9/dist-packages (from torch) (3.10.7)\n",
            "Requirement already satisfied: typing-extensions in /usr/local/lib/python3.9/dist-packages (from torch) (4.5.0)\n",
            "Requirement already satisfied: cmake in /usr/local/lib/python3.9/dist-packages (from triton==2.0.0->torch) (3.25.2)\n",
            "Requirement already satisfied: lit in /usr/local/lib/python3.9/dist-packages (from triton==2.0.0->torch) (16.0.0)\n",
            "Requirement already satisfied: MarkupSafe>=2.0 in /usr/local/lib/python3.9/dist-packages (from jinja2->torch) (2.1.2)\n",
            "Requirement already satisfied: mpmath>=0.19 in /usr/local/lib/python3.9/dist-packages (from sympy->torch) (1.3.0)\n"
          ]
        }
      ]
    },
    {
      "cell_type": "code",
      "source": [
        "import torch"
      ],
      "metadata": {
        "id": "AEj0iM-_DWjs"
      },
      "execution_count": null,
      "outputs": []
    },
    {
      "cell_type": "code",
      "source": [
        "# model.to('cuda')a# Convert the model to CPU\n",
        "\n",
        "model = model.to(torch.device('cpu'))\n"
      ],
      "metadata": {
        "id": "b57VIFZN_T4Y"
      },
      "execution_count": null,
      "outputs": []
    },
    {
      "cell_type": "code",
      "source": [
        "\n",
        "# Generate text using the fine-tuned model\n",
        "prompt = 'which is the best phone that i can buy ?'\n",
        "generated_text = model.generate(\n",
        "    input_ids=tokenizer.encode(prompt, return_tensors='pt'),\n",
        "    max_length=200,\n",
        "    do_sample=True,\n",
        "    top_k=50,\n",
        "    top_p=0.95,\n",
        "    temperature=1.0,\n",
        ")\n",
        "\n",
        "print(tokenizer.decode(generated_text[0], skip_special_tokens=True))"
      ],
      "metadata": {
        "colab": {
          "base_uri": "https://localhost:8080/"
        },
        "id": "m5dUnEdWt6nP",
        "outputId": "31ec0106-5c6e-4211-ddb5-a53bb311cc1c"
      },
      "execution_count": null,
      "outputs": [
        {
          "output_type": "stream",
          "name": "stderr",
          "text": [
            "The attention mask and the pad token id were not set. As a consequence, you may observe unexpected behavior. Please pass your input's `attention_mask` to obtain reliable results.\n",
            "Setting `pad_token_id` to `eos_token_id`:50256 for open-end generation.\n"
          ]
        },
        {
          "output_type": "stream",
          "name": "stdout",
          "text": [
            "which is the best phone that i can buy?) for just $99. And then, with the exception of the base model, only $34 when it comes to hardware. The iPhone 5 is coming in two models, one with $799 in cash and one with $999 in cash, but with both starting at $1,599 in cash and $999 in cash.  The iPhone SE has $999 and $999. The iPhone 12 is coming in two versions with the base model and the entry-level models with the entry-level model with the entry-level model. If you’re new to the line of iPhones and want to upgrade in price, this is your option. If you’ve made it that far in your life and have a budget, this isn’t the phone for you.  Buy your iPhone SE  and the iPhone SE   are the best and the best phones for you in the long run. The  iPhone  is not\n"
          ]
        }
      ]
    },
    {
      "cell_type": "code",
      "source": [
        "# trainer.save_model('Second_Model_GPT2-Epoch_3_1000')"
      ],
      "metadata": {
        "id": "-GZrLfH4X2G9"
      },
      "execution_count": null,
      "outputs": []
    },
    {
      "cell_type": "code",
      "source": [
        "# import zipfile\n",
        "# zip_ref = zipfile.ZipFile(\"Model_2_GPT-2_Epoch_3_1000.zip\", \"r\")\n",
        "# zip_ref.extractall()\n",
        "# zip_ref.close()"
      ],
      "metadata": {
        "id": "QJUIMeuH_ugz"
      },
      "execution_count": null,
      "outputs": []
    },
    {
      "cell_type": "code",
      "source": [
        "import joblib\n",
        "\n",
        "# joblib.dump(model, 'SecondModel_Epoch_3_1000_2.joblib')"
      ],
      "metadata": {
        "id": "3wewl0cLLYYv"
      },
      "execution_count": null,
      "outputs": []
    },
    {
      "cell_type": "code",
      "source": [
        "\n",
        "\n",
        "joblib.dump(model, 'Model_Epoch_5_3000.joblib')"
      ],
      "metadata": {
        "colab": {
          "base_uri": "https://localhost:8080/"
        },
        "id": "8PinWs-VDqLC",
        "outputId": "0cef35ad-ce79-455c-afa1-2dd5cd296b2d"
      },
      "execution_count": null,
      "outputs": [
        {
          "output_type": "execute_result",
          "data": {
            "text/plain": [
              "['Model_Epoch_5_3000.joblib']"
            ]
          },
          "metadata": {},
          "execution_count": 33
        }
      ]
    },
    {
      "cell_type": "code",
      "source": [
        "joblib.dump(tokenizer, 'tokenizer_5_3000.joblib')\n"
      ],
      "metadata": {
        "colab": {
          "base_uri": "https://localhost:8080/"
        },
        "id": "TrJO_8NmGWM3",
        "outputId": "aa792995-ecc7-439e-ea93-103c933799b0"
      },
      "execution_count": null,
      "outputs": [
        {
          "output_type": "execute_result",
          "data": {
            "text/plain": [
              "['tokenizer_5_3000.joblib']"
            ]
          },
          "metadata": {},
          "execution_count": 34
        }
      ]
    },
    {
      "cell_type": "code",
      "source": [],
      "metadata": {
        "id": "mQlOrgdUGG_Z"
      },
      "execution_count": null,
      "outputs": []
    },
    {
      "cell_type": "code",
      "source": [
        "loaded_model_joblib=joblib.load('SecondModel_Epoch_3_1000_2.joblib')"
      ],
      "metadata": {
        "id": "JNdlc7YtLx4G"
      },
      "execution_count": null,
      "outputs": []
    },
    {
      "cell_type": "code",
      "source": [
        "loaded_model_joblib"
      ],
      "metadata": {
        "colab": {
          "base_uri": "https://localhost:8080/"
        },
        "id": "ffswWlNC7V9f",
        "outputId": "f59d9079-2761-44aa-c9de-90ce6dabd206"
      },
      "execution_count": null,
      "outputs": [
        {
          "output_type": "execute_result",
          "data": {
            "text/plain": [
              "GPT2LMHeadModel(\n",
              "  (transformer): GPT2Model(\n",
              "    (wte): Embedding(50257, 768)\n",
              "    (wpe): Embedding(1024, 768)\n",
              "    (drop): Dropout(p=0.1, inplace=False)\n",
              "    (h): ModuleList(\n",
              "      (0-11): 12 x GPT2Block(\n",
              "        (ln_1): LayerNorm((768,), eps=1e-05, elementwise_affine=True)\n",
              "        (attn): GPT2Attention(\n",
              "          (c_attn): Conv1D()\n",
              "          (c_proj): Conv1D()\n",
              "          (attn_dropout): Dropout(p=0.1, inplace=False)\n",
              "          (resid_dropout): Dropout(p=0.1, inplace=False)\n",
              "        )\n",
              "        (ln_2): LayerNorm((768,), eps=1e-05, elementwise_affine=True)\n",
              "        (mlp): GPT2MLP(\n",
              "          (c_fc): Conv1D()\n",
              "          (c_proj): Conv1D()\n",
              "          (act): NewGELUActivation()\n",
              "          (dropout): Dropout(p=0.1, inplace=False)\n",
              "        )\n",
              "      )\n",
              "    )\n",
              "    (ln_f): LayerNorm((768,), eps=1e-05, elementwise_affine=True)\n",
              "  )\n",
              "  (lm_head): Linear(in_features=768, out_features=50257, bias=False)\n",
              ")"
            ]
          },
          "metadata": {},
          "execution_count": 35
        }
      ]
    },
    {
      "cell_type": "code",
      "source": [
        "loaded_model_joblib"
      ],
      "metadata": {
        "id": "48rFugCaL6Sz"
      },
      "execution_count": null,
      "outputs": []
    },
    {
      "cell_type": "code",
      "source": [
        "import joblib as jb"
      ],
      "metadata": {
        "id": "a2YFZW6lMISB"
      },
      "execution_count": null,
      "outputs": []
    },
    {
      "cell_type": "code",
      "source": [
        "jb.dump(model,'model_jb.pkl')"
      ],
      "metadata": {
        "id": "OXGm8JGwMlQ8"
      },
      "execution_count": null,
      "outputs": []
    },
    {
      "cell_type": "code",
      "source": [
        "loaded_model = jb.load('model_jb.pkl')"
      ],
      "metadata": {
        "id": "o0Y5jn9qMskS"
      },
      "execution_count": null,
      "outputs": []
    },
    {
      "cell_type": "code",
      "source": [
        "\n",
        "# Generate text using the fine-tuned model\n",
        "prompt = 'which is the best phone that i can buy ?'\n",
        "generated_text = loaded_model.generate(\n",
        "    input_ids=tokenizer.encode(prompt, return_tensors='pt').to('cuda'),\n",
        "    max_length=200,\n",
        "    do_sample=True,\n",
        "    top_k=50,\n",
        "    top_p=0.95,\n",
        "    temperature=1.0,\n",
        ")\n",
        "\n",
        "print(tokenizer.decode(generated_text[0], skip_special_tokens=True))"
      ],
      "metadata": {
        "id": "RT6AQ776M9eh"
      },
      "execution_count": null,
      "outputs": []
    },
    {
      "cell_type": "markdown",
      "source": [
        "#new method"
      ],
      "metadata": {
        "id": "vTNn_KC60n6M"
      }
    },
    {
      "cell_type": "code",
      "source": [
        "import joblib as jb"
      ],
      "metadata": {
        "id": "cWnFRwah0m6W"
      },
      "execution_count": null,
      "outputs": []
    },
    {
      "cell_type": "code",
      "source": [
        "pip install transformers"
      ],
      "metadata": {
        "colab": {
          "base_uri": "https://localhost:8080/"
        },
        "id": "uKN4MpRI1Dgz",
        "outputId": "e196b0e7-02cf-421e-84fe-cc99d30c5c25"
      },
      "execution_count": null,
      "outputs": [
        {
          "output_type": "stream",
          "name": "stdout",
          "text": [
            "Looking in indexes: https://pypi.org/simple, https://us-python.pkg.dev/colab-wheels/public/simple/\n",
            "Collecting transformers\n",
            "  Downloading transformers-4.27.4-py3-none-any.whl (6.8 MB)\n",
            "\u001b[2K     \u001b[90m━━━━━━━━━━━━━━━━━━━━━━━━━━━━━━━━━━━━━━━━\u001b[0m \u001b[32m6.8/6.8 MB\u001b[0m \u001b[31m93.5 MB/s\u001b[0m eta \u001b[36m0:00:00\u001b[0m\n",
            "\u001b[?25hRequirement already satisfied: filelock in /usr/local/lib/python3.9/dist-packages (from transformers) (3.11.0)\n",
            "Requirement already satisfied: tqdm>=4.27 in /usr/local/lib/python3.9/dist-packages (from transformers) (4.65.0)\n",
            "Collecting tokenizers!=0.11.3,<0.14,>=0.11.1\n",
            "  Downloading tokenizers-0.13.3-cp39-cp39-manylinux_2_17_x86_64.manylinux2014_x86_64.whl (7.8 MB)\n",
            "\u001b[2K     \u001b[90m━━━━━━━━━━━━━━━━━━━━━━━━━━━━━━━━━━━━━━━━\u001b[0m \u001b[32m7.8/7.8 MB\u001b[0m \u001b[31m80.6 MB/s\u001b[0m eta \u001b[36m0:00:00\u001b[0m\n",
            "\u001b[?25hRequirement already satisfied: numpy>=1.17 in /usr/local/lib/python3.9/dist-packages (from transformers) (1.22.4)\n",
            "Collecting huggingface-hub<1.0,>=0.11.0\n",
            "  Downloading huggingface_hub-0.13.4-py3-none-any.whl (200 kB)\n",
            "\u001b[2K     \u001b[90m━━━━━━━━━━━━━━━━━━━━━━━━━━━━━━━━━━━━━━\u001b[0m \u001b[32m200.1/200.1 kB\u001b[0m \u001b[31m23.6 MB/s\u001b[0m eta \u001b[36m0:00:00\u001b[0m\n",
            "\u001b[?25hRequirement already satisfied: packaging>=20.0 in /usr/local/lib/python3.9/dist-packages (from transformers) (23.0)\n",
            "Requirement already satisfied: pyyaml>=5.1 in /usr/local/lib/python3.9/dist-packages (from transformers) (6.0)\n",
            "Requirement already satisfied: regex!=2019.12.17 in /usr/local/lib/python3.9/dist-packages (from transformers) (2022.10.31)\n",
            "Requirement already satisfied: requests in /usr/local/lib/python3.9/dist-packages (from transformers) (2.27.1)\n",
            "Requirement already satisfied: typing-extensions>=3.7.4.3 in /usr/local/lib/python3.9/dist-packages (from huggingface-hub<1.0,>=0.11.0->transformers) (4.5.0)\n",
            "Requirement already satisfied: certifi>=2017.4.17 in /usr/local/lib/python3.9/dist-packages (from requests->transformers) (2022.12.7)\n",
            "Requirement already satisfied: urllib3<1.27,>=1.21.1 in /usr/local/lib/python3.9/dist-packages (from requests->transformers) (1.26.15)\n",
            "Requirement already satisfied: idna<4,>=2.5 in /usr/local/lib/python3.9/dist-packages (from requests->transformers) (3.4)\n",
            "Requirement already satisfied: charset-normalizer~=2.0.0 in /usr/local/lib/python3.9/dist-packages (from requests->transformers) (2.0.12)\n",
            "Installing collected packages: tokenizers, huggingface-hub, transformers\n",
            "Successfully installed huggingface-hub-0.13.4 tokenizers-0.13.3 transformers-4.27.4\n"
          ]
        }
      ]
    },
    {
      "cell_type": "code",
      "source": [
        "import transformers as tf\n"
      ],
      "metadata": {
        "id": "tK6Zn-N71IKw"
      },
      "execution_count": null,
      "outputs": []
    },
    {
      "cell_type": "code",
      "source": [
        "loaded_model=jb.load('/content/drive/MyDrive/Model_Epoch_5_3000.joblib')"
      ],
      "metadata": {
        "id": "m2pRR5DR075q"
      },
      "execution_count": null,
      "outputs": []
    },
    {
      "cell_type": "code",
      "source": [
        "loaded_tokenizer=jb.load('/content/drive/MyDrive/tokenizer_5_3000.joblib')"
      ],
      "metadata": {
        "id": "TUjU3QNM1w6t"
      },
      "execution_count": null,
      "outputs": []
    },
    {
      "cell_type": "code",
      "source": [
        "loaded_model"
      ],
      "metadata": {
        "colab": {
          "base_uri": "https://localhost:8080/"
        },
        "id": "gp36yBKv1CHA",
        "outputId": "7e91dbbe-bf71-400d-dc6b-209894df84cf"
      },
      "execution_count": null,
      "outputs": [
        {
          "output_type": "execute_result",
          "data": {
            "text/plain": [
              "GPT2LMHeadModel(\n",
              "  (transformer): GPT2Model(\n",
              "    (wte): Embedding(50257, 768)\n",
              "    (wpe): Embedding(1024, 768)\n",
              "    (drop): Dropout(p=0.1, inplace=False)\n",
              "    (h): ModuleList(\n",
              "      (0-11): 12 x GPT2Block(\n",
              "        (ln_1): LayerNorm((768,), eps=1e-05, elementwise_affine=True)\n",
              "        (attn): GPT2Attention(\n",
              "          (c_attn): Conv1D()\n",
              "          (c_proj): Conv1D()\n",
              "          (attn_dropout): Dropout(p=0.1, inplace=False)\n",
              "          (resid_dropout): Dropout(p=0.1, inplace=False)\n",
              "        )\n",
              "        (ln_2): LayerNorm((768,), eps=1e-05, elementwise_affine=True)\n",
              "        (mlp): GPT2MLP(\n",
              "          (c_fc): Conv1D()\n",
              "          (c_proj): Conv1D()\n",
              "          (act): NewGELUActivation()\n",
              "          (dropout): Dropout(p=0.1, inplace=False)\n",
              "        )\n",
              "      )\n",
              "    )\n",
              "    (ln_f): LayerNorm((768,), eps=1e-05, elementwise_affine=True)\n",
              "  )\n",
              "  (lm_head): Linear(in_features=768, out_features=50257, bias=False)\n",
              ")"
            ]
          },
          "metadata": {},
          "execution_count": 7
        }
      ]
    },
    {
      "cell_type": "code",
      "source": [
        "loaded_tokenizer"
      ],
      "metadata": {
        "colab": {
          "base_uri": "https://localhost:8080/"
        },
        "id": "lKLIufva14j8",
        "outputId": "17149686-1560-4d9d-a3f0-40afde437cbc"
      },
      "execution_count": null,
      "outputs": [
        {
          "output_type": "execute_result",
          "data": {
            "text/plain": [
              "GPT2Tokenizer(name_or_path='gpt2', vocab_size=50257, model_max_length=1024, is_fast=False, padding_side='right', truncation_side='right', special_tokens={'bos_token': AddedToken(\"<|endoftext|>\", rstrip=False, lstrip=False, single_word=False, normalized=True), 'eos_token': AddedToken(\"<|endoftext|>\", rstrip=False, lstrip=False, single_word=False, normalized=True), 'unk_token': AddedToken(\"<|endoftext|>\", rstrip=False, lstrip=False, single_word=False, normalized=True)})"
            ]
          },
          "metadata": {},
          "execution_count": 9
        }
      ]
    },
    {
      "cell_type": "code",
      "source": [
        "\n",
        "# Generate text using the fine-tuned model\n",
        "prompt = 'what is the use of machine learning'\n",
        "generated_text = loaded_model.generate(\n",
        "    input_ids=loaded_tokenizer.encode(prompt, return_tensors='pt'),\n",
        "    max_length=200,\n",
        "    do_sample=True,\n",
        "    top_k=50,\n",
        "    top_p=0.95,\n",
        "    temperature=1.0,\n",
        "    # num_beams=5,\n",
        "    # early_stopping=True\n",
        ")\n",
        "\n",
        "print(loaded_tokenizer.decode(generated_text[0],\n",
        "                       skip_special_tokens=True\n",
        "                       ))"
      ],
      "metadata": {
        "colab": {
          "base_uri": "https://localhost:8080/"
        },
        "id": "DhJXGKsE1ZvQ",
        "outputId": "5e04950c-7324-487b-d958-6673e400aba3"
      },
      "execution_count": null,
      "outputs": [
        {
          "output_type": "stream",
          "name": "stderr",
          "text": [
            "The attention mask and the pad token id were not set. As a consequence, you may observe unexpected behavior. Please pass your input's `attention_mask` to obtain reliable results.\n",
            "Setting `pad_token_id` to `eos_token_id`:50256 for open-end generation.\n"
          ]
        },
        {
          "output_type": "stream",
          "name": "stdout",
          "text": [
            "what is the use of machine learning here? You’re talking about an AI program that can do a very deep search of a person’s body, so much like Google. A user, like a doctor, might want to look at a person’s body, or their whole body of their brain. And you see this sort of machine learning that could change and maybe even change where a person is located. How do you find that? It’s kind of like the machine learning of the Internet, which it has a lot of power in that it provides better information than people can use it. It could be a little bit more of a human voice or an electronic medical record. Or it could be in a cell phone, in a cell phone booth. And so on. Now, it’s not a matter of having a data scientist or a person-scientist [at all], but rather, it’s like, in this case, you get\n"
          ]
        }
      ]
    },
    {
      "cell_type": "code",
      "source": [
        "def generated_text(input):\n",
        "  input_ids=loaded_tokenizer.encode(input,return_tensors='tf')\n",
        "  beam_output=loaded_model.generate(input_ids,\n",
        "                                    max_length=200,\n",
        "                                    num_beams=5,\n",
        "                                    no_repeat_ngram_size=2,\n",
        "                                    early_stopping=True)\n",
        "  ouput=loaded_tokenizer.decode(beam_output[0],\n",
        "                                skip_special_tokens=True,\n",
        "                                clean_up_tokenization_spaces=True)\n",
        "  \n",
        "  # return '.'.join(output.split('.')[:-1]) + \".\"\n",
        "  return output"
      ],
      "metadata": {
        "id": "ZlFmjEhR1nXK"
      },
      "execution_count": null,
      "outputs": []
    },
    {
      "cell_type": "code",
      "source": [
        "def generated_text(input):\n",
        "  input_ids = loaded_tokenizer.encode(input, return_tensors='pt')\n",
        "  beam_output = loaded_model.generate(input_ids,\n",
        "                                      max_length=200,\n",
        "                                      num_beams=5,\n",
        "                                      no_repeat_ngram_size=2,\n",
        "                                      early_stopping=True)\n",
        "  output = loaded_tokenizer.decode(beam_output[0].tolist(),  # Convert to list\n",
        "                                   skip_special_tokens=True,\n",
        "                                   clean_up_tokenization_spaces=True)\n",
        "  return '.'.join(output.split('.')[:-1]) + \".\"\n"
      ],
      "metadata": {
        "id": "f5-N8qoR3h3R"
      },
      "execution_count": null,
      "outputs": []
    },
    {
      "cell_type": "code",
      "source": [
        "generated_text('what is deep learning ?')"
      ],
      "metadata": {
        "colab": {
          "base_uri": "https://localhost:8080/",
          "height": 183
        },
        "id": "sDDI7zg82xG5",
        "outputId": "163a68f3-f8e7-4aa2-a5c2-e07971eac2b2"
      },
      "execution_count": null,
      "outputs": [
        {
          "output_type": "stream",
          "name": "stderr",
          "text": [
            "The attention mask and the pad token id were not set. As a consequence, you may observe unexpected behavior. Please pass your input's `attention_mask` to obtain reliable results.\n",
            "Setting `pad_token_id` to `eos_token_id`:50256 for open-end generation.\n"
          ]
        },
        {
          "output_type": "execute_result",
          "data": {
            "text/plain": [
              "'what is deep learning? It’s a new kind of machine learning that can be applied to a lot of different kinds of data sets,” he said. “It can tell the difference between a human being and a robot. It can also tell a story about a person or a machine. And it can do that in a way that is very human-like. So we think that Deep Learning is going to be a big part of the future of artificial intelligence, because it will be able to tell stories that are not just human, but also machine, and that will have a huge impact on the way people think about data and how they interact with it. We believe that this is the next frontier of AI, so we are excited to work with them to bring it to the forefront of this new era of human interaction and AI in the real world.\\nGoogle today  announced  that it has raised a $2.'"
            ],
            "application/vnd.google.colaboratory.intrinsic+json": {
              "type": "string"
            }
          },
          "metadata": {},
          "execution_count": 12
        }
      ]
    },
    {
      "cell_type": "code",
      "source": [
        "from gensim.models import KeyedVectors\n",
        "from nltk.tokenize import word_tokenize\n",
        "import numpy as np\n",
        "import gensim.downloader as api"
      ],
      "metadata": {
        "id": "2kvJHfD8t7zI"
      },
      "execution_count": null,
      "outputs": []
    },
    {
      "cell_type": "code",
      "source": [
        "\n",
        "\n",
        "# Load pre-trained word embeddings\n",
        "word_vectors =api.load('word2vec-google-news-300')\n",
        "\n"
      ],
      "metadata": {
        "colab": {
          "base_uri": "https://localhost:8080/"
        },
        "id": "SxvcqUfeuAgj",
        "outputId": "98a868a6-c2e0-4070-a27a-bd8f7a652cf6"
      },
      "execution_count": null,
      "outputs": [
        {
          "output_type": "stream",
          "name": "stdout",
          "text": [
            "[=================================================-] 99.9% 1660.8/1662.8MB downloaded\n"
          ]
        }
      ]
    },
    {
      "cell_type": "code",
      "source": [
        "import nltk\n",
        "nltk.download('punkt')"
      ],
      "metadata": {
        "colab": {
          "base_uri": "https://localhost:8080/"
        },
        "id": "WdZ15cMxyWgq",
        "outputId": "96e7d6d4-3f19-483d-fca7-f9d30569738f"
      },
      "execution_count": null,
      "outputs": [
        {
          "output_type": "stream",
          "name": "stderr",
          "text": [
            "[nltk_data] Downloading package punkt to /root/nltk_data...\n",
            "[nltk_data]   Unzipping tokenizers/punkt.zip.\n"
          ]
        },
        {
          "output_type": "execute_result",
          "data": {
            "text/plain": [
              "True"
            ]
          },
          "metadata": {},
          "execution_count": 107
        }
      ]
    },
    {
      "cell_type": "code",
      "source": [
        "import torch"
      ],
      "metadata": {
        "id": "ldMHp5PXybnr"
      },
      "execution_count": null,
      "outputs": []
    },
    {
      "cell_type": "code",
      "source": [
        "def check(input):\n",
        "  input_ids = loaded_tokenizer.encode(input, return_tensors='pt')\n",
        "    \n",
        "    # Create attention mask\n",
        "  attention_mask = torch.ones(input_ids.shape, dtype=torch.long, device=input_ids.device)\n",
        "    \n",
        "    # Generate text with attention mask and pad token ID\n",
        "  beam_output = loaded_model.generate(\n",
        "        input_ids=input_ids,\n",
        "        attention_mask=attention_mask,\n",
        "        max_length=200,\n",
        "        num_beams=5,\n",
        "        no_repeat_ngram_size=2,\n",
        "        early_stopping=True,\n",
        "        pad_token_id=loaded_tokenizer.pad_token_id,\n",
        "        eos_token_id=loaded_tokenizer.eos_token_id,\n",
        "        bos_token_id=loaded_tokenizer.bos_token_id,\n",
        "        \n",
        "    )\n",
        "    \n",
        "  output = loaded_tokenizer.decode(beam_output[0].tolist(),\n",
        "                                    skip_special_tokens=True,\n",
        "                                    clean_up_tokenization_spaces=True)\n",
        "    \n",
        "  return '.'.join(output.split('.')[:-1]) + \".\"\n"
      ],
      "metadata": {
        "id": "1ayb9oYL0UMP"
      },
      "execution_count": null,
      "outputs": []
    },
    {
      "cell_type": "code",
      "source": [
        "def new_generated_text(input):\n",
        "\n",
        "  string1='''Algorithm,Analytics,Android,Antivirus,API,App,Application,Artificial intelligence,Augmented reality,Automation,Backend,Bandwidth,Binary,Bit,Bitcoin,Blockchain,Blog,Bluetooth,Bot,Browser,Cache,Camera,CDN,Chatbot,Circuit,Cloud,CMS,Code,Compiler,Computer,Computing,Cryptography,CSS,Cybersecurity,Data,Database,Debugging,Deep learning,Desktop,DevOps,Device,Digital,Display,Disruptive technology,Domain,Download,E-commerce,Edge computing,Email,Encryption,Enterprise,Event,File,Firmware,Firewall,Framework,Freeware,Frontend,Function,Gateway,Geolocation,GIF,Google,GPU,Graphic design,Grid computing,Growth hacking,Guest post,Gzip,Hardware,Headphones,HTML,HTTP,HTTPS,Hyperlink,Hypertext,IAAS,IDE,Inbound marketing,Index,Information,Infrastructure,Innovation,Input,Interface,Internet,Internet of things,IOS,IP,IP address,IPv4,IPv6,Java,JavaScript,JSON,Keyword,LAMP,LAN,Language,Laptop,Laravel,Layer,Linux,Load balancer,Localhost,Log,Machine learning,Malware,Marketing,Metadata,Microservices,Middleware,Migration,ML,Mobile,Model,Multimedia,MySQL,Native app,Network,Neural network,Nginx,Node.js,Object-oriented programming,Online,Operating system,Optimization,OS,Outsourcing,Overlay,Packet,Password,PC,Performance,Perl,PHP,Platform,Plugin,PM,Podcast,Port,Power bank,Privacy,Processor,Programming,Protocol,Python,Query,Queue,RAM,Ransomware,React,Reboot,Responsive design,REST,Robotics,Ruby,SAAS,Scalability,Scanner,Schema,Script,SDN,Search engine optimization,Security,Server,Service,Shell,SMTP,Software,Source code,Speech recognition,SQL,SSH,SSL,Startup,Storage,Streaming,Subnet,Supercomputer,SVG,System,Tablet,TCP/IP,Technology,Tensorflow,Terminal,Testing,Text editor,Theme,Third-party,Timeline,Traffic,Transmission,Typeface,UI,UNIX,Update,Upload,URL,User,UX,Vector,Version control,Video,Virtual machine,Virtual reality,Virtualization,VPN,Vulnerability,Web,Web design,Web development,Web hosting,Web server,WebGL,Website,Widget,Wireless,WordPress,XML,XSS,YAML,Zend,Zip,ZoomArtificial Intelligence, Machine Learning, Data Science, Big Data, Cloud Computing, Cybersecurity, Internet of Things (IoT), Blockchain, Robotics, Virtual Reality (VR), Augmented Reality (AR), Natural Language Processing (NLP), Quantum Computing, 5G, Edge Computing, DevOps, Agile, Software Engineering, Computer Vision, Deep Learning, Neural Networks, Chatbots, Digital Transformation, Smart Cities, Smart Homes, Industry 4.0, Autonomous Vehicles, Drones, Wearable Technology, Biometric Authentication, Human-Computer Interaction (HCI), User Experience (UX), User Interface (UI), Product Management, Project Management, Agile Development, Scrum, Lean Startup, Growth Hacking, Data Analytics, Business Intelligence (BI), Customer Relationship Management (CRM), Enterprise Resource Planning (ERP), Supply Chain Management, e-Commerce, Digital Marketing, Search Engine Optimization (SEO), Social Media Marketing, Content Marketing, Email Marketing, Affiliate Marketing, Influencer Marketing, Mobile Marketing, Marketing Automation, Customer Acquisition, Customer Retention, Conversion Rate Optimization (CRO), A/B Testing, User Testing, User Research, Design Thinking, User-Centered Design (UCD), Graphic Design, Web Design, Mobile Design, Game Design, Product Design, Interaction Design, Information Architecture, Front-end Development, Back-end Development, Full-stack Development, JavaScript, Python, Java, Ruby, PHP, C++, C#, Swift, Kotlin, TypeScript, HTML, CSS, React, Angular, Vue.js, Node.js, Express.js, Django, Flask, Spring, Ruby on Rails, Laravel, WordPress, Magento, Shopify, WooCommerce, Amazon Web Services (AWS), Microsoft Azure, Google Cloud Platform, Firebase, Heroku, DigitalOcean, GitHub, GitLab, Bitbucket, Jenkins, Docker, Kubernetes, Ansible, Terraform, Elasticsearch, Logstash, Kibana, Grafana, Prometheus, Nagios, Splunk, Zabbix, New Relic, Sumo Logic, Apache Kafka, Apache Spark, Hadoop, MongoDB, MySQL, PostgreSQL, Oracle, Microsoft SQL Server, Redis, Cassandra, Couchbase, Neo4j, Elasticsearch, Solr, Lucene, Nginx, Apache HTTP Server, IIS, Apache Tomcat, Redis, Ansible Tower, Ansible Engine, Ansible Workbench, Ansible Galaxy, Ansible Core, Puppet, Chef, Salt, Vagrant, Consul, Nomad, Packer, OpenStack, Kubernetes-native, Serverless, Docker Swarm, Amazon ECS, Google Kubernetes Engine, Azure Container Service, Microsoft Azure Container Instances, Istio, Knative, OpenShift, Mesosphere, DC/OS, Fargate, Lambda, Azure Functions, Google Cloud Functions, OpenFaaS, Kubeless, AWS Lambda, Serverless Framework, AWS AppSync, GraphQL, Hasura, Prisma, Apollo, Nuxt.js, Gatsby, Next.js, Storybook, Jest, Cypress, Puppeteer, Selenium, Playwright, React Native, Ionic, Flutter, SwiftUI, Kotlin Multiplatform, Mobile App Development, MAlgorithm,Analytics,Android,Antivirus,API,App,Application,Artificial intelligence,Augmented reality,Automation,Backend,Bandwidth,Binary,Bit,Bitcoin,Blockchain,Blog,Bluetooth,Bot,Browser,Cache,Camera,CDN,Chatbot,Circuit,Cloud,CMS,Code,Compiler,Computer,Computing,Cryptography,CSS,Cybersecurity,Data,Database,Debugging,Deep learning,Desktop,DevOps,Device,Digital,Display,Disruptive technology,Domain,Download,E-commerce,Edge computing,Email,Encryption,Enterprise,Event,File,Firmware,Firewall,Framework,Freeware,Frontend,Function,Gateway,Geolocation,GIF,Google,GPU,Graphic design,Grid computing,Growth hacking,Guest post,Gzip,Hardware,Headphones,HTML,HTTP,HTTPS,Hyperlink,Hypertext,IAAS,IDE,Inbound marketing,Index,Information,Infrastructure,Innovation,Input,Interface,Internet,Internet of things,IOS,IP,IP address,IPv4,IPv6,Java,JavaScript,JSON,Keyword,LAMP,LAN,Language,Laptop,Laravel,Layer,Linux,Load balancer,Localhost,Log,Machine learning,Malware,Marketing,Metadata,Microservices,Middleware,Migration,ML,Mobile,Model,Multimedia,MySQL,Native app,Network,Neural network,Nginx,Node.js,Object-oriented programming,Online,Operating system,Optimization,OS,Outsourcing,Overlay,Packet,Password,PC,Performance,Perl,PHP,Platform,Plugin,PM,Podcast,Port,Power bank,Privacy,Processor,Programming,Protocol,Python,Query,Queue,RAM,Ransomware,React,Reboot,Responsive design,REST,Robotics,Ruby,SAAS,Scalability,Scanner,Schema,Script,SDN,Search engine optimization,Security,Server,Service,Shell,SMTP,Software,Source code,Speech recognition,SQL,SSH,SSL,Startup,Storage,Streaming,Subnet,Supercomputer,SVG,System,Tablet,TCP/IP,Technology,Tensorflow,Terminal,Testing,Text editor,Theme,Third-party,Timeline,Traffic,Transmission,Typeface,UI,UNIX,Update,Upload,URL,User,UX,Vector,Version control,Video,Virtual machine,Virtual reality,Virtualization,VPN,Vulnerability,Web,Web design,Web development,Web hosting,Web server,WebGL,Website,Widget,WirelesAlgorithm,Analytics,Android,Antivirus,API,App,Application,Artificial intelligence,Augmented reality,Automation,Backend,Bandwidth,Binary,Bit,Bitcoin,Blockchain,Blog,Bluetooth,Bot,Browser,Cache,Camera,CDN,Chatbot,Circuit,Cloud,CMS,Code,Compiler,Computer,Computing,Cryptography,CSS,Cybersecurity,Data,Database,Debugging,Deep learning,Desktop,DevOps,Device,Digital,Display,Disruptive technology,Domain,Download,E-commerce,Edge computing,Email,Encryption,Enterprise,Event,File,Firmware,Firewall,Framework,Freeware,Frontend,Function,Gateway,Geolocation,GIF,Google,GPU,Graphic design,Grid computing,Growth hacking,Guest post,Gzip,Hardware,Headphones,HTML,HTTP,HTTPS,Hyperlink,Hypertext,IAAS,IDE,Inbound marketing,Index,Information,Infrastructure,Innovation,Input,Interface,Internet,Internet of things,IOS,IP,IP address,IPv4,IPv6,Java,JavaScript,JSON,Keyword,LAMP,LAN,Language,Laptop,Laravel,Layer,Linux,Load balancer,Localhost,Log,Machine learning,Malware,Marketing,Metadata,Microservices,Middleware,Migration,ML,Mobile,Model,Multimedia,MySQL,Native app,Network,Neural network,Nginx,Node.js,Object-oriented programming,Online,Operating system,Optimization,OS,Outsourcing,Overlay,Packet,Password,PC,Performance,Perl,PHP,Platform,Plugin,PM,Podcast,Port,Power bank,Privacy,Processor,Programming,Protocol,Python,Query,Queue,RAM,Ransomware,React,Reboot,Responsive design,REST,Robotics,Ruby,SAAS,Scalability,Scanner,Schema,Script,SDN,Search engine optimization,Security,Server,Service,Shell,SMTP,Software,Source code,Speech recognition,SQL,SSH,SSL,Startup,Storage,Streaming,Subnet,Supercomputer,SVG,System,Tablet,TCP/IP,Technology,Tensorflow,Terminal,Testing,Text editor,Theme,Third-party,Timeline,Traffic,Transmission,Typeface,UI,UNIX,Update,Upload,URL,User,UX,Vector,Version control,Video,Virtual machine,Virtual reality,Virtualization,VPN,Vulnerability,Web,Web design,Web development,Web hosting,Web server,WebGL,Website,Widget,Wireless,WordPress,XML,XSS,YAML,Zend,Zip,Zooms,WordPress,XML,XSS,YAML,Zend,Zip,Zoomobile App Design, Mobile App Marketing, Mobile App Monetization, Mobile App Analytics, Mobile App User Acquisition, Mobile App User Retention, Mobile App User Engagement, Mobile App Push Notifications, Mobile App Personalization, Mobile App A/B Testing, Mobile App User Experience (UX), Mobile App User Interface (UI), Mobile App Accessibility, Mobile App Performance Optimization, Mobile App Security, Mobile App Privacy, Mobile App Data Analytics, Mobile App Business Intelligence, Mobile App CRM, Mobile App Customer Support, Mobile App Localization, Mobile App Internationalization, Mobile App Store Optimization (ASO), Mobile App Promotion, Mobile App Influencer,Apple, Samsung, Google Pixel, OnePlus, Xiaomi, Huawei, Oppo, Vivo, Realme, Sony Xperia, LG, Motorola, Nokia, HTC, BlackBerry, Asus Zenfone, Lenovo, ZTE, Meizu, Honor, Micromax, Karbonn, Lava, Intex, Gionee, Coolpad, Infinix, Tecno, Itel, Swipe, LYF, Jio, Reliance, Vivo, Panasonic, Philips, Sharp, Toshiba, Acer, Dell, HP, Lenovo ThinkPad, Microsoft Surface, Razer Phone, Redmi, Poco, Micromax Canvas, Yu, Asus ROG, Essential Phone, Alcatel, CAT, Black Shark, Elephone, Nokia Lumia, Mobiistar, Google Nexus, Google Pixel, LeEco, LeTV, Meizu, Motorola Moto, Nextbit Robin, Nvidia Shield, Obi Worldphone, OnePlus One, Oppo R, Samsung Galaxy, Sony Xperia, Ulefone'''\n",
        "  string1=string1.replace(',','')\n",
        "  tokens1 = word_tokenize(string1.lower())\n",
        "  tokens2 = word_tokenize(input.lower())\n",
        "\n",
        "# Convert tokens to vectors\n",
        "  vector1 = np.mean([word_vectors[token] for token in tokens1 if token in word_vectors], axis=0)\n",
        "  vector2 = np.mean([word_vectors[token] for token in tokens2 if token in word_vectors], axis=0)\n",
        "\n",
        "  \n",
        "# Calculate cosine similarity between the two vectors\n",
        "  similarity = np.dot(vector1, vector2) / (np.linalg.norm(vector1) * np.linalg.norm(vector2))\n",
        "  print(f'the similarity score is {similarity}')\n",
        "  answer='As an AI langauge model, I have been trained to generate output that is only related to Technology domain. Therefore, I would not be able to answer your question.'\n",
        "  \n",
        "  if input in string1 or input in string1.lower():\n",
        "    return check(input)\n",
        "  elif similarity<=0.35:\n",
        "    return answer\n",
        "  else:\n",
        "    return check(input)\n",
        "    \n",
        "\n",
        "  "
      ],
      "metadata": {
        "id": "8X9Klhle5e6I"
      },
      "execution_count": null,
      "outputs": []
    },
    {
      "cell_type": "code",
      "source": [
        "new_generated_text('f')"
      ],
      "metadata": {
        "colab": {
          "base_uri": "https://localhost:8080/",
          "height": 72
        },
        "id": "Fg7wdHZPwas-",
        "outputId": "e3c17dbf-d6e5-4ae6-94b1-a8f89798bf89"
      },
      "execution_count": null,
      "outputs": [
        {
          "output_type": "stream",
          "name": "stdout",
          "text": [
            "the similarity score is 0.15153177082538605\n"
          ]
        },
        {
          "output_type": "execute_result",
          "data": {
            "text/plain": [
              "'As an AI langauge model, I have been trained to generate output that is only related to Technology domain. Therefore, I would not be able to answer your question.'"
            ],
            "application/vnd.google.colaboratory.intrinsic+json": {
              "type": "string"
            }
          },
          "metadata": {},
          "execution_count": 18
        }
      ]
    },
    {
      "cell_type": "code",
      "source": [
        "  string1='''Artificial Intelligence, Machine Learning, Data Science, Big Data, Cloud Computing, Cybersecurity, Internet of Things (IoT), Blockchain, Robotics, Virtual Reality (VR), Augmented Reality (AR), Natural Language Processing (NLP), Quantum Computing, 5G, Edge Computing, DevOps, Agile, Software Engineering, Computer Vision, Deep Learning, Neural Networks, Chatbots, Digital Transformation, Smart Cities, Smart Homes, Industry 4.0, Autonomous Vehicles, Drones, Wearable Technology, Biometric Authentication, Human-Computer Interaction (HCI), User Experience (UX), User Interface (UI), Product Management, Project Management, Agile Development, Scrum, Lean Startup, Growth Hacking, Data Analytics, Business Intelligence (BI), Customer Relationship Management (CRM), Enterprise Resource Planning (ERP), Supply Chain Management, e-Commerce, Digital Marketing, Search Engine Optimization (SEO), Social Media Marketing, Content Marketing, Email Marketing, Affiliate Marketing, Influencer Marketing, Mobile Marketing, Marketing Automation, Customer Acquisition, Customer Retention, Conversion Rate Optimization (CRO), A/B Testing, User Testing, User Research, Design Thinking, User-Centered Design (UCD), Graphic Design, Web Design, Mobile Design, Game Design, Product Design, Interaction Design, Information Architecture, Front-end Development, Back-end Development, Full-stack Development, JavaScript, Python, Java, Ruby, PHP, C++, C#, Swift, Kotlin, TypeScript, HTML, CSS, React, Angular, Vue.js, Node.js, Express.js, Django, Flask, Spring, Ruby on Rails, Laravel, WordPress, Magento, Shopify, WooCommerce, Amazon Web Services (AWS), Microsoft Azure, Google Cloud Platform, Firebase, Heroku, DigitalOcean, GitHub, GitLab, Bitbucket, Jenkins, Docker, Kubernetes, Ansible, Terraform, Elasticsearch, Logstash, Kibana, Grafana, Prometheus, Nagios, Splunk, Zabbix, New Relic, Sumo Logic, Apache Kafka, Apache Spark, Hadoop, MongoDB, MySQL, PostgreSQL, Oracle, Microsoft SQL Server, Redis, Cassandra, Couchbase, Neo4j, Elasticsearch, Solr, Lucene, Nginx, Apache HTTP Server, IIS, Apache Tomcat, Redis, Ansible Tower, Ansible Engine, Ansible Workbench, Ansible Galaxy, Ansible Core, Puppet, Chef, Salt, Vagrant, Consul, Nomad, Packer, OpenStack, Kubernetes-native, Serverless, Docker Swarm, Amazon ECS, Google Kubernetes Engine, Azure Container Service, Microsoft Azure Container Instances, Istio, Knative, OpenShift, Mesosphere, DC/OS, Fargate, Lambda, Azure Functions, Google Cloud Functions, OpenFaaS, Kubeless, AWS Lambda, Serverless Framework, AWS AppSync, GraphQL, Hasura, Prisma, Apollo, Nuxt.js, Gatsby, Next.js, Storybook, Jest, Cypress, Puppeteer, Selenium, Playwright, React Native, Ionic, Flutter, SwiftUI, Kotlin Multiplatform, Mobile App Development, MAlgorithm,Analytics,Android,Antivirus,API,App,Application,Artificial intelligence,Augmented reality,Automation,Backend,Bandwidth,Binary,Bit,Bitcoin,Blockchain,Blog,Bluetooth,Bot,Browser,Cache,Camera,CDN,Chatbot,Circuit,Cloud,CMS,Code,Compiler,Computer,Computing,Cryptography,CSS,Cybersecurity,Data,Database,Debugging,Deep learning,Desktop,DevOps,Device,Digital,Display,Disruptive technology,Domain,Download,E-commerce,Edge computing,Email,Encryption,Enterprise,Event,File,Firmware,Firewall,Framework,Freeware,Frontend,Function,Gateway,Geolocation,GIF,Google,GPU,Graphic design,Grid computing,Growth hacking,Guest post,Gzip,Hardware,Headphones,HTML,HTTP,HTTPS,Hyperlink,Hypertext,IAAS,IDE,Inbound marketing,Index,Information,Infrastructure,Innovation,Input,Interface,Internet,Internet of things,IOS,IP,IP address,IPv4,IPv6,Java,JavaScript,JSON,Keyword,LAMP,LAN,Language,Laptop,Laravel,Layer,Linux,Load balancer,Localhost,Log,Machine learning,Malware,Marketing,Metadata,Microservices,Middleware,Migration,ML,Mobile,Model,Multimedia,MySQL,Native app,Network,Neural network,Nginx,Node.js,Object-oriented programming,Online,Operating system,Optimization,OS,Outsourcing,Overlay,Packet,Password,PC,Performance,Perl,PHP,Platform,Plugin,PM,Podcast,Port,Power bank,Privacy,Processor,Programming,Protocol,Python,Query,Queue,RAM,Ransomware,React,Reboot,Responsive design,REST,Robotics,Ruby,SAAS,Scalability,Scanner,Schema,Script,SDN,Search engine optimization,Security,Server,Service,Shell,SMTP,Software,Source code,Speech recognition,SQL,SSH,SSL,Startup,Storage,Streaming,Subnet,Supercomputer,SVG,System,Tablet,TCP/IP,Technology,Tensorflow,Terminal,Testing,Text editor,Theme,Third-party,Timeline,Traffic,Transmission,Typeface,UI,UNIX,Update,Upload,URL,User,UX,Vector,Version control,Video,Virtual machine,Virtual reality,Virtualization,VPN,Vulnerability,Web,Web design,Web development,Web hosting,Web server,WebGL,Website,Widget,WirelesAlgorithm,Analytics,Android,Antivirus,API,App,Application,Artificial intelligence,Augmented reality,Automation,Backend,Bandwidth,Binary,Bit,Bitcoin,Blockchain,Blog,Bluetooth,Bot,Browser,Cache,Camera,CDN,Chatbot,Circuit,Cloud,CMS,Code,Compiler,Computer,Computing,Cryptography,CSS,Cybersecurity,Data,Database,Debugging,Deep learning,Desktop,DevOps,Device,Digital,Display,Disruptive technology,Domain,Download,E-commerce,Edge computing,Email,Encryption,Enterprise,Event,File,Firmware,Firewall,Framework,Freeware,Frontend,Function,Gateway,Geolocation,GIF,Google,GPU,Graphic design,Grid computing,Growth hacking,Guest post,Gzip,Hardware,Headphones,HTML,HTTP,HTTPS,Hyperlink,Hypertext,IAAS,IDE,Inbound marketing,Index,Information,Infrastructure,Innovation,Input,Interface,Internet,Internet of things,IOS,IP,IP address,IPv4,IPv6,Java,JavaScript,JSON,Keyword,LAMP,LAN,Language,Laptop,Laravel,Layer,Linux,Load balancer,Localhost,Log,Machine learning,Malware,Marketing,Metadata,Microservices,Middleware,Migration,ML,Mobile,Model,Multimedia,MySQL,Native app,Network,Neural network,Nginx,Node.js,Object-oriented programming,Online,Operating system,Optimization,OS,Outsourcing,Overlay,Packet,Password,PC,Performance,Perl,PHP,Platform,Plugin,PM,Podcast,Port,Power bank,Privacy,Processor,Programming,Protocol,Python,Query,Queue,RAM,Ransomware,React,Reboot,Responsive design,REST,Robotics,Ruby,SAAS,Scalability,Scanner,Schema,Script,SDN,Search engine optimization,Security,Server,Service,Shell,SMTP,Software,Source code,Speech recognition,SQL,SSH,SSL,Startup,Storage,Streaming,Subnet,Supercomputer,SVG,System,Tablet,TCP/IP,Technology,Tensorflow,Terminal,Testing,Text editor,Theme,Third-party,Timeline,Traffic,Transmission,Typeface,UI,UNIX,Update,Upload,URL,User,UX,Vector,Version control,Video,Virtual machine,Virtual reality,Virtualization,VPN,Vulnerability,Web,Web design,Web development,Web hosting,Web server,WebGL,Website,Widget,Wireless,WordPress,XML,XSS,YAML,Zend,Zip,Zooms,WordPress,XML,XSS,YAML,Zend,Zip,Zoomobile App Design, Mobile App Marketing, Mobile App Monetization, Mobile App Analytics, Mobile App User Acquisition, Mobile App User Retention, Mobile App User Engagement, Mobile App Push Notifications, Mobile App Personalization, Mobile App A/B Testing, Mobile App User Experience (UX), Mobile App User Interface (UI), Mobile App Accessibility, Mobile App Performance Optimization, Mobile App Security, Mobile App Privacy, Mobile App Data Analytics, Mobile App Business Intelligence, Mobile App CRM, Mobile App Customer Support, Mobile App Localization, Mobile App Internationalization, Mobile App Store Optimization (ASO), Mobile App Promotion, Mobile App Influencer,Apple, Samsung, Google Pixel, OnePlus, Xiaomi, Huawei, Oppo, Vivo, Realme, Sony Xperia, LG, Motorola, Nokia, HTC, BlackBerry, Asus Zenfone, Lenovo, ZTE, Meizu, Honor, Micromax, Karbonn, Lava, Intex, Gionee, Coolpad, Infinix, Tecno, Itel, Swipe, LYF, Jio, Reliance, Vivo, Panasonic, Philips, Sharp, Toshiba, Acer, Dell, HP, Lenovo ThinkPad, Microsoft Surface, Razer Phone, Redmi, Poco, Micromax Canvas, Yu, Asus ROG, Essential Phone, Alcatel, CAT, Black Shark, Elephone, Nokia Lumia, Mobiistar, Google Nexus, Google Pixel, LeEco, LeTV, Meizu, Motorola Moto, Nextbit Robin, Nvidia Shield, Obi Worldphone, OnePlus One, Oppo R, Samsung Galaxy, Sony Xperia, Ulefone, Vodafone Smart, Xiaomi Mi, ZTE Nubia.   '''\n"
      ],
      "metadata": {
        "id": "XlJEDY4Ly41s"
      },
      "execution_count": null,
      "outputs": []
    },
    {
      "cell_type": "code",
      "source": [
        "def is_Tech_art(s2):\n",
        "  # Tokenize the strings\n",
        "  tokens1 = word_tokenize(string1.lower())\n",
        "  tokens2 = word_tokenize(s2)\n",
        "\n",
        "# Convert tokens to vectors\n",
        "  vector1 = np.mean([word_vectors[token] for token in tokens1 if token in word_vectors], axis=0)\n",
        "  vector2 = np.mean([word_vectors[token] for token in tokens2 if token in word_vectors], axis=0)\n",
        "\n",
        "# Calculate cosine similarity between the two vectors\n",
        "  similarity = np.dot(vector1, vector2) / (np.linalg.norm(vector1) * np.linalg.norm(vector2))\n",
        "  print(similarity)\n",
        "  if similarity >= 0.55:\n",
        "    return 1\n",
        "  else:\n",
        "    return 0\n",
        "\n"
      ],
      "metadata": {
        "id": "SvUAdwcFyt4I"
      },
      "execution_count": null,
      "outputs": []
    },
    {
      "cell_type": "code",
      "source": [
        "is_Tech_art('give me some knowledge about finance')"
      ],
      "metadata": {
        "colab": {
          "base_uri": "https://localhost:8080/"
        },
        "id": "j-n4uFR8y_SR",
        "outputId": "bd00bb29-3500-415a-984b-c21a76f092c8"
      },
      "execution_count": null,
      "outputs": [
        {
          "output_type": "stream",
          "name": "stdout",
          "text": [
            "0.30888936\n"
          ]
        },
        {
          "output_type": "execute_result",
          "data": {
            "text/plain": [
              "0"
            ]
          },
          "metadata": {},
          "execution_count": 36
        }
      ]
    },
    {
      "cell_type": "code",
      "source": [
        "# def is_Tech_art(s2):\n",
        "#   # Tokenize the strings\n",
        "#   string1='''Artificial Intelligence, Machine Learning, Data Science, Big Data, Cloud Computing, Cybersecurity, Internet of Things (IoT), Blockchain, Robotics, Virtual Reality (VR), Augmented Reality (AR), Natural Language Processing (NLP), Quantum Computing, 5G, Edge Computing, DevOps, Agile, Software Engineering, Computer Vision, Deep Learning, Neural Networks, Chatbots, Digital Transformation, Smart Cities, Smart Homes, Industry 4.0, Autonomous Vehicles, Drones, Wearable Technology, Biometric Authentication, Human-Computer Interaction (HCI), User Experience (UX), User Interface (UI), Product Management, Project Management, Agile Development, Scrum, Lean Startup, Growth Hacking, Data Analytics, Business Intelligence (BI), Customer Relationship Management (CRM), Enterprise Resource Planning (ERP), Supply Chain Management, e-Commerce, Digital Marketing, Search Engine Optimization (SEO), Social Media Marketing, Content Marketing, Email Marketing, Affiliate Marketing, Influencer Marketing, Mobile Marketing, Marketing Automation, Customer Acquisition, Customer Retention, Conversion Rate Optimization (CRO), A/B Testing, User Testing, User Research, Design Thinking, User-Centered Design (UCD), Graphic Design, Web Design, Mobile Design, Game Design, Product Design, Interaction Design, Information Architecture, Front-end Development, Back-end Development, Full-stack Development, JavaScript, Python, Java, Ruby, PHP, C++, C#, Swift, Kotlin, TypeScript, HTML, CSS, React, Angular, Vue.js, Node.js, Express.js, Django, Flask, Spring, Ruby on Rails, Laravel, WordPress, Magento, Shopify, WooCommerce, Amazon Web Services (AWS), Microsoft Azure, Google Cloud Platform, Firebase, Heroku, DigitalOcean, GitHub, GitLab, Bitbucket, Jenkins, Docker, Kubernetes, Ansible, Terraform, Elasticsearch, Logstash, Kibana, Grafana, Prometheus, Nagios, Splunk, Zabbix, New Relic, Sumo Logic, Apache Kafka, Apache Spark, Hadoop, MongoDB, MySQL, PostgreSQL, Oracle, Microsoft SQL Server, Redis, Cassandra, Couchbase, Neo4j, Elasticsearch, Solr, Lucene, Nginx, Apache HTTP Server, IIS, Apache Tomcat, Redis, Ansible Tower, Ansible Engine, Ansible Workbench, Ansible Galaxy, Ansible Core, Puppet, Chef, Salt, Vagrant, Consul, Nomad, Packer, OpenStack, Kubernetes-native, Serverless, Docker Swarm, Amazon ECS, Google Kubernetes Engine, Azure Container Service, Microsoft Azure Container Instances, Istio, Knative, OpenShift, Mesosphere, DC/OS, Fargate, Lambda, Azure Functions, Google Cloud Functions, OpenFaaS, Kubeless, AWS Lambda, Serverless Framework, AWS AppSync, GraphQL, Hasura, Prisma, Apollo, Nuxt.js, Gatsby, Next.js, Storybook, Jest, Cypress, Puppeteer, Selenium, Playwright, React Native, Ionic, Flutter, SwiftUI, Kotlin Multiplatform, Mobile App Development, MAlgorithm,Analytics,Android,Antivirus,API,App,Application,Artificial intelligence,Augmented reality,Automation,Backend,Bandwidth,Binary,Bit,Bitcoin,Blockchain,Blog,Bluetooth,Bot,Browser,Cache,Camera,CDN,Chatbot,Circuit,Cloud,CMS,Code,Compiler,Computer,Computing,Cryptography,CSS,Cybersecurity,Data,Database,Debugging,Deep learning,Desktop,DevOps,Device,Digital,Display,Disruptive technology,Domain,Download,E-commerce,Edge computing,Email,Encryption,Enterprise,Event,File,Firmware,Firewall,Framework,Freeware,Frontend,Function,Gateway,Geolocation,GIF,Google,GPU,Graphic design,Grid computing,Growth hacking,Guest post,Gzip,Hardware,Headphones,HTML,HTTP,HTTPS,Hyperlink,Hypertext,IAAS,IDE,Inbound marketing,Index,Information,Infrastructure,Innovation,Input,Interface,Internet,Internet of things,IOS,IP,IP address,IPv4,IPv6,Java,JavaScript,JSON,Keyword,LAMP,LAN,Language,Laptop,Laravel,Layer,Linux,Load balancer,Localhost,Log,Machine learning,Malware,Marketing,Metadata,Microservices,Middleware,Migration,ML,Mobile,Model,Multimedia,MySQL,Native app,Network,Neural network,Nginx,Node.js,Object-oriented programming,Online,Operating system,Optimization,OS,Outsourcing,Overlay,Packet,Password,PC,Performance,Perl,PHP,Platform,Plugin,PM,Podcast,Port,Power bank,Privacy,Processor,Programming,Protocol,Python,Query,Queue,RAM,Ransomware,React,Reboot,Responsive design,REST,Robotics,Ruby,SAAS,Scalability,Scanner,Schema,Script,SDN,Search engine optimization,Security,Server,Service,Shell,SMTP,Software,Source code,Speech recognition,SQL,SSH,SSL,Startup,Storage,Streaming,Subnet,Supercomputer,SVG,System,Tablet,TCP/IP,Technology,Tensorflow,Terminal,Testing,Text editor,Theme,Third-party,Timeline,Traffic,Transmission,Typeface,UI,UNIX,Update,Upload,URL,User,UX,Vector,Version control,Video,Virtual machine,Virtual reality,Virtualization,VPN,Vulnerability,Web,Web design,Web development,Web hosting,Web server,WebGL,Website,Widget,WirelesAlgorithm,Analytics,Android,Antivirus,API,App,Application,Artificial intelligence,Augmented reality,Automation,Backend,Bandwidth,Binary,Bit,Bitcoin,Blockchain,Blog,Bluetooth,Bot,Browser,Cache,Camera,CDN,Chatbot,Circuit,Cloud,CMS,Code,Compiler,Computer,Computing,Cryptography,CSS,Cybersecurity,Data,Database,Debugging,Deep learning,Desktop,DevOps,Device,Digital,Display,Disruptive technology,Domain,Download,E-commerce,Edge computing,Email,Encryption,Enterprise,Event,File,Firmware,Firewall,Framework,Freeware,Frontend,Function,Gateway,Geolocation,GIF,Google,GPU,Graphic design,Grid computing,Growth hacking,Guest post,Gzip,Hardware,Headphones,HTML,HTTP,HTTPS,Hyperlink,Hypertext,IAAS,IDE,Inbound marketing,Index,Information,Infrastructure,Innovation,Input,Interface,Internet,Internet of things,IOS,IP,IP address,IPv4,IPv6,Java,JavaScript,JSON,Keyword,LAMP,LAN,Language,Laptop,Laravel,Layer,Linux,Load balancer,Localhost,Log,Machine learning,Malware,Marketing,Metadata,Microservices,Middleware,Migration,ML,Mobile,Model,Multimedia,MySQL,Native app,Network,Neural network,Nginx,Node.js,Object-oriented programming,Online,Operating system,Optimization,OS,Outsourcing,Overlay,Packet,Password,PC,Performance,Perl,PHP,Platform,Plugin,PM,Podcast,Port,Power bank,Privacy,Processor,Programming,Protocol,Python,Query,Queue,RAM,Ransomware,React,Reboot,Responsive design,REST,Robotics,Ruby,SAAS,Scalability,Scanner,Schema,Script,SDN,Search engine optimization,Security,Server,Service,Shell,SMTP,Software,Source code,Speech recognition,SQL,SSH,SSL,Startup,Storage,Streaming,Subnet,Supercomputer,SVG,System,Tablet,TCP/IP,Technology,Tensorflow,Terminal,Testing,Text editor,Theme,Third-party,Timeline,Traffic,Transmission,Typeface,UI,UNIX,Update,Upload,URL,User,UX,Vector,Version control,Video,Virtual machine,Virtual reality,Virtualization,VPN,Vulnerability,Web,Web design,Web development,Web hosting,Web server,WebGL,Website,Widget,Wireless,WordPress,XML,XSS,YAML,Zend,Zip,Zooms,WordPress,XML,XSS,YAML,Zend,Zip,Zoomobile App Design, Mobile App Marketing, Mobile App Monetization, Mobile App Analytics, Mobile App User Acquisition, Mobile App User Retention, Mobile App User Engagement, Mobile App Push Notifications, Mobile App Personalization, Mobile App A/B Testing, Mobile App User Experience (UX), Mobile App User Interface (UI), Mobile App Accessibility, Mobile App Performance Optimization, Mobile App Security, Mobile App Privacy, Mobile App Data Analytics, Mobile App Business Intelligence, Mobile App CRM, Mobile App Customer Support, Mobile App Localization, Mobile App Internationalization, Mobile App Store Optimization (ASO), Mobile App Promotion, Mobile App Influencer,Apple, Samsung, Google Pixel, OnePlus, Xiaomi, Huawei, Oppo, Vivo, Realme, Sony Xperia, LG, Motorola, Nokia, HTC, BlackBerry, Asus Zenfone, Lenovo, ZTE, Meizu, Honor, Micromax, Karbonn, Lava, Intex, Gionee, Coolpad, Infinix, Tecno, Itel, Swipe, LYF, Jio, Reliance, Vivo, Panasonic, Philips, Sharp, Toshiba, Acer, Dell, HP, Lenovo ThinkPad, Microsoft Surface, Razer Phone, Redmi, Poco, Micromax Canvas, Yu, Asus ROG, Essential Phone, Alcatel, CAT, Black Shark, Elephone, Nokia Lumia, Mobiistar, Google Nexus, Google Pixel, LeEco, LeTV, Meizu, Motorola Moto, Nextbit Robin, Nvidia Shield, Obi Worldphone, OnePlus One, Oppo R, Samsung Galaxy, Sony Xperia, Ulefone, Vodafone Smart, Xiaomi Mi, ZTE Nubia.   '''\n",
        "#   string1=string1.replace(',','')\n",
        "#   tokens1 = word_tokenize(string1.lower())\n",
        "#   tokens2 = word_tokenize(s2.lower())\n",
        "\n",
        "# # Convert tokens to vectors\n",
        "#   vector1 = np.mean([word_vectors[token] for token in tokens1 if token in word_vectors], axis=0)\n",
        "#   vector2 = np.mean([word_vectors[token] for token in tokens2 if token in word_vectors], axis=0)\n",
        "\n",
        "# # Calculate cosine similarity between the two vectors\n",
        "#   similarity = np.dot(vector1, vector2) / (np.linalg.norm(vector1) * np.linalg.norm(vector2))\n",
        "#   # if similarity >= 0.55:\n",
        "#   #   return 1\n",
        "#   # else:\n",
        "#   #   return 0\n",
        "#   if similarity<=0.30:\n",
        "#     print('As an AI langauge model, I have been trained to generate output that is only related to Technology domain. Therefore, I would not be able to answer your question.')\n",
        "#   else if s2 in string1 or s2 in string1.lower():\n",
        "#     return \n",
        "#     # return '.'.join(output.split('.')[:-1]) + \".\"\n",
        "#   else :\n",
        "#     return '.'.join(output.split('.')[:-1]) + \".\"\n",
        "\n",
        "  \n",
        "\n"
      ],
      "metadata": {
        "id": "EQrv4JPrr7xW"
      },
      "execution_count": null,
      "outputs": []
    },
    {
      "cell_type": "code",
      "source": [
        "import torch"
      ],
      "metadata": {
        "id": "XI0Fvl_I6F2-"
      },
      "execution_count": null,
      "outputs": []
    },
    {
      "cell_type": "code",
      "source": [
        "new_generated_text('what is deep learning ?')"
      ],
      "metadata": {
        "colab": {
          "base_uri": "https://localhost:8080/",
          "height": 145
        },
        "id": "03WiZ6f05-19",
        "outputId": "5fa74b12-fefd-4d44-8e25-a119d038bb8d"
      },
      "execution_count": null,
      "outputs": [
        {
          "output_type": "stream",
          "name": "stderr",
          "text": [
            "Setting `pad_token_id` to `eos_token_id`:50256 for open-end generation.\n"
          ]
        },
        {
          "output_type": "execute_result",
          "data": {
            "text/plain": [
              "'what is deep learning? It’s a new kind of machine learning that can be applied to a lot of different kinds of data sets,” he said. “It can tell the difference between a human being and a robot. It can also tell a story about a person or a machine. And it can do that in a way that is very human-like. So we think that Deep Learning is going to be a big part of the future of artificial intelligence, because it will be able to tell stories that are not just human, but also machine, and that will have a huge impact on the way people think about data and how they interact with it. We believe that this is the next frontier of AI, so we are excited to work with them to bring it to the forefront of this new era of human interaction and AI in the real world.\\nGoogle today  announced  that it has raised a $2.'"
            ],
            "application/vnd.google.colaboratory.intrinsic+json": {
              "type": "string"
            }
          },
          "metadata": {},
          "execution_count": 33
        }
      ]
    },
    {
      "cell_type": "code",
      "source": [
        "def my_function():\n",
        "    a = 'idf si fds'\n",
        "    if a != 0:\n",
        "        return a\n",
        "        \n",
        "my_function()\n"
      ],
      "metadata": {
        "colab": {
          "base_uri": "https://localhost:8080/",
          "height": 36
        },
        "id": "bR9YqWN_vnJn",
        "outputId": "a7ec59d2-1414-4d37-cdd6-f99b1036d02f"
      },
      "execution_count": null,
      "outputs": [
        {
          "output_type": "execute_result",
          "data": {
            "text/plain": [
              "'idf si fds'"
            ],
            "application/vnd.google.colaboratory.intrinsic+json": {
              "type": "string"
            }
          },
          "metadata": {},
          "execution_count": 20
        }
      ]
    },
    {
      "cell_type": "code",
      "source": [
        "import spacy"
      ],
      "metadata": {
        "id": "d2sCHyZUSsQE"
      },
      "execution_count": null,
      "outputs": []
    },
    {
      "cell_type": "code",
      "source": [
        "# !pip install -U spacy\n",
        "!python -m spacy download en_core_web_sm\n"
      ],
      "metadata": {
        "id": "usONcSMcUDmv"
      },
      "execution_count": null,
      "outputs": []
    },
    {
      "cell_type": "code",
      "source": [
        "nlp=spacy.load('en_core_web_lg')"
      ],
      "metadata": {
        "id": "HZYMTpLFTIjO"
      },
      "execution_count": null,
      "outputs": []
    },
    {
      "cell_type": "markdown",
      "source": [
        "# Checking similarity"
      ],
      "metadata": {
        "id": "JeCXfHnU_Kup"
      }
    },
    {
      "cell_type": "code",
      "source": [
        "!pip install spacy\n",
        "!python -m spacy download en_core_web_md\n",
        "\n",
        "import spacy\n",
        "import pandas as pd\n",
        "\n"
      ],
      "metadata": {
        "id": "J31NLAGrTOxS"
      },
      "execution_count": null,
      "outputs": []
    },
    {
      "cell_type": "code",
      "source": [
        "# Load the spaCy English language model\n",
        "nlp = spacy.load('en_core_web_md')\n",
        "\n",
        "\n"
      ],
      "metadata": {
        "id": "qrumq_9s-r2Q"
      },
      "execution_count": null,
      "outputs": []
    },
    {
      "cell_type": "code",
      "source": [
        "# Load the dataset into a pandas dataframe\n",
        "df = pd.read_csv('/content/drive/MyDrive/data.csv')\n"
      ],
      "metadata": {
        "id": "LzNEAtOJ_A7h"
      },
      "execution_count": null,
      "outputs": []
    },
    {
      "cell_type": "code",
      "source": [
        "df.head()"
      ],
      "metadata": {
        "colab": {
          "base_uri": "https://localhost:8080/",
          "height": 337
        },
        "id": "Qpugaq5x_DFE",
        "outputId": "10a9a04a-ef68-427a-e593-205c6b6ce385"
      },
      "execution_count": null,
      "outputs": [
        {
          "output_type": "execute_result",
          "data": {
            "text/plain": [
              "                                    _id  \\\n",
              "0  {'$oid': '600837a2b5425d67582e0d8a'}   \n",
              "1  {'$oid': '600837a3b5425d67582e0d8e'}   \n",
              "2  {'$oid': '600837a4b5425d67582e0d91'}   \n",
              "3  {'$oid': '600837a4b5425d67582e0d92'}   \n",
              "4  {'$oid': '600837a5b5425d67582e0d97'}   \n",
              "\n",
              "                                               title        datePublished  \\\n",
              "0  EU lawmakers to push audio-visual sector on ge...  2020-11-30 05:46:35   \n",
              "1  Construction startup Scaled Robotics raises a ...  2020-02-03 07:13:18   \n",
              "2  Roblox buys digital avatar startup Loom.ai – T...  2020-12-14 11:10:15   \n",
              "3  ClickUp hits $1 billion valuation in $100M Ser...  2020-12-15 16:30:14   \n",
              "4  Spotify launches video podcasts worldwide, sta...  2020-07-21 07:13:39   \n",
              "\n",
              "                                         description  \\\n",
              "0  European Union lawmakers are considering wheth...   \n",
              "1  Industrial robots are expensive. But, then, so...   \n",
              "2  Roblox announced today that it’s buying a digi...   \n",
              "3  Just six month after raising its first bit of ...   \n",
              "4  Spotify today announced the global launch of v...   \n",
              "\n",
              "                                             article  \\\n",
              "0  European Union lawmakers are considering wheth...   \n",
              "1  Industrial robots are expensive. But, then, so...   \n",
              "2  Roblox announced today that it’s buying a digi...   \n",
              "3  Just six month after raising its first bit of ...   \n",
              "4  Spotify today announced the global launch of v...   \n",
              "\n",
              "                                            keywords  \n",
              "0  audio-visual, eu, geoblocking, Netflix, stream...  \n",
              "1  Battlefield, construction, Norwegian Construct...  \n",
              "2  Avatar, Bitmoji, bitstrips, computing, films, ...  \n",
              "3  Android, ClickUp, Craft Ventures, Georgian Par...  \n",
              "4           Spotify, streaming music, Video, YouTube  "
            ],
            "text/html": [
              "\n",
              "  <div id=\"df-db6b07c6-1d19-40b8-b0a8-88d6acd2b161\">\n",
              "    <div class=\"colab-df-container\">\n",
              "      <div>\n",
              "<style scoped>\n",
              "    .dataframe tbody tr th:only-of-type {\n",
              "        vertical-align: middle;\n",
              "    }\n",
              "\n",
              "    .dataframe tbody tr th {\n",
              "        vertical-align: top;\n",
              "    }\n",
              "\n",
              "    .dataframe thead th {\n",
              "        text-align: right;\n",
              "    }\n",
              "</style>\n",
              "<table border=\"1\" class=\"dataframe\">\n",
              "  <thead>\n",
              "    <tr style=\"text-align: right;\">\n",
              "      <th></th>\n",
              "      <th>_id</th>\n",
              "      <th>title</th>\n",
              "      <th>datePublished</th>\n",
              "      <th>description</th>\n",
              "      <th>article</th>\n",
              "      <th>keywords</th>\n",
              "    </tr>\n",
              "  </thead>\n",
              "  <tbody>\n",
              "    <tr>\n",
              "      <th>0</th>\n",
              "      <td>{'$oid': '600837a2b5425d67582e0d8a'}</td>\n",
              "      <td>EU lawmakers to push audio-visual sector on ge...</td>\n",
              "      <td>2020-11-30 05:46:35</td>\n",
              "      <td>European Union lawmakers are considering wheth...</td>\n",
              "      <td>European Union lawmakers are considering wheth...</td>\n",
              "      <td>audio-visual, eu, geoblocking, Netflix, stream...</td>\n",
              "    </tr>\n",
              "    <tr>\n",
              "      <th>1</th>\n",
              "      <td>{'$oid': '600837a3b5425d67582e0d8e'}</td>\n",
              "      <td>Construction startup Scaled Robotics raises a ...</td>\n",
              "      <td>2020-02-03 07:13:18</td>\n",
              "      <td>Industrial robots are expensive. But, then, so...</td>\n",
              "      <td>Industrial robots are expensive. But, then, so...</td>\n",
              "      <td>Battlefield, construction, Norwegian Construct...</td>\n",
              "    </tr>\n",
              "    <tr>\n",
              "      <th>2</th>\n",
              "      <td>{'$oid': '600837a4b5425d67582e0d91'}</td>\n",
              "      <td>Roblox buys digital avatar startup Loom.ai – T...</td>\n",
              "      <td>2020-12-14 11:10:15</td>\n",
              "      <td>Roblox announced today that it’s buying a digi...</td>\n",
              "      <td>Roblox announced today that it’s buying a digi...</td>\n",
              "      <td>Avatar, Bitmoji, bitstrips, computing, films, ...</td>\n",
              "    </tr>\n",
              "    <tr>\n",
              "      <th>3</th>\n",
              "      <td>{'$oid': '600837a4b5425d67582e0d92'}</td>\n",
              "      <td>ClickUp hits $1 billion valuation in $100M Ser...</td>\n",
              "      <td>2020-12-15 16:30:14</td>\n",
              "      <td>Just six month after raising its first bit of ...</td>\n",
              "      <td>Just six month after raising its first bit of ...</td>\n",
              "      <td>Android, ClickUp, Craft Ventures, Georgian Par...</td>\n",
              "    </tr>\n",
              "    <tr>\n",
              "      <th>4</th>\n",
              "      <td>{'$oid': '600837a5b5425d67582e0d97'}</td>\n",
              "      <td>Spotify launches video podcasts worldwide, sta...</td>\n",
              "      <td>2020-07-21 07:13:39</td>\n",
              "      <td>Spotify today announced the global launch of v...</td>\n",
              "      <td>Spotify today announced the global launch of v...</td>\n",
              "      <td>Spotify, streaming music, Video, YouTube</td>\n",
              "    </tr>\n",
              "  </tbody>\n",
              "</table>\n",
              "</div>\n",
              "      <button class=\"colab-df-convert\" onclick=\"convertToInteractive('df-db6b07c6-1d19-40b8-b0a8-88d6acd2b161')\"\n",
              "              title=\"Convert this dataframe to an interactive table.\"\n",
              "              style=\"display:none;\">\n",
              "        \n",
              "  <svg xmlns=\"http://www.w3.org/2000/svg\" height=\"24px\"viewBox=\"0 0 24 24\"\n",
              "       width=\"24px\">\n",
              "    <path d=\"M0 0h24v24H0V0z\" fill=\"none\"/>\n",
              "    <path d=\"M18.56 5.44l.94 2.06.94-2.06 2.06-.94-2.06-.94-.94-2.06-.94 2.06-2.06.94zm-11 1L8.5 8.5l.94-2.06 2.06-.94-2.06-.94L8.5 2.5l-.94 2.06-2.06.94zm10 10l.94 2.06.94-2.06 2.06-.94-2.06-.94-.94-2.06-.94 2.06-2.06.94z\"/><path d=\"M17.41 7.96l-1.37-1.37c-.4-.4-.92-.59-1.43-.59-.52 0-1.04.2-1.43.59L10.3 9.45l-7.72 7.72c-.78.78-.78 2.05 0 2.83L4 21.41c.39.39.9.59 1.41.59.51 0 1.02-.2 1.41-.59l7.78-7.78 2.81-2.81c.8-.78.8-2.07 0-2.86zM5.41 20L4 18.59l7.72-7.72 1.47 1.35L5.41 20z\"/>\n",
              "  </svg>\n",
              "      </button>\n",
              "      \n",
              "  <style>\n",
              "    .colab-df-container {\n",
              "      display:flex;\n",
              "      flex-wrap:wrap;\n",
              "      gap: 12px;\n",
              "    }\n",
              "\n",
              "    .colab-df-convert {\n",
              "      background-color: #E8F0FE;\n",
              "      border: none;\n",
              "      border-radius: 50%;\n",
              "      cursor: pointer;\n",
              "      display: none;\n",
              "      fill: #1967D2;\n",
              "      height: 32px;\n",
              "      padding: 0 0 0 0;\n",
              "      width: 32px;\n",
              "    }\n",
              "\n",
              "    .colab-df-convert:hover {\n",
              "      background-color: #E2EBFA;\n",
              "      box-shadow: 0px 1px 2px rgba(60, 64, 67, 0.3), 0px 1px 3px 1px rgba(60, 64, 67, 0.15);\n",
              "      fill: #174EA6;\n",
              "    }\n",
              "\n",
              "    [theme=dark] .colab-df-convert {\n",
              "      background-color: #3B4455;\n",
              "      fill: #D2E3FC;\n",
              "    }\n",
              "\n",
              "    [theme=dark] .colab-df-convert:hover {\n",
              "      background-color: #434B5C;\n",
              "      box-shadow: 0px 1px 3px 1px rgba(0, 0, 0, 0.15);\n",
              "      filter: drop-shadow(0px 1px 2px rgba(0, 0, 0, 0.3));\n",
              "      fill: #FFFFFF;\n",
              "    }\n",
              "  </style>\n",
              "\n",
              "      <script>\n",
              "        const buttonEl =\n",
              "          document.querySelector('#df-db6b07c6-1d19-40b8-b0a8-88d6acd2b161 button.colab-df-convert');\n",
              "        buttonEl.style.display =\n",
              "          google.colab.kernel.accessAllowed ? 'block' : 'none';\n",
              "\n",
              "        async function convertToInteractive(key) {\n",
              "          const element = document.querySelector('#df-db6b07c6-1d19-40b8-b0a8-88d6acd2b161');\n",
              "          const dataTable =\n",
              "            await google.colab.kernel.invokeFunction('convertToInteractive',\n",
              "                                                     [key], {});\n",
              "          if (!dataTable) return;\n",
              "\n",
              "          const docLinkHtml = 'Like what you see? Visit the ' +\n",
              "            '<a target=\"_blank\" href=https://colab.research.google.com/notebooks/data_table.ipynb>data table notebook</a>'\n",
              "            + ' to learn more about interactive tables.';\n",
              "          element.innerHTML = '';\n",
              "          dataTable['output_type'] = 'display_data';\n",
              "          await google.colab.output.renderOutput(dataTable, element);\n",
              "          const docLink = document.createElement('div');\n",
              "          docLink.innerHTML = docLinkHtml;\n",
              "          element.appendChild(docLink);\n",
              "        }\n",
              "      </script>\n",
              "    </div>\n",
              "  </div>\n",
              "  "
            ]
          },
          "metadata": {},
          "execution_count": 4
        }
      ]
    },
    {
      "cell_type": "code",
      "source": [
        "df['article'].astype(str)"
      ],
      "metadata": {
        "colab": {
          "base_uri": "https://localhost:8080/"
        },
        "id": "rzSTlknqAQp0",
        "outputId": "60bb66c5-fab5-4dcf-c384-dbd3442fef44"
      },
      "execution_count": null,
      "outputs": [
        {
          "output_type": "execute_result",
          "data": {
            "text/plain": [
              "0        European Union lawmakers are considering wheth...\n",
              "1        Industrial robots are expensive. But, then, so...\n",
              "2        Roblox announced today that it’s buying a digi...\n",
              "3        Just six month after raising its first bit of ...\n",
              "4        Spotify today announced the global launch of v...\n",
              "                               ...                        \n",
              "25294    Volkswagen has started to sell a home-charging...\n",
              "25295    The 2020 Ford Escape plug-in hybrid — a first ...\n",
              "25296    Uber has appointed Pradeep Parameswaran, who o...\n",
              "25297    Spin has launched its scooter sharing business...\n",
              "25298    While EU lawmakers are mulling a temporary ban...\n",
              "Name: article, Length: 25299, dtype: object"
            ]
          },
          "metadata": {},
          "execution_count": 9
        }
      ]
    },
    {
      "cell_type": "code",
      "source": [],
      "metadata": {
        "colab": {
          "base_uri": "https://localhost:8080/"
        },
        "id": "YfAqfZeDAWT6",
        "outputId": "dc1ae130-2c70-4b1f-93eb-23b0bc0a6bf2"
      },
      "execution_count": null,
      "outputs": [
        {
          "output_type": "execute_result",
          "data": {
            "text/plain": [
              "pandas.core.series.Series"
            ]
          },
          "metadata": {},
          "execution_count": 7
        }
      ]
    },
    {
      "cell_type": "code",
      "source": [
        "import numpy as np"
      ],
      "metadata": {
        "id": "1mPOGV6aDkBc"
      },
      "execution_count": null,
      "outputs": []
    },
    {
      "cell_type": "code",
      "source": [
        "df.dropna(inplace=True)"
      ],
      "metadata": {
        "id": "0rHcZupsOxla"
      },
      "execution_count": null,
      "outputs": []
    },
    {
      "cell_type": "code",
      "source": [
        "df"
      ],
      "metadata": {
        "colab": {
          "base_uri": "https://localhost:8080/",
          "height": 658
        },
        "id": "bPbvVfWVO177",
        "outputId": "a803d206-cf0d-4ff1-ecc9-065e03a76e4d"
      },
      "execution_count": null,
      "outputs": [
        {
          "output_type": "execute_result",
          "data": {
            "text/plain": [
              "                                        _id  \\\n",
              "0      {'$oid': '600837a2b5425d67582e0d8a'}   \n",
              "1      {'$oid': '600837a3b5425d67582e0d8e'}   \n",
              "2      {'$oid': '600837a4b5425d67582e0d91'}   \n",
              "3      {'$oid': '600837a4b5425d67582e0d92'}   \n",
              "4      {'$oid': '600837a5b5425d67582e0d97'}   \n",
              "...                                     ...   \n",
              "25294  {'$oid': '6010dd3d4bacf659791a0081'}   \n",
              "25295  {'$oid': '6010dd3d4bacf659791a0084'}   \n",
              "25296  {'$oid': '6010dd434bacf659791a009e'}   \n",
              "25297  {'$oid': '6010dd4b4bacf659791a00c6'}   \n",
              "25298  {'$oid': '6010df9c4bacf659791a0bdb'}   \n",
              "\n",
              "                                                   title        datePublished  \\\n",
              "0      EU lawmakers to push audio-visual sector on ge...  2020-11-30 05:46:35   \n",
              "1      Construction startup Scaled Robotics raises a ...  2020-02-03 07:13:18   \n",
              "2      Roblox buys digital avatar startup Loom.ai – T...  2020-12-14 11:10:15   \n",
              "3      ClickUp hits $1 billion valuation in $100M Ser...  2020-12-15 16:30:14   \n",
              "4      Spotify launches video podcasts worldwide, sta...  2020-07-21 07:13:39   \n",
              "...                                                  ...                  ...   \n",
              "25294  Volkswagen launches home EV charging system sa...  2020-06-12 11:35:51   \n",
              "25295  Ford’s 2020 Escape plug-in hybrid takes aim at...  2020-06-08 09:54:34   \n",
              "25296  Uber appoints Pradeep Parameswaran as new head...  2020-06-10 20:47:36   \n",
              "25297  Spin scooters head to Europe, starting with Ge...  2020-06-10 11:52:00   \n",
              "25298  London’s Met Police switches on live facial re...  2020-01-24 05:07:56   \n",
              "\n",
              "                                             description  \\\n",
              "0      European Union lawmakers are considering wheth...   \n",
              "1      Industrial robots are expensive. But, then, so...   \n",
              "2      Roblox announced today that it’s buying a digi...   \n",
              "3      Just six month after raising its first bit of ...   \n",
              "4      Spotify today announced the global launch of v...   \n",
              "...                                                  ...   \n",
              "25294  Volkswagen has started to sell a home-charging...   \n",
              "25295  The 2020 Ford Escape plug-in hybrid — a first ...   \n",
              "25296  Uber has appointed Pradeep Parameswaran, who o...   \n",
              "25297  Spin has launched its scooter sharing business...   \n",
              "25298  While EU lawmakers are mulling a temporary ban...   \n",
              "\n",
              "                                                 article  \\\n",
              "0      European Union lawmakers are considering wheth...   \n",
              "1      Industrial robots are expensive. But, then, so...   \n",
              "2      Roblox announced today that it’s buying a digi...   \n",
              "3      Just six month after raising its first bit of ...   \n",
              "4      Spotify today announced the global launch of v...   \n",
              "...                                                  ...   \n",
              "25294  Volkswagen has started to sell a home-charging...   \n",
              "25295  The 2020 Ford Escape plug-in hybrid — a first ...   \n",
              "25296  Uber has appointed Pradeep Parameswaran, who o...   \n",
              "25297  Spin has launched its scooter sharing business...   \n",
              "25298  While EU lawmakers are mulling a temporary ban...   \n",
              "\n",
              "                                                keywords  \n",
              "0      audio-visual, eu, geoblocking, Netflix, stream...  \n",
              "1      Battlefield, construction, Norwegian Construct...  \n",
              "2      Avatar, Bitmoji, bitstrips, computing, films, ...  \n",
              "3      Android, ClickUp, Craft Ventures, Georgian Par...  \n",
              "4               Spotify, streaming music, Video, YouTube  \n",
              "...                                                  ...  \n",
              "25294  automotive industry, charging stations, electr...  \n",
              "25295  electric vehicles, Environmental Protection Ag...  \n",
              "25296  asia pacific, China, Dara Khosrowshahi, india,...  \n",
              "25297  amsterdam, Atlanta, bird, Circ, cologne, Derri...  \n",
              "25298  artificial intelligence, european union, facia...  \n",
              "\n",
              "[24380 rows x 6 columns]"
            ],
            "text/html": [
              "\n",
              "  <div id=\"df-2674296c-7cfc-4128-8300-69583b88a29d\">\n",
              "    <div class=\"colab-df-container\">\n",
              "      <div>\n",
              "<style scoped>\n",
              "    .dataframe tbody tr th:only-of-type {\n",
              "        vertical-align: middle;\n",
              "    }\n",
              "\n",
              "    .dataframe tbody tr th {\n",
              "        vertical-align: top;\n",
              "    }\n",
              "\n",
              "    .dataframe thead th {\n",
              "        text-align: right;\n",
              "    }\n",
              "</style>\n",
              "<table border=\"1\" class=\"dataframe\">\n",
              "  <thead>\n",
              "    <tr style=\"text-align: right;\">\n",
              "      <th></th>\n",
              "      <th>_id</th>\n",
              "      <th>title</th>\n",
              "      <th>datePublished</th>\n",
              "      <th>description</th>\n",
              "      <th>article</th>\n",
              "      <th>keywords</th>\n",
              "    </tr>\n",
              "  </thead>\n",
              "  <tbody>\n",
              "    <tr>\n",
              "      <th>0</th>\n",
              "      <td>{'$oid': '600837a2b5425d67582e0d8a'}</td>\n",
              "      <td>EU lawmakers to push audio-visual sector on ge...</td>\n",
              "      <td>2020-11-30 05:46:35</td>\n",
              "      <td>European Union lawmakers are considering wheth...</td>\n",
              "      <td>European Union lawmakers are considering wheth...</td>\n",
              "      <td>audio-visual, eu, geoblocking, Netflix, stream...</td>\n",
              "    </tr>\n",
              "    <tr>\n",
              "      <th>1</th>\n",
              "      <td>{'$oid': '600837a3b5425d67582e0d8e'}</td>\n",
              "      <td>Construction startup Scaled Robotics raises a ...</td>\n",
              "      <td>2020-02-03 07:13:18</td>\n",
              "      <td>Industrial robots are expensive. But, then, so...</td>\n",
              "      <td>Industrial robots are expensive. But, then, so...</td>\n",
              "      <td>Battlefield, construction, Norwegian Construct...</td>\n",
              "    </tr>\n",
              "    <tr>\n",
              "      <th>2</th>\n",
              "      <td>{'$oid': '600837a4b5425d67582e0d91'}</td>\n",
              "      <td>Roblox buys digital avatar startup Loom.ai – T...</td>\n",
              "      <td>2020-12-14 11:10:15</td>\n",
              "      <td>Roblox announced today that it’s buying a digi...</td>\n",
              "      <td>Roblox announced today that it’s buying a digi...</td>\n",
              "      <td>Avatar, Bitmoji, bitstrips, computing, films, ...</td>\n",
              "    </tr>\n",
              "    <tr>\n",
              "      <th>3</th>\n",
              "      <td>{'$oid': '600837a4b5425d67582e0d92'}</td>\n",
              "      <td>ClickUp hits $1 billion valuation in $100M Ser...</td>\n",
              "      <td>2020-12-15 16:30:14</td>\n",
              "      <td>Just six month after raising its first bit of ...</td>\n",
              "      <td>Just six month after raising its first bit of ...</td>\n",
              "      <td>Android, ClickUp, Craft Ventures, Georgian Par...</td>\n",
              "    </tr>\n",
              "    <tr>\n",
              "      <th>4</th>\n",
              "      <td>{'$oid': '600837a5b5425d67582e0d97'}</td>\n",
              "      <td>Spotify launches video podcasts worldwide, sta...</td>\n",
              "      <td>2020-07-21 07:13:39</td>\n",
              "      <td>Spotify today announced the global launch of v...</td>\n",
              "      <td>Spotify today announced the global launch of v...</td>\n",
              "      <td>Spotify, streaming music, Video, YouTube</td>\n",
              "    </tr>\n",
              "    <tr>\n",
              "      <th>...</th>\n",
              "      <td>...</td>\n",
              "      <td>...</td>\n",
              "      <td>...</td>\n",
              "      <td>...</td>\n",
              "      <td>...</td>\n",
              "      <td>...</td>\n",
              "    </tr>\n",
              "    <tr>\n",
              "      <th>25294</th>\n",
              "      <td>{'$oid': '6010dd3d4bacf659791a0081'}</td>\n",
              "      <td>Volkswagen launches home EV charging system sa...</td>\n",
              "      <td>2020-06-12 11:35:51</td>\n",
              "      <td>Volkswagen has started to sell a home-charging...</td>\n",
              "      <td>Volkswagen has started to sell a home-charging...</td>\n",
              "      <td>automotive industry, charging stations, electr...</td>\n",
              "    </tr>\n",
              "    <tr>\n",
              "      <th>25295</th>\n",
              "      <td>{'$oid': '6010dd3d4bacf659791a0084'}</td>\n",
              "      <td>Ford’s 2020 Escape plug-in hybrid takes aim at...</td>\n",
              "      <td>2020-06-08 09:54:34</td>\n",
              "      <td>The 2020 Ford Escape plug-in hybrid — a first ...</td>\n",
              "      <td>The 2020 Ford Escape plug-in hybrid — a first ...</td>\n",
              "      <td>electric vehicles, Environmental Protection Ag...</td>\n",
              "    </tr>\n",
              "    <tr>\n",
              "      <th>25296</th>\n",
              "      <td>{'$oid': '6010dd434bacf659791a009e'}</td>\n",
              "      <td>Uber appoints Pradeep Parameswaran as new head...</td>\n",
              "      <td>2020-06-10 20:47:36</td>\n",
              "      <td>Uber has appointed Pradeep Parameswaran, who o...</td>\n",
              "      <td>Uber has appointed Pradeep Parameswaran, who o...</td>\n",
              "      <td>asia pacific, China, Dara Khosrowshahi, india,...</td>\n",
              "    </tr>\n",
              "    <tr>\n",
              "      <th>25297</th>\n",
              "      <td>{'$oid': '6010dd4b4bacf659791a00c6'}</td>\n",
              "      <td>Spin scooters head to Europe, starting with Ge...</td>\n",
              "      <td>2020-06-10 11:52:00</td>\n",
              "      <td>Spin has launched its scooter sharing business...</td>\n",
              "      <td>Spin has launched its scooter sharing business...</td>\n",
              "      <td>amsterdam, Atlanta, bird, Circ, cologne, Derri...</td>\n",
              "    </tr>\n",
              "    <tr>\n",
              "      <th>25298</th>\n",
              "      <td>{'$oid': '6010df9c4bacf659791a0bdb'}</td>\n",
              "      <td>London’s Met Police switches on live facial re...</td>\n",
              "      <td>2020-01-24 05:07:56</td>\n",
              "      <td>While EU lawmakers are mulling a temporary ban...</td>\n",
              "      <td>While EU lawmakers are mulling a temporary ban...</td>\n",
              "      <td>artificial intelligence, european union, facia...</td>\n",
              "    </tr>\n",
              "  </tbody>\n",
              "</table>\n",
              "<p>24380 rows × 6 columns</p>\n",
              "</div>\n",
              "      <button class=\"colab-df-convert\" onclick=\"convertToInteractive('df-2674296c-7cfc-4128-8300-69583b88a29d')\"\n",
              "              title=\"Convert this dataframe to an interactive table.\"\n",
              "              style=\"display:none;\">\n",
              "        \n",
              "  <svg xmlns=\"http://www.w3.org/2000/svg\" height=\"24px\"viewBox=\"0 0 24 24\"\n",
              "       width=\"24px\">\n",
              "    <path d=\"M0 0h24v24H0V0z\" fill=\"none\"/>\n",
              "    <path d=\"M18.56 5.44l.94 2.06.94-2.06 2.06-.94-2.06-.94-.94-2.06-.94 2.06-2.06.94zm-11 1L8.5 8.5l.94-2.06 2.06-.94-2.06-.94L8.5 2.5l-.94 2.06-2.06.94zm10 10l.94 2.06.94-2.06 2.06-.94-2.06-.94-.94-2.06-.94 2.06-2.06.94z\"/><path d=\"M17.41 7.96l-1.37-1.37c-.4-.4-.92-.59-1.43-.59-.52 0-1.04.2-1.43.59L10.3 9.45l-7.72 7.72c-.78.78-.78 2.05 0 2.83L4 21.41c.39.39.9.59 1.41.59.51 0 1.02-.2 1.41-.59l7.78-7.78 2.81-2.81c.8-.78.8-2.07 0-2.86zM5.41 20L4 18.59l7.72-7.72 1.47 1.35L5.41 20z\"/>\n",
              "  </svg>\n",
              "      </button>\n",
              "      \n",
              "  <style>\n",
              "    .colab-df-container {\n",
              "      display:flex;\n",
              "      flex-wrap:wrap;\n",
              "      gap: 12px;\n",
              "    }\n",
              "\n",
              "    .colab-df-convert {\n",
              "      background-color: #E8F0FE;\n",
              "      border: none;\n",
              "      border-radius: 50%;\n",
              "      cursor: pointer;\n",
              "      display: none;\n",
              "      fill: #1967D2;\n",
              "      height: 32px;\n",
              "      padding: 0 0 0 0;\n",
              "      width: 32px;\n",
              "    }\n",
              "\n",
              "    .colab-df-convert:hover {\n",
              "      background-color: #E2EBFA;\n",
              "      box-shadow: 0px 1px 2px rgba(60, 64, 67, 0.3), 0px 1px 3px 1px rgba(60, 64, 67, 0.15);\n",
              "      fill: #174EA6;\n",
              "    }\n",
              "\n",
              "    [theme=dark] .colab-df-convert {\n",
              "      background-color: #3B4455;\n",
              "      fill: #D2E3FC;\n",
              "    }\n",
              "\n",
              "    [theme=dark] .colab-df-convert:hover {\n",
              "      background-color: #434B5C;\n",
              "      box-shadow: 0px 1px 3px 1px rgba(0, 0, 0, 0.15);\n",
              "      filter: drop-shadow(0px 1px 2px rgba(0, 0, 0, 0.3));\n",
              "      fill: #FFFFFF;\n",
              "    }\n",
              "  </style>\n",
              "\n",
              "      <script>\n",
              "        const buttonEl =\n",
              "          document.querySelector('#df-2674296c-7cfc-4128-8300-69583b88a29d button.colab-df-convert');\n",
              "        buttonEl.style.display =\n",
              "          google.colab.kernel.accessAllowed ? 'block' : 'none';\n",
              "\n",
              "        async function convertToInteractive(key) {\n",
              "          const element = document.querySelector('#df-2674296c-7cfc-4128-8300-69583b88a29d');\n",
              "          const dataTable =\n",
              "            await google.colab.kernel.invokeFunction('convertToInteractive',\n",
              "                                                     [key], {});\n",
              "          if (!dataTable) return;\n",
              "\n",
              "          const docLinkHtml = 'Like what you see? Visit the ' +\n",
              "            '<a target=\"_blank\" href=https://colab.research.google.com/notebooks/data_table.ipynb>data table notebook</a>'\n",
              "            + ' to learn more about interactive tables.';\n",
              "          element.innerHTML = '';\n",
              "          dataTable['output_type'] = 'display_data';\n",
              "          await google.colab.output.renderOutput(dataTable, element);\n",
              "          const docLink = document.createElement('div');\n",
              "          docLink.innerHTML = docLinkHtml;\n",
              "          element.appendChild(docLink);\n",
              "        }\n",
              "      </script>\n",
              "    </div>\n",
              "  </div>\n",
              "  "
            ]
          },
          "metadata": {},
          "execution_count": 35
        }
      ]
    },
    {
      "cell_type": "code",
      "source": [
        "my_string=df['article'][2001:5000]\n",
        "my_series=pd.Series(my_string)"
      ],
      "metadata": {
        "id": "FIkLdJnJNrpk"
      },
      "execution_count": null,
      "outputs": []
    },
    {
      "cell_type": "code",
      "source": [
        "my_series"
      ],
      "metadata": {
        "colab": {
          "base_uri": "https://localhost:8080/"
        },
        "id": "JF5eadfbNtHD",
        "outputId": "43cabde2-3532-4360-b018-3944bcfa1fb8"
      },
      "execution_count": null,
      "outputs": [
        {
          "output_type": "execute_result",
          "data": {
            "text/plain": [
              "0       European Union lawmakers are considering wheth...\n",
              "1       Industrial robots are expensive. But, then, so...\n",
              "2       Roblox announced today that it’s buying a digi...\n",
              "3       Just six month after raising its first bit of ...\n",
              "4       Spotify today announced the global launch of v...\n",
              "                              ...                        \n",
              "1011    Chinese giant ByteDance is engaging in early d...\n",
              "1012    Everyone wants more bandwidth from the skies, ...\n",
              "1013    As it reached an estimated valuation of  $100 ...\n",
              "1014    SpaceX and NASA have made history once again, ...\n",
              "1015    I wanted to write  an essay about  Microsoft a...\n",
              "Name: article, Length: 1000, dtype: object"
            ]
          },
          "metadata": {},
          "execution_count": 37
        }
      ]
    },
    {
      "cell_type": "code",
      "source": [
        "def vectorize_text(text):\n",
        "    if isinstance(text, float) and np.isnan(text):\n",
        "        return np.zeros(300)  # replace NaN values with a vector of zeros\n",
        "    else:\n",
        "        doc = nlp(text)   \n",
        "        return doc.vector\n",
        "\n",
        "# Apply the vectorize_text function to each row of the 'articles' column\n",
        "\n",
        "df['article_vectors'] = my_series.apply(vectorize_text)\n"
      ],
      "metadata": {
        "id": "D8RUfO7N--AW"
      },
      "execution_count": null,
      "outputs": []
    },
    {
      "cell_type": "code",
      "source": [
        "type(df['article'])"
      ],
      "metadata": {
        "colab": {
          "base_uri": "https://localhost:8080/"
        },
        "id": "y0nwqiyHMmpX",
        "outputId": "3fda7394-34b6-4059-d68d-412a45732b8d"
      },
      "execution_count": null,
      "outputs": [
        {
          "output_type": "execute_result",
          "data": {
            "text/plain": [
              "pandas.core.series.Series"
            ]
          },
          "metadata": {},
          "execution_count": 17
        }
      ]
    },
    {
      "cell_type": "code",
      "source": [
        "df[:5000]"
      ],
      "metadata": {
        "colab": {
          "base_uri": "https://localhost:8080/",
          "height": 814
        },
        "id": "6I8DuLAEMJCK",
        "outputId": "7aa5168f-c3cb-472d-c2fb-83e714bebf39"
      },
      "execution_count": null,
      "outputs": [
        {
          "output_type": "execute_result",
          "data": {
            "text/plain": [
              "                                       _id  \\\n",
              "0     {'$oid': '600837a2b5425d67582e0d8a'}   \n",
              "1     {'$oid': '600837a3b5425d67582e0d8e'}   \n",
              "2     {'$oid': '600837a4b5425d67582e0d91'}   \n",
              "3     {'$oid': '600837a4b5425d67582e0d92'}   \n",
              "4     {'$oid': '600837a5b5425d67582e0d97'}   \n",
              "...                                    ...   \n",
              "5165  {'$oid': '60085289b5425d67582ec44a'}   \n",
              "5166  {'$oid': '60085289b5425d67582ec44b'}   \n",
              "5167  {'$oid': '60085289b5425d67582ec44c'}   \n",
              "5168  {'$oid': '6008528ab5425d67582ec44d'}   \n",
              "5169  {'$oid': '6008528cb5425d67582ec459'}   \n",
              "\n",
              "                                                  title        datePublished  \\\n",
              "0     EU lawmakers to push audio-visual sector on ge...  2020-11-30 05:46:35   \n",
              "1     Construction startup Scaled Robotics raises a ...  2020-02-03 07:13:18   \n",
              "2     Roblox buys digital avatar startup Loom.ai – T...  2020-12-14 11:10:15   \n",
              "3     ClickUp hits $1 billion valuation in $100M Ser...  2020-12-15 16:30:14   \n",
              "4     Spotify launches video podcasts worldwide, sta...  2020-07-21 07:13:39   \n",
              "...                                                 ...                  ...   \n",
              "5165  Bicycle Health, the virtual opioid use disorde...  2020-12-16 06:30:38   \n",
              "5166  Amazon asks judge to set aside Microsoft’s $10...  2020-12-16 09:06:45   \n",
              "5167  Google, Cisco and VMware join Microsoft to opp...  2020-12-21 15:23:42   \n",
              "5168  Austin-based ReturnSafe raises $3.25 million f...  2020-12-22 08:59:44   \n",
              "5169  Gmail, YouTube, Google Docs and other services...  2020-12-14 04:03:18   \n",
              "\n",
              "                                            description  \\\n",
              "0     European Union lawmakers are considering wheth...   \n",
              "1     Industrial robots are expensive. But, then, so...   \n",
              "2     Roblox announced today that it’s buying a digi...   \n",
              "3     Just six month after raising its first bit of ...   \n",
              "4     Spotify today announced the global launch of v...   \n",
              "...                                                 ...   \n",
              "5165  The startup opioid use disorder therapy servic...   \n",
              "5166  It’s been more than two years since the Pentag...   \n",
              "5167  Silicon Valley tech giants say spyware maker N...   \n",
              "5168  ReturnSafe, a symptom checking and contact tra...   \n",
              "5169  Update: It looks like various services are sta...   \n",
              "\n",
              "                                                article  \\\n",
              "0     European Union lawmakers are considering wheth...   \n",
              "1     Industrial robots are expensive. But, then, so...   \n",
              "2     Roblox announced today that it’s buying a digi...   \n",
              "3     Just six month after raising its first bit of ...   \n",
              "4     Spotify today announced the global launch of v...   \n",
              "...                                                 ...   \n",
              "5165  The startup opioid use disorder therapy servic...   \n",
              "5166  It’s been more than two years since the Pentag...   \n",
              "5167  A coalition of companies have filed  an amicus...   \n",
              "5168  ReturnSafe , a symptom checking and contact tr...   \n",
              "5169  Update : It looks like various  services  are ...   \n",
              "\n",
              "                                               keywords  \\\n",
              "0     audio-visual, eu, geoblocking, Netflix, stream...   \n",
              "1     Battlefield, construction, Norwegian Construct...   \n",
              "2     Avatar, Bitmoji, bitstrips, computing, films, ...   \n",
              "3     Android, ClickUp, Craft Ventures, Georgian Par...   \n",
              "4              Spotify, streaming music, Video, YouTube   \n",
              "...                                                 ...   \n",
              "5165  Bicycle Health, california, Disease, drugs, Ge...   \n",
              "5166  Amazon, Enterprise, Microsoft, Pentagon JEDI c...   \n",
              "5167  Cisco, computer security, computing, espionage...   \n",
              "5168  Active Capital, COVID-19, economy, fifty years...   \n",
              "5169                                   downtime, Google   \n",
              "\n",
              "                                        article_vectors  \n",
              "0                                                   NaN  \n",
              "1                                                   NaN  \n",
              "2                                                   NaN  \n",
              "3                                                   NaN  \n",
              "4                                                   NaN  \n",
              "...                                                 ...  \n",
              "5165  [-1.744421, 0.5546731, -1.8126562, 0.62611115,...  \n",
              "5166  [-1.7384604, 0.49680993, -2.2390392, 0.3426388...  \n",
              "5167  [-1.6851072, 0.3471673, -1.729075, 0.6245949, ...  \n",
              "5168  [-1.5034337, 1.024634, -2.486507, 0.81868577, ...  \n",
              "5169  [-0.794792, 0.31953302, -1.5529326, 0.31662083...  \n",
              "\n",
              "[5000 rows x 7 columns]"
            ],
            "text/html": [
              "\n",
              "  <div id=\"df-caee01d0-3c76-4c23-9d9f-9305de46936f\">\n",
              "    <div class=\"colab-df-container\">\n",
              "      <div>\n",
              "<style scoped>\n",
              "    .dataframe tbody tr th:only-of-type {\n",
              "        vertical-align: middle;\n",
              "    }\n",
              "\n",
              "    .dataframe tbody tr th {\n",
              "        vertical-align: top;\n",
              "    }\n",
              "\n",
              "    .dataframe thead th {\n",
              "        text-align: right;\n",
              "    }\n",
              "</style>\n",
              "<table border=\"1\" class=\"dataframe\">\n",
              "  <thead>\n",
              "    <tr style=\"text-align: right;\">\n",
              "      <th></th>\n",
              "      <th>_id</th>\n",
              "      <th>title</th>\n",
              "      <th>datePublished</th>\n",
              "      <th>description</th>\n",
              "      <th>article</th>\n",
              "      <th>keywords</th>\n",
              "      <th>article_vectors</th>\n",
              "    </tr>\n",
              "  </thead>\n",
              "  <tbody>\n",
              "    <tr>\n",
              "      <th>0</th>\n",
              "      <td>{'$oid': '600837a2b5425d67582e0d8a'}</td>\n",
              "      <td>EU lawmakers to push audio-visual sector on ge...</td>\n",
              "      <td>2020-11-30 05:46:35</td>\n",
              "      <td>European Union lawmakers are considering wheth...</td>\n",
              "      <td>European Union lawmakers are considering wheth...</td>\n",
              "      <td>audio-visual, eu, geoblocking, Netflix, stream...</td>\n",
              "      <td>NaN</td>\n",
              "    </tr>\n",
              "    <tr>\n",
              "      <th>1</th>\n",
              "      <td>{'$oid': '600837a3b5425d67582e0d8e'}</td>\n",
              "      <td>Construction startup Scaled Robotics raises a ...</td>\n",
              "      <td>2020-02-03 07:13:18</td>\n",
              "      <td>Industrial robots are expensive. But, then, so...</td>\n",
              "      <td>Industrial robots are expensive. But, then, so...</td>\n",
              "      <td>Battlefield, construction, Norwegian Construct...</td>\n",
              "      <td>NaN</td>\n",
              "    </tr>\n",
              "    <tr>\n",
              "      <th>2</th>\n",
              "      <td>{'$oid': '600837a4b5425d67582e0d91'}</td>\n",
              "      <td>Roblox buys digital avatar startup Loom.ai – T...</td>\n",
              "      <td>2020-12-14 11:10:15</td>\n",
              "      <td>Roblox announced today that it’s buying a digi...</td>\n",
              "      <td>Roblox announced today that it’s buying a digi...</td>\n",
              "      <td>Avatar, Bitmoji, bitstrips, computing, films, ...</td>\n",
              "      <td>NaN</td>\n",
              "    </tr>\n",
              "    <tr>\n",
              "      <th>3</th>\n",
              "      <td>{'$oid': '600837a4b5425d67582e0d92'}</td>\n",
              "      <td>ClickUp hits $1 billion valuation in $100M Ser...</td>\n",
              "      <td>2020-12-15 16:30:14</td>\n",
              "      <td>Just six month after raising its first bit of ...</td>\n",
              "      <td>Just six month after raising its first bit of ...</td>\n",
              "      <td>Android, ClickUp, Craft Ventures, Georgian Par...</td>\n",
              "      <td>NaN</td>\n",
              "    </tr>\n",
              "    <tr>\n",
              "      <th>4</th>\n",
              "      <td>{'$oid': '600837a5b5425d67582e0d97'}</td>\n",
              "      <td>Spotify launches video podcasts worldwide, sta...</td>\n",
              "      <td>2020-07-21 07:13:39</td>\n",
              "      <td>Spotify today announced the global launch of v...</td>\n",
              "      <td>Spotify today announced the global launch of v...</td>\n",
              "      <td>Spotify, streaming music, Video, YouTube</td>\n",
              "      <td>NaN</td>\n",
              "    </tr>\n",
              "    <tr>\n",
              "      <th>...</th>\n",
              "      <td>...</td>\n",
              "      <td>...</td>\n",
              "      <td>...</td>\n",
              "      <td>...</td>\n",
              "      <td>...</td>\n",
              "      <td>...</td>\n",
              "      <td>...</td>\n",
              "    </tr>\n",
              "    <tr>\n",
              "      <th>5165</th>\n",
              "      <td>{'$oid': '60085289b5425d67582ec44a'}</td>\n",
              "      <td>Bicycle Health, the virtual opioid use disorde...</td>\n",
              "      <td>2020-12-16 06:30:38</td>\n",
              "      <td>The startup opioid use disorder therapy servic...</td>\n",
              "      <td>The startup opioid use disorder therapy servic...</td>\n",
              "      <td>Bicycle Health, california, Disease, drugs, Ge...</td>\n",
              "      <td>[-1.744421, 0.5546731, -1.8126562, 0.62611115,...</td>\n",
              "    </tr>\n",
              "    <tr>\n",
              "      <th>5166</th>\n",
              "      <td>{'$oid': '60085289b5425d67582ec44b'}</td>\n",
              "      <td>Amazon asks judge to set aside Microsoft’s $10...</td>\n",
              "      <td>2020-12-16 09:06:45</td>\n",
              "      <td>It’s been more than two years since the Pentag...</td>\n",
              "      <td>It’s been more than two years since the Pentag...</td>\n",
              "      <td>Amazon, Enterprise, Microsoft, Pentagon JEDI c...</td>\n",
              "      <td>[-1.7384604, 0.49680993, -2.2390392, 0.3426388...</td>\n",
              "    </tr>\n",
              "    <tr>\n",
              "      <th>5167</th>\n",
              "      <td>{'$oid': '60085289b5425d67582ec44c'}</td>\n",
              "      <td>Google, Cisco and VMware join Microsoft to opp...</td>\n",
              "      <td>2020-12-21 15:23:42</td>\n",
              "      <td>Silicon Valley tech giants say spyware maker N...</td>\n",
              "      <td>A coalition of companies have filed  an amicus...</td>\n",
              "      <td>Cisco, computer security, computing, espionage...</td>\n",
              "      <td>[-1.6851072, 0.3471673, -1.729075, 0.6245949, ...</td>\n",
              "    </tr>\n",
              "    <tr>\n",
              "      <th>5168</th>\n",
              "      <td>{'$oid': '6008528ab5425d67582ec44d'}</td>\n",
              "      <td>Austin-based ReturnSafe raises $3.25 million f...</td>\n",
              "      <td>2020-12-22 08:59:44</td>\n",
              "      <td>ReturnSafe, a symptom checking and contact tra...</td>\n",
              "      <td>ReturnSafe , a symptom checking and contact tr...</td>\n",
              "      <td>Active Capital, COVID-19, economy, fifty years...</td>\n",
              "      <td>[-1.5034337, 1.024634, -2.486507, 0.81868577, ...</td>\n",
              "    </tr>\n",
              "    <tr>\n",
              "      <th>5169</th>\n",
              "      <td>{'$oid': '6008528cb5425d67582ec459'}</td>\n",
              "      <td>Gmail, YouTube, Google Docs and other services...</td>\n",
              "      <td>2020-12-14 04:03:18</td>\n",
              "      <td>Update: It looks like various services are sta...</td>\n",
              "      <td>Update : It looks like various  services  are ...</td>\n",
              "      <td>downtime, Google</td>\n",
              "      <td>[-0.794792, 0.31953302, -1.5529326, 0.31662083...</td>\n",
              "    </tr>\n",
              "  </tbody>\n",
              "</table>\n",
              "<p>5000 rows × 7 columns</p>\n",
              "</div>\n",
              "      <button class=\"colab-df-convert\" onclick=\"convertToInteractive('df-caee01d0-3c76-4c23-9d9f-9305de46936f')\"\n",
              "              title=\"Convert this dataframe to an interactive table.\"\n",
              "              style=\"display:none;\">\n",
              "        \n",
              "  <svg xmlns=\"http://www.w3.org/2000/svg\" height=\"24px\"viewBox=\"0 0 24 24\"\n",
              "       width=\"24px\">\n",
              "    <path d=\"M0 0h24v24H0V0z\" fill=\"none\"/>\n",
              "    <path d=\"M18.56 5.44l.94 2.06.94-2.06 2.06-.94-2.06-.94-.94-2.06-.94 2.06-2.06.94zm-11 1L8.5 8.5l.94-2.06 2.06-.94-2.06-.94L8.5 2.5l-.94 2.06-2.06.94zm10 10l.94 2.06.94-2.06 2.06-.94-2.06-.94-.94-2.06-.94 2.06-2.06.94z\"/><path d=\"M17.41 7.96l-1.37-1.37c-.4-.4-.92-.59-1.43-.59-.52 0-1.04.2-1.43.59L10.3 9.45l-7.72 7.72c-.78.78-.78 2.05 0 2.83L4 21.41c.39.39.9.59 1.41.59.51 0 1.02-.2 1.41-.59l7.78-7.78 2.81-2.81c.8-.78.8-2.07 0-2.86zM5.41 20L4 18.59l7.72-7.72 1.47 1.35L5.41 20z\"/>\n",
              "  </svg>\n",
              "      </button>\n",
              "      \n",
              "  <style>\n",
              "    .colab-df-container {\n",
              "      display:flex;\n",
              "      flex-wrap:wrap;\n",
              "      gap: 12px;\n",
              "    }\n",
              "\n",
              "    .colab-df-convert {\n",
              "      background-color: #E8F0FE;\n",
              "      border: none;\n",
              "      border-radius: 50%;\n",
              "      cursor: pointer;\n",
              "      display: none;\n",
              "      fill: #1967D2;\n",
              "      height: 32px;\n",
              "      padding: 0 0 0 0;\n",
              "      width: 32px;\n",
              "    }\n",
              "\n",
              "    .colab-df-convert:hover {\n",
              "      background-color: #E2EBFA;\n",
              "      box-shadow: 0px 1px 2px rgba(60, 64, 67, 0.3), 0px 1px 3px 1px rgba(60, 64, 67, 0.15);\n",
              "      fill: #174EA6;\n",
              "    }\n",
              "\n",
              "    [theme=dark] .colab-df-convert {\n",
              "      background-color: #3B4455;\n",
              "      fill: #D2E3FC;\n",
              "    }\n",
              "\n",
              "    [theme=dark] .colab-df-convert:hover {\n",
              "      background-color: #434B5C;\n",
              "      box-shadow: 0px 1px 3px 1px rgba(0, 0, 0, 0.15);\n",
              "      filter: drop-shadow(0px 1px 2px rgba(0, 0, 0, 0.3));\n",
              "      fill: #FFFFFF;\n",
              "    }\n",
              "  </style>\n",
              "\n",
              "      <script>\n",
              "        const buttonEl =\n",
              "          document.querySelector('#df-caee01d0-3c76-4c23-9d9f-9305de46936f button.colab-df-convert');\n",
              "        buttonEl.style.display =\n",
              "          google.colab.kernel.accessAllowed ? 'block' : 'none';\n",
              "\n",
              "        async function convertToInteractive(key) {\n",
              "          const element = document.querySelector('#df-caee01d0-3c76-4c23-9d9f-9305de46936f');\n",
              "          const dataTable =\n",
              "            await google.colab.kernel.invokeFunction('convertToInteractive',\n",
              "                                                     [key], {});\n",
              "          if (!dataTable) return;\n",
              "\n",
              "          const docLinkHtml = 'Like what you see? Visit the ' +\n",
              "            '<a target=\"_blank\" href=https://colab.research.google.com/notebooks/data_table.ipynb>data table notebook</a>'\n",
              "            + ' to learn more about interactive tables.';\n",
              "          element.innerHTML = '';\n",
              "          dataTable['output_type'] = 'display_data';\n",
              "          await google.colab.output.renderOutput(dataTable, element);\n",
              "          const docLink = document.createElement('div');\n",
              "          docLink.innerHTML = docLinkHtml;\n",
              "          element.appendChild(docLink);\n",
              "        }\n",
              "      </script>\n",
              "    </div>\n",
              "  </div>\n",
              "  "
            ]
          },
          "metadata": {},
          "execution_count": 47
        }
      ]
    },
    {
      "cell_type": "code",
      "source": [
        "df.to_csv('article_vectors_5000.csv',index=False)"
      ],
      "metadata": {
        "id": "EMGulBlBSr01"
      },
      "execution_count": null,
      "outputs": []
    },
    {
      "cell_type": "code",
      "source": [
        "!cp  article_vectors_5000.csv /content/drive/MyDrive/"
      ],
      "metadata": {
        "id": "pwHsV-L0TCDh"
      },
      "execution_count": null,
      "outputs": []
    },
    {
      "cell_type": "code",
      "source": [
        "df['article_vectors'][0]"
      ],
      "metadata": {
        "id": "948wYQtAN6JV"
      },
      "execution_count": null,
      "outputs": []
    },
    {
      "cell_type": "code",
      "source": [
        "import pandas as pd\n",
        "# from transformers import pipeline\n",
        "\n",
        "\n",
        "# Load the DataFrame with the \"article\" column\n",
        "df = pd.read_csv(\"/content/drive/MyDrive/Major_Project/data.csv\")"
      ],
      "metadata": {
        "id": "2puXvBsitKHU"
      },
      "execution_count": null,
      "outputs": []
    },
    {
      "cell_type": "code",
      "source": [
        "df.dropna(inplace=True)"
      ],
      "metadata": {
        "id": "iXlG_SOpvZA8"
      },
      "execution_count": null,
      "outputs": []
    },
    {
      "cell_type": "code",
      "source": [
        "# # Define the text similarity pipeline\n",
        "# text_similarity = pipeline(\n",
        "#     \"text2text-generation\",\n",
        "#     model=\"sentence-transformers/paraphrase-mpnet-base-v2\",\n",
        "#     tokenizer=\"sentence-transformers/paraphrase-mpnet-base-v2\"\n",
        "# )"
      ],
      "metadata": {
        "id": "yMfq4HdevBEb"
      },
      "execution_count": null,
      "outputs": []
    },
    {
      "cell_type": "code",
      "source": [
        "# # Get user input prompt\n",
        "# prompt = input(\"Enter a prompt: \")"
      ],
      "metadata": {
        "id": "dqTdNeWIti9a"
      },
      "execution_count": null,
      "outputs": []
    },
    {
      "cell_type": "code",
      "source": [
        "list=[df['keywords'][i].replace(',','').split()]"
      ],
      "metadata": {
        "colab": {
          "base_uri": "https://localhost:8080/"
        },
        "id": "pCWm4VVz1M6m",
        "outputId": "0d83dc61-6b63-448b-aba9-b10cb16dd85e"
      },
      "execution_count": null,
      "outputs": [
        {
          "output_type": "execute_result",
          "data": {
            "text/plain": [
              "['audio-visual', 'eu', 'geoblocking', 'Netflix', 'streaming', 'TV']"
            ]
          },
          "metadata": {},
          "execution_count": 41
        }
      ]
    },
    {
      "cell_type": "code",
      "source": [
        "# Concatenate all the articles into a single string\n",
        "combined_articles = \" \".join(df[\"keywords\"])"
      ],
      "metadata": {
        "id": "lkUNN80avCY4"
      },
      "execution_count": null,
      "outputs": []
    },
    {
      "cell_type": "code",
      "source": [
        "combined_articles=combined_articles.replace(',','')"
      ],
      "metadata": {
        "id": "dpIzEUeK2H1G"
      },
      "execution_count": null,
      "outputs": []
    },
    {
      "cell_type": "code",
      "source": [
        "combined_articles=combined_articles.split()"
      ],
      "metadata": {
        "id": "jXxMD7Vf2MO0"
      },
      "execution_count": null,
      "outputs": []
    },
    {
      "cell_type": "code",
      "source": [
        "combined_articles"
      ],
      "metadata": {
        "id": "oJKGs3XxAiOC"
      },
      "execution_count": null,
      "outputs": []
    },
    {
      "cell_type": "code",
      "source": [
        "import nltk\n",
        "nltk.download('stopwords')\n",
        "from nltk.corpus import stopwords\n",
        "# string = combined_articles.lower()\n",
        "# words = string.split()\n"
      ],
      "metadata": {
        "colab": {
          "base_uri": "https://localhost:8080/"
        },
        "id": "30IucjiCwdWR",
        "outputId": "ff1cd90d-2cfa-449d-d280-287870970486"
      },
      "execution_count": null,
      "outputs": [
        {
          "output_type": "stream",
          "name": "stderr",
          "text": [
            "[nltk_data] Downloading package stopwords to /root/nltk_data...\n",
            "[nltk_data]   Package stopwords is already up-to-date!\n"
          ]
        }
      ]
    },
    {
      "cell_type": "code",
      "source": [
        "# words"
      ],
      "metadata": {
        "id": "kN1FnLG_z1_w"
      },
      "execution_count": null,
      "outputs": []
    },
    {
      "cell_type": "code",
      "source": [
        "# filtered_words = [word for word in combined_articles if word not in stopwords.words('english')]"
      ],
      "metadata": {
        "id": "UxIBe7jBzz0-"
      },
      "execution_count": null,
      "outputs": []
    },
    {
      "cell_type": "code",
      "source": [
        "# filtered_words"
      ],
      "metadata": {
        "id": "S752NxlU0CZH"
      },
      "execution_count": null,
      "outputs": []
    },
    {
      "cell_type": "code",
      "source": [
        "# filtered_string = ' '.join(filtered_words)\n"
      ],
      "metadata": {
        "id": "5MkEuDsJwiOV"
      },
      "execution_count": null,
      "outputs": []
    },
    {
      "cell_type": "code",
      "source": [
        "# filtered_string"
      ],
      "metadata": {
        "id": "Lb0lOkLn0ITM"
      },
      "execution_count": null,
      "outputs": []
    },
    {
      "cell_type": "code",
      "source": [
        "from sklearn.feature_extraction.text import TfidfVectorizer\n",
        "\n",
        "# Example corpus of documents\n",
        "\n",
        "# Create the TfidfVectorizer object\n",
        "vectorizer = TfidfVectorizer()\n",
        "\n",
        "\n",
        "\n",
        "# Fit the vectorizer to the corpus and transform the corpus\n",
        "tfidf_matrix = vectorizer.fit_transform([combined_articles])\n",
        "\n",
        "# Convert the sparse matrix to a dense matrix (if necessary)\n",
        "dense_matrix = tfidf_matrix.toarray()\n",
        "\n",
        "# Print the dense matrix\n",
        "print(dense_matrix)\n"
      ],
      "metadata": {
        "colab": {
          "base_uri": "https://localhost:8080/"
        },
        "id": "90C7yB_y54xr",
        "outputId": "1c8a62aa-9434-43af-f917-d101371717f5"
      },
      "execution_count": null,
      "outputs": [
        {
          "output_type": "stream",
          "name": "stdout",
          "text": [
            "[[0.00079699 0.00326766 0.00095639 ... 0.00103609 0.00207218 0.0003985 ]]\n"
          ]
        }
      ]
    },
    {
      "cell_type": "code",
      "source": [
        "# Calculate the total tf-idf scores for each word\n",
        "total_scores = dense_matrix.sum(axis=0)"
      ],
      "metadata": {
        "id": "PhXqlDHl2XUb"
      },
      "execution_count": null,
      "outputs": []
    },
    {
      "cell_type": "code",
      "source": [
        "# Get the vocabulary (mapping of feature indices to feature names)\n",
        "vocabulary = vectorizer.vocabulary_\n"
      ],
      "metadata": {
        "id": "PIaQLqvy7OCk"
      },
      "execution_count": null,
      "outputs": []
    },
    {
      "cell_type": "code",
      "source": [
        "# Create a list of (word, score) tuples and sort it by score\n",
        "word_scores = [(word, total_scores[vocabulary[word]]) for word in vocabulary]\n",
        "word_scores = sorted(word_scores, key=lambda x: x[1], reverse=True)\n",
        "\n"
      ],
      "metadata": {
        "id": "3Qx83BkH7PXS"
      },
      "execution_count": null,
      "outputs": []
    },
    {
      "cell_type": "code",
      "source": [
        "# Print the top 10 most impactful words\n",
        "list_new=[]\n",
        "new_string=''\n",
        "for word, score in word_scores[:5000]:\n",
        "  list_new.append(word)\n",
        "  # new_string=new_string + word\n",
        "  print(f\"{word}\")"
      ],
      "metadata": {
        "id": "YdmsI4f37cCQ"
      },
      "execution_count": null,
      "outputs": []
    },
    {
      "cell_type": "code",
      "source": [
        "list_new"
      ],
      "metadata": {
        "id": "eadOVAFg_1I7"
      },
      "execution_count": null,
      "outputs": []
    },
    {
      "cell_type": "code",
      "source": [
        "filtered_words = [word for word in list_new if word not in stopwords.words('english')]"
      ],
      "metadata": {
        "id": "tQ21C7jrBSfV"
      },
      "execution_count": null,
      "outputs": []
    },
    {
      "cell_type": "code",
      "source": [
        "filtered_words"
      ],
      "metadata": {
        "id": "9Bd3hwcsBWch"
      },
      "execution_count": null,
      "outputs": []
    },
    {
      "cell_type": "code",
      "source": [
        "words_string = ','.join(filtered_words)\n",
        "\n",
        "print(words_string)"
      ],
      "metadata": {
        "colab": {
          "base_uri": "https://localhost:8080/"
        },
        "id": "Bwhs5g7cAI0X",
        "outputId": "214c5b43-acd6-47e2-e70a-1298185f66e9"
      },
      "execution_count": null,
      "outputs": [
        {
          "output_type": "stream",
          "name": "stdout",
          "text": [
            "capital,google,ventures,united,covid,19,coronavirus,states,apple,amazon,computing,space,facebook,techcrunch,2020,venture,cloud,microsoft,software,partners,technology,data,media,security,intelligence,online,social,finance,artificial,economy,learning,equity,spaceflight,china,health,mobile,india,startups,new,services,video,uber,business,ceo,food,machine,asia,electric,entrepreneurship,startup,crunch,europe,web,company,systems,outer,tesla,exchange,operating,spacex,streaming,management,commerce,private,california,twitter,group,apps,vehicles,trump,kingdom,tiktok,android,european,disrupt,marketing,app,general,york,articles,digital,combinator,america,san,financial,softbank,tech,technologies,fund,daily,instagram,service,africa,enterprise,computer,companies,tc,internet,francisco,government,ai,union,musk,co,iphone,infrastructure,smartphones,elon,cars,energy,netflix,live,sessions,games,protection,nasa,delivery,president,commission,law,samsung,global,tv,work,search,founder,election,disney,privacy,administration,corporate,falcon,store,france,healthcare,spacecraft,sequoia,world,ios,salesforce,station,international,london,zoom,robotics,lyft,advertising,los,angeles,mobility,extra,shopping,music,banking,university,partner,satellite,youtube,spotify,bank,retail,national,emerging,walmart,hyperloop,podcast,federal,vision,alibaba,bytedance,inc,gaming,public,saas,acquisitions,remote,driving,news,ces,rocket,mergers,ford,north,sharing,include,investment,self,car,science,boston,telecommunications,florida,mark,development,reliance,southeast,market,airbnb,labs,open,germany,smartphone,regulation,department,education,jeff,lab,south,reality,donald,com,driver,information,model,manufacturing,customer,stage,slack,virtual,system,michael,smart,visa,andreessen,conferencing,network,foundation,windows,early,play,industry,recognition,5g,japan,automation,content,city,air,platforms,motors,david,consumer,autonomous,accel,singapore,whatsapp,messenger,horowitz,latin,entrepreneur,meat,washington,zuckerberg,force,mexico,tools,peter,electronics,travel,card,stock,vc,cybercrime,texas,developers,steve,founders,real,fintech,doordash,research,home,networks,human,source,green,huawei,jio,officer,alphabet,max,intel,stores,blue,alexa,medicine,wireless,engine,communications,spokesperson,verizon,code,chief,cryptography,micromobility,australia,engineering,platform,applications,encryption,catalyst,commercial,immigration,lunar,aws,executive,starlink,broadband,sony,white,lightspeed,offering,insurance,foods,growth,house,newsletter,snap,initial,telemedicine,rights,oracle,bessemer,goldman,supply,epic,xbox,series,day,wework,john,medical,robot,assistant,industries,nintendo,tencent,quantum,paypal,chrome,jack,congress,sachs,antitrust,money,nigeria,virgin,twitch,ibm,battlefield,waymo,eric,wide,one,grocery,israel,shopify,adobe,bluetooth,surveillance,bezos,credit,tim,hbo,transport,payments,facial,misinformation,layoffs,challenger,tourism,chain,demand,event,messaging,crunchbase,aerospace,brazil,snapchat,product,act,gig,martin,1b,times,cyberwarfare,dragon,italy,github,bill,program,automotive,battery,devices,seattle,toyota,scooters,joe,ireland,pinterest,sophie,aviation,unicorn,flight,robinhood,mike,estate,securities,linkedin,justice,east,insight,stanford,imaging,biden,tiger,sf,enforcement,alex,storage,launch,speech,monday,postmates,boeing,drug,alcorn,mit,breach,holdings,head,palantir,lee,motorcycles,lockheed,design,nvidia,ipo,vehicle,origin,jim,flipkart,ordering,telehealth,breaches,spain,accelerator,phones,agency,valley,uk,drink,instacart,big,galaxy,tracing,canada,volkswagen,us,disease,ggv,week,retailers,square,azure,korea,api,matt,yc,echo,hosting,free,browsers,future,james,artemis,experience,hardware,first,engineer,incubators,chris,dynamics,ransomware,eu,websites,office,coinbase,deep,pixel,diversity,fda,organization,identity,competition,silicon,edtech,khosla,institute,walt,vodafone,kubernetes,adam,lake,telecommuting,twilio,frank,gm,johnson,industrial,gas,andrew,culture,audio,roblox,chicago,maps,lagos,processing,devops,augmented,prevention,covid19,prime,bain,motor,workers,fortnite,beijing,kleiner,jason,stripe,scott,control,harvard,marc,brian,board,russia,carolina,austin,dropbox,perkins,atlassian,voice,indonesia,morgan,cisco,analytics,malware,trade,ryan,qualcomm,sales,innovation,techstars,game,cannabis,hulu,policy,kevin,street,cambridge,watch,managing,trucks,os,wwdc,director,paytm,taiwan,scooter,kenya,galactic,3d,dorsey,ted,ambani,satellites,player,cord,cutting,zomato,labor,ads,time,accessibility,nest,leary,ml,ecommerce,keith,direct,african,revolut,esports,linux,airlines,television,cloudflare,xiaomi,quibi,league,safety,senate,lucid,device,gdpr,email,school,massachusetts,transportation,pro,charles,crew,dell,comcast,small,mass,club,climate,mental,michigan,playstation,disinformation,zealand,party,speaker,mukesh,peer,care,mac,rivian,greenhouse,presidential,wall,seed,crm,alpha,berlin,renewable,politics,ben,oculus,ant,west,atlanta,substitutes,roku,electronic,josh,kong,photo,sap,collaboration,developer,monzo,macbook,headphones,subscription,lemonade,contact,red,brent,bmw,agriculture,starship,simulation,asana,plaid,itunes,gates,coast,fitness,investor,bird,switch,emissions,ebay,greylock,chat,sports,sciences,gillmor,access,kids,things,hong,target,association,jennifer,andy,aurora,pay,peloton,payload,language,biology,tel,george,initialized,neural,aaron,voting,networking,14,nasdaq,dara,khosrowshahi,earnings,round,leader,bike,drones,aviv,nevada,wechat,pitchbook,area,berkeley,neobank,index,vaccine,podcasts,reddit,unity,point,solar,native,publishing,impossible,beyond,printing,barcelona,pandemic,justin,ride,ad,ev,smith,toronto,sarah,discovery,life,defense,acquisition,fire,pharmacy,margrethe,vestager,battle,center,ipad,demo,funding,bikes,paul,spac,dating,spark,edge,virginia,snowflake,entertainment,honda,palo,alto,corporation,fitbit,pichai,charging,cards,surface,daniel,studio,silver,firms,gmail,louisiana,w20,cancer,terms,plus,metal,employment,telecom,associates,rob,warnermedia,investing,upfront,impact,orbit,process,american,section,editor,blockchain,sensor,tower,las,vegas,drone,guide,password,cybernetics,hate,lerer,arm,okta,serial,payment,hailing,gift,spaceport,bridenstine,denis,pombriant,radice,teare,markman,coatue,ups,project,mario,230,sundar,uc,netherlands,denver,products,yahoo,leap,hippeau,jones,cook,airtel,true,zero,aircraft,angel,cowboy,atlantic,personal,fundraising,bay,astronaut,arizona,investments,temasek,ohio,georgia,matthew,sam,norwest,roundup,court,magic,events,mozilla,lime,greycroft,films,photography,vice,dan,dow,chime,jobs,motorcycle,jon,kapor,d2c,lander,advisors,natural,earbuds,auto,airline,brand,brad,wearable,journal,whole,manager,mastercard,cybersecurity,database,nikola,detroit,women,cruise,jose,fremont,political,qualtrics,marketplace,recruitment,creative,biotechnology,box,ghana,nadella,collective,nea,hudson,logistics,laser,boring,moon,testing,floyd,targeted,nbcuniversal,tinder,tracking,colombia,go,nairobi,carbon,suite,precursor,headspace,affirm,io,genomics,show,nations,ron,computers,vista,governor,tom,oxford,airpods,text,sapphire,dallas,satya,gv,byju,analyst,casper,oyo,switzerland,coffee,contract,urban,change,relationship,porsche,user,price,committee,insurtech,roelof,botha,shanghai,benioff,firefox,thomas,felicis,centers,harley,lg,legal,bob,firstmark,hyundai,hummer,eqt,mustang,thierry,elections,bureau,pennsylvania,black,hero,vmware,infection,end,mining,sharma,chan,power,designer,chips,crispr,jassy,databases,alexis,valuation,kickstarter,semiconductors,menlo,banks,subscriptions,iran,robots,vr,warner,hybrid,unilever,decrypted,debt,narendra,modi,nhs,pitch,electricity,trends,crowdstrike,benchmark,davidson,beck,venmo,mars,next,hans,radio,animation,investigation,traffic,weekly,matrix,swiggy,phone,williams,10,invent,monitoring,levie,ohanian,angellist,grid,crime,volvo,cell,grab,canaan,blackrock,illinois,materials,original,breton,freedom,lidar,travis,getty,duolingo,elizabeth,bicycle,eats,contacts,booking,dark,horizons,surveys,lambda,rental,austria,luckin,physician,king,coo,jersey,warehouse,airbus,photos,vulnerability,team,craft,teleconferencing,portland,fcc,browser,review,metromile,viruses,motorola,a16z,solutions,miami,freeware,pfizer,nubank,chairman,jumia,jd,tax,chemicals,rover,oliver,femtech,alliance,grubhub,stories,ar,utah,vroom,markets,foldables,basketball,365,low,servicenow,fuel,property,diego,movies,serverless,wi,unmanned,stanley,super,controller,cbs,moderation,deliveroo,libra,vpn,tony,partech,listing,karma,distance,atomico,redpoint,yuan,speakers,fashion,high,sound,pharmaceutical,gps,peacock,reilly,authority,crypto,safaricom,uganda,sql,share,hat,mercedes,saudi,arabia,oil,lux,reels,journalist,raspberry,semiconductor,northrop,grumman,ellis,cyber,brown,bolt,schrems,visual,fisker,fox,jfrog,owl,madrona,brex,wang,cvs,buzzfeed,fake,homepod,12,average,emergence,nba,microblogging,mary,hacking,fraud,phishing,dave,zendesk,family,vaccines,fi,nick,camera,shenzhen,supreme,cryptocurrencies,nissan,unicorns,teams,oneplus,hotstar,pi,tsmc,children,astrobotic,balderton,foundry,robert,python,images,reporter,500,oneweb,javascript,oppo,boris,stephen,contents,civil,arvind,unpacked,ola,results,highland,bosch,member,prop,8vc,nike,iot,av,resource,corp,cross,exploration,getaround,winter,quest,zach,parents,eniac,brennan,richard,waste,ourcrowd,spin,taylor,maxar,alley,vacation,amsterdam,electrical,attorney,yelp,parker,alan,agile,debris,deepfakes,cox,rowe,truck,post,merchandising,altman,houston,riot,prosus,gavin,algorithmic,parliament,crowdfunding,jira,patrick,authentication,sidewalk,censorship,pacific,klarna,carnegie,mellon,starbucks,sleep,construction,plug,cyberattack,harassment,udemy,photoshop,legends,middle,ro,occupational,book,liquid,obama,annie,interswitch,stocks,krishna,face,multi,discord,adidas,canalys,thiel,chile,gitlab,moto,plexo,ignite,gradient,bing,meet,hopkins,heavy,environmental,orion,shield,efficiency,mechanics,hacker,moderna,optimization,navigation,sacks,zoox,redwood,image,reid,conference,munich,investors,imagery,airtable,aileen,newsom,maryland,performance,version,unacademy,ikea,vertex,flash,tpg,working,drive,sierra,audi,chrysler,virus,two,sustainable,broker,kaszek,relativity,therapeutics,meditation,apis,vw,pitchers,pitches,henry,deutsche,migicovsky,deception,pete,arkansas,alipay,ncino,mubadala,delta,delhi,special,mini,plastics,pincus,bias,sydney,greg,chen,shasta,homebrew,mayer,kim,ian,racism,zte,thailand,summit,belgium,based,drugs,oscar,eight,howard,equipment,hoxton,revolution,astroscale,community,factory,female,adtech,deal,instant,pentagon,cameras,nuro,artist,hoffman,rick,thrive,loans,lane,cryptocurrency,schmidt,warren,judge,rwanda,kobo360,workflow,liberties,duo,fold,wealthfront,governance,gil,bradley,irobot,list,dst,engines,sight,von,vietnam,rakuten,survey,anthony,vaccination,daimler,panasonic,bros,years,minneapolis,iowa,connect,wilhelm,jump,philadelphia,webmail,telegram,wave,emc,zynga,masayoshi,son,interactive,mitchell,doug,philippines,root,bigcommerce,ribbit,harry,vancouver,tanzania,triller,exposure,walgreens,signalfire,sonos,star,fiat,draper,wellness,cyberattacks,third,qubit,seibel,border,omers,golden,erp,polestar,jedi,chip,fiction,bumble,proptech,productivity,hdmi,freight,ground,musicians,viacomcbs,democratic,siri,jessica,kirsten,datadog,olympics,long,jay,patreon,finix,jenny,bret,m12,11,gojek,22,alaska,debit,hr,docusign,portal,ban,calm,columbia,prize,christian,defy,major,fidelity,pharmaceuticals,kemp,crunchmatch,nfx,hp,canon,dhl,brands,ps5,worlds,amy,logic,nbc,desktop,kkr,fj,initiative,supremacy,analytica,databricks,pesa,case,baidu,studios,sweden,bonatsos,berkshire,salt,inclusion,mwc,duckduckgo,videos,dubai,hangouts,bloomberg,council,stewart,rawlinson,bfr,tess,hatch,egnyte,tusk,roads,farming,crimes,igtv,mission,forward,retailer,ada,doudna,football,nature,mcdonalds,finland,radiation,match,field,scale,yang,tier,deck,lenovo,chiang,build,cohen,scientist,ann,unusual,bling,xpeng,norway,nexus,blume,sun,floodgate,basecamp,rentals,players,forerunner,macos,kuaishou,telekom,openstack,insights,kart,coursera,reach,hustle,montana,transferwise,constellation,andela,cash,p2p,paga,bangladesh,lo,hill,walk,levchin,klein,medicare,franklin,anne,d1,podcasting,michelle,exercise,ring,rahul,vohra,movie,capella,yl,yext,biontech,csail,m1,entrepreneurs,malaysia,biotech,noise,sim,dna,argo,arr,astronomy,continuous,robotaxi,alabama,wing,ubisoft,artists,christmas,nso,decency,display,connie,helsinki,speedinvest,sumo,nfl,icloud,ambient,rre,chamath,palihapitiya,liu,teacher,left,pei,rico,tan,eventbrite,hunt,pence,sagemaker,id,webex,sri,niantic,healthtech,factor,marketplaces,poland,procore,opendoor,ethiopia,flutterwave,isp,nokia,fusion,ge,accounting,peru,alexander,graphics,rohit,influencer,crv,baillie,gifford,gmc,pubg,argentina,vp,vulcan,warburg,good,lego,fedex,machines,sedans,felix,hiring,intuit,restaurants,military,copyright,frontier,records,threads,flybridge,trackers,uipath,personalization,cto,livewire,ike,pitango,tablet,mixed,ec,burns,spreadsheet,mirror,vivo,yin,primary,naspers,garry,oregon,nine,das,books,bitcoin,widgets,homescreen,braun,troy,water,nestle,jeffrey,cleo,trello,deloitte,valor,jamf,chiu,nutanix,lemkin,bharti,toney,distributed,zhang,view,notification,stadia,uncork,breakthrough,additive,raptor,dot,perseverance,otto,hims,wrap,mirantis,dc,writer,bernie,sanders,state,flu,politicians,burger,launcherone,astra,anna,spaceshiptwo,octopus,substack,enterprises,mongodb,ali,kindred,tung,portugal,canva,models,pittsburgh,biometrics,docsend,kate,vijay,shekhar,fika,olaf,sakkers,puerto,decentralized,william,accountability,commissioner,prasad,pavel,lin,sprint,meg,whitman,cb,larry,kelly,kabbage,blake,emily,rooms,jeremy,pinduoduo,creators,mayfield,emirates,building,qwant,honeywell,pr,electron,jordan,propulsion,baseball,joshua,diabetes,base10,santa,clean,ethan,customs,rigetti,boldstart,warehouses,mysql,fertility,synthetic,pain,galvanize,robotic,la,turner,didi,cruz,takeaway,vanessa,financing,foxconn,gohealth,dublin,clubhouse,chinese,firewall,lending,eat,positioning,outage,calling,lisa,job,armstrong,classpass,mobileye,bangalore,getyourguide,singtel,jp,chase,runway,coding,jan,tile,meesho,paris,hathaway,todd,recession,hub,countries,scotland,adyen,mandalorian,johns,ecl,axa,stem,connected,koch,purpose,therapy,verification,gamble,labcorp,esa,theft,li,openai,gopro,eduardo,java,well,baltimore,tableau,crowdsourcing,pets,org,dylan,communication,prisma,nielsen,de,pew,passion,scopely,boom,location,local,genetic,trivia,chernin,tusimple,benz,strategy,families,harms,mail,dji,glass,fifth,quora,police,caffeinated,sofman,nancy,shin,mayor,mateo,editing,balloon,decentralization,durov,carter,blackberry,giphy,conservation,chromecast,tcv,betaworks,kurian,unreal,fix,programming,udaan,niko,ram,casa,guo,banister,starling,funds,colin,lawson,melinda,short,classes,threshold,slootman,elliott,shuttle,wisconsin,hunter,dawn,embedded,boxgroup,jonathan,counterfeit,northzone,amadeus,playter,chair,fireeye,warby,optum,connecticut,russell,colorado,livongo,neumann,autodesk,cable,espn,horizon,teachers,inductive,smartwatches,pricing,eleven,republic,richards,stonks,kfc,jaxa,rose,roche,seth,nextview,resources,martech,disabilities,joseph,onboarding,chargepoint,kroger,oakland,minecraft,lululemon,hearst,cybertruck,bronco,ftc,lu,slow,perret,zebra,agarwal,disaster,contractor,meituan,shipt,helen,spyware,xcloud,stratosphere,ethereum,zimbabwe,accessories,phil,van,katzenberg,tlcom,joel,analysis,generation,activision,hippo,stitch,carolan,soundcloud,phonepe,reed,link,worldpay,wu,simon,kia,rise,child,emoji,pakistan,allo,vtol,hawk,keybase,animal,chromium,memphis,speed,surgery,yandex,spot,opera,turkey,julia,chatbot,depression,cathay,lazada,chapek,reddy,mucker,cells,cd,ocean,notion,mesh,film,ionq,website,jet,caryn,marooney,iac,vimeo,start,astrazeneca,recruiting,sigma,chatbots,island,planning,sophia,ii,smes,amit,moore,cadillac,bitmoji,bug,interference,royale,arbor,goodrx,natasha,anti,drew,zurich,rabois,influenza,atrium,kan,trading,cdc,naval,ravikant,hearing,glassdoor,branson,seoul,recycling,sk,million,tripactions,zeev,kansas,thoma,bravo,pai,houseparty,tab,jacobson,claire,gurley,citi,quizlet,degreed,emerge,tracy,village,flipboard,nvca,stockholm,twiga,iconiq,loon,120,portability,madrid,ross,plan,languages,relations,orbex,trinity,cultured,tyson,integrated,neuberger,orleans,arts,filters,gsr,light,saverin,jake,wars,planet,ccpa,paper,carta,rappi,marshall,test,suster,lens,sensors,vaping,turing,angels,key,figma,army,splunk,fast,butterfield,julie,chef,masterclass,serena,amplify,xerox,firefly,zenefits,physics,abuse,bandcamp,expedia,bbc,roundtable,b2c,reading,clearview,multiverse,young,wordpress,voi,disability,dmitry,cubesat,zatlyn,homage,bicycles,benefits,lufthansa,levandowski,damon,docker,superhuman,europas,construct,evans,musical,universal,philips,usb,sams,ubs,jr,novel,matter,today,behavioral,lasers,loizos,kopelman,bose,neuroscience,oura,canvas,harris,vsco,ethics,flexport,term,gofundme,ludlow,doj,currencies,taipei,hewlett,packard,macintosh,conrad,moovit,top,wealth,egypt,flip,collab,course,jomayra,learn,rackspace,n26,transparency,lueders,qatar,synergy,operator,nyse,adware,shot,cannon,practice,deepmind,hubspot,aerial,evan,outlook,roman,kit,site,templeton,jaguar,gigafactory,devin,advisor,modeling,arab,rtp,khan,karan,northern,marco,point72,estonia,suisse,bansal,carsharing,tampa,zume,ea,architecture,allen,pagerduty,apache,oklahoma,ukraine,emmanuel,sendgrid,espionage,western,kerry,c3,ray,siemens,tweets,stopcovid,kitty,seedcamp,emsisoft,genetics,dnx,runa,blossom,illness,builder,babbel,npe,dcvc,theaters,wanxiang,appdynamics,summer,energica,garmin,23andme,segment,pandora,georgian,vera,feed,voter,mascarenhas,team8,cuban,kramer,nasscom,tsay,take,cooperative,ab5,conspiracy,theories,extremism,hey,ipads,ravi,jesse,central,albert,sinch,dish,express,programmer,g20,jai,sebastian,foldable,s20,plex,note,delaunay,gartner,redesign,udacity,bent,bigbasket,cherry,ping,age,yale,dream,report,elad,providers,solomon,apptopia,wayfair,jackson,hax,cyan,invision,byron,spiegel,jensen,yammer,crossing,meats,goop,denmark,circuits,campbell,spamming,shepard,agtech,signal,tobii,tobel,procter,albums,talkspace,pocket,call,smartwatch,arora,playground,snoop,dogg,higher,brooklyn,nashville,net,journalism,pc,furniture,nextdoor,omnichannel,hussein,kanji,czech,farfetch,frederic,rent,tuesday,harbor,exit,fab,wish,nosql,training,microservices,albertsons,rhode,gamification,order,goodwater,hancock,byte,forbes,looker,french,gary,freshworks,coworking,localglobe,automattic,shevelenko,swarm,babylon,waze,vanmoof,autotech,linus,torvalds,graph,bayer,luminar,mammoth,keyboard,sms,zillow,ajit,kepler,production,aptiv,ly,logitech,celina,jb,straubel,brussels,jourova,caching,sacha,conway,great,geoff,labster,sharechat,glovo,cares,etsy,maveron,nation,telstra,jpmorgan,inspired,layoff,craig,videoconferencing,server,kunst,dustin,moskovitz,costanoa,reuters,bootcamp,lynn,coalition,cred,pwc,best,smiledirectclub,checking,kathryn,zymergen,saastr,patagonia,zipline,processor,blck,form,aol,coca,cola,sosv,nio,messages,istanbul,mulesoft,merck,college,npd,freada,mitch,seniors,workplace,guardian,adventures,brain,datto,joey,asset,ecuador,struck,cerner,newview,highway,environment,jakarta,channel,iger,karthik,chegg,gwyneth,paltrow,monica,turo,duke,engineers,weiner,carlos,minnesota,physical,collins,gucci,grove,rogier,safe,lerman,chains,taskrabbit,voyager,gateway,heroku,spaceplane,symantec,cycling,acrew,unemployment,obvious,gpu,zscaler,micro,nauta,forum,knowledge,nhsx,olympic,orlando,flying,ed,frontline,gender,miller,morris,iron,transfers,nlp,miso,rocketry,hashtag,vertical,derek,room,masten,cockroach,alchemist,gang,anthos,parental,creek,partovi,pet,transit,eileen,amc,canoo,velez,biosciences,supersonic,tlv,telecoms,campaign,stations,b2b,launches,hertz,nova,rift,outschool,arcade,wwdc20,henrik,mikolajczak,hackerone,oled,klobuchar,wyden,lives,racial,usa,democrats,safari,wilson,idg,multimedia,truecaller,insurify,weibo,copenhagen,saif,bpifrance,line,restaurant,shutdown,fdic,hoover,barr,ico,stablecoin,consent,alternative,mach,fairphone,hololens,investcorp,helios,toast,omio,containerization,wan,bridge,configuration,ginni,rometty,ellison,skype,razr,rosenstein,skyflow,douyin,signia,deadpool,bench,darren,optical,character,edison,tayo,oviosu,ginkgo,bioworks,manchester,murphy,pappas,timnit,gebru,ipod,bluejeans,pokémon,meetings,microphones,tivo,santander,e2e,deeter,mmhmm,qr,managed,moritz,second,medicaid,mentorship,ubiquitous,pony,beach,amd,chevrolet,vrionis,xp,mask,therapist,onfido,flourish,razorpay,dubsmash,trek,squire,influencers,charlotte,neutrality,barra,atari,hope,cochran,pen,se,headset,lucy,songs,360,gocardless,eaze,accenture,cashierless,blueyard,steel,macron,incubator,bull,aydin,senkut,neil,atlas,callahan,ko,verde,student,mariam,naficy,iris,gamer,genesis,magma,ciso,arch,economic,bigquery,groupon,geely,taxis,kitchens,diagnostics,dcms,rally,soma,mitsui,100,kumar,button,hq,watchos,ivp,marcus,tyler,revel,bali,jyoti,away,cornell,ilya,valence,hackett,outdoor,voices,byd,schwab,support,tokyo,concur,beta,crane,ion,3rd,annual,periscope,pax,tcl,olympus,laptop,microphone,røde,chromebook,duncan,ethernet,antler,prince,registration,2u,vienna,warsaw,zachary,breyer,fenton,communist,barry,fenwick,supercell,graphcore,reserve,sustainability,herrera,fried,jared,concerts,sweeney,set,check,transformation,file,baker,kuffner,jocelyn,producer,unions,cutler,matern,graphic,capitalism,rachleff,svp,pension,hamilton,nascar,chipper,centre,garrett,niklas,recommendations,cooking,housing,katie,rae,worker,automated,better,underscore,lucasfilm,tsg,advanced,raleigh,buffalo,vinod,cellular,glossier,year,pizza,cfo,rachel,shahin,farshchi,cameron,coldewey,kpcb,geographic,chrysalis,raibert,glenn,eye,brothers,issues,ia,casey,obesity,netease,pluralsight,gupta,run,idea,pictures,marvel,mlb,curve,weiss,matthews,phaedra,lamkins,watching,imagine,academy,hinge,chem,hemi,brandless,frankfurt,consumption,n95,copilot,anand,radar,cloudera,astronauts,digitalocean,nursing,heater,robin,swiss,warming,depot,superawesome,purchases,taxi,formula,revenue,wells,fargo,pre,clara,compliance,wadhera,slingshot,checkout,sparklabs,huffman,dollar,sexual,christopher,apeel,sale,interfaces,bitbucket,harper,fulfillment,orchard,amp,congruent,river,pillar,libin,evtol,ajay,kara,marriott,melbourne,rubin,envoy,blocking,jain,kaiser,cuomo,git,bryan,fact,100m,melissa,uruguay,hartz,javier,ophelia,easter,intercom,dcm,stefan,bio,batteries,smartnews,jurvetson,tribeca,siegler,singh,integration,dragoneer,jamie,quinn,rothenberg,eve,pandadoc,dpc,color,acorns,people,faze,clan,vestberg,lithium,sofi,fontinalis,soft,cvc,loom,merlin,exor,fca,romania,labels,citigroup,reform,velodyne,buttigieg,fred,communities,accelerators,byton,morningside,darrell,etherington,susa,tonal,catterton,deepinder,goyal,ritesh,status,downtime,baby,dixon,johnny,portable,lightroom,kahoot,marshmello,creation,localization,durable,limited,pat,travelperk,block,workflows,relational,wistron,corsair,karp,spruce,spacs,internships,graham,euwyn,poon,treasury,teachable,jamin,ball,chesky,buy,navy,nauto,neuralink,arlan,cre,quona,ericsson,blavity,debaun,talent,literacy,asheem,chandna,volpi,dreamit,illumina,sahil,lavingia,yiming,action,mcdermott,folding,thermostat,rome,stamos,upgrade,immigrants,remitly,milan,oslo,similarweb,five,interface,taavet,hinrikus,clothing,doerr,midi,halo,oecd,ready,kirkhorn,shieber,byers,nigel,hashicorp,migration,clearpath,disruptive,lighting,stacy,faraday,carl,hummingbird,june,ns8,premier,lean,northwestern,hazel,erectile,dysfunction,collaborative,everlywell,verily,mx,logan,mode,religion,fair,advice,purple,neologisms,reviews,rechargeable,screens,neo,boats,tennessee,condakchian,juul,moscow,intellectual,dev,kurzweil,levine,expeditions,businesses,anywhere,spectrum,ing,gottlieb,dealerships,humans,pokemon,lilium,connectivity,venrock,albo,hsbc,reef,rafal,modrzewski,spire,anshu,press,wix,postgresql,broadcom,tweet,zwift,netapp,guy,brick,mortar,levy,peg,jerry,made,walker,accomplice,thoughtspot,capitalg,biofuels,bowery,turck,shipping,earth,packaging,collett,doubleverify,americans,stack,goldberg,lakestar,groupware,grand,dairy,robinson,snyk,bentley,pelosi,sean,apax,like,fisher,oversight,flatiron,reshma,yoda,sao,paulo,gif,lanzatech,burbidge,hasura,aggregator,xilinx,ramp,recovery,weather,abu,dhabi,mehta,vu,park,susan,dyson,core,ci,onofrio,01,person,song,blackstone,controls,ned,slice,typeform,philip,siriusxm,valve,legend,swiftmile,cjeu,employee,mojave,avatars,ripple,childers,cncf,command,qoobo,motional,canix,ultra,cologne,perks,seedrs,directive,expression,clinton,robocalls,amir,smartglasses,amish,jani,frederik,groce,korosec,fever,hillhouse,zoominfo,gabi,massmutual,viola,bedrock,novak,response,counterpoint,altos,breed,dennis,buchheit,georgetown,emarketer,programmatic,brave,bidding,yamaha,jess,magsafe,movidius,circular,inovia,displays,telephony,zeta,indiegogo,paystack,offs,edsights,forgepoint,cyberark,cybereason,containers,imperva,bajracharya,coneybeer,liberty,toutiao,smbs,greenspring,freestyle,glotzbach,blair,gigafund,meeker,aviva,surveymonkey,ruby,hipcamp,vanderzanden,etrade,kuiper,madison,sweetgreen,fifty,adrian,backstage,kobie,fuller,murph,zapier,bosun,tijani,fis,hackathon,sprout,jewel,stockx,couchbase,memory,cad,blackbird,notation,sv,equinix,cnil,partnerships,akash,current,luke,sage,altair,lydia,lattice,mentorships,maker,ppp,footwear,bieber,memes,peak,tomtom,shutterstock,holt,raytheon,harrison,roadster,impairment,fredrik,sea,mindstrong,plant,generated,livestreaming,shum,brandon,mcafee,jean,lunchbox,draftkings,wine,st,constine,myanmar,aggregators,foreign,maniv,simulator,pass,ps4,kitchen,score,components,gear,fernandez,breast,charger,recording,kuo,chi,ink,hack,clearbanc,ag,mlops,coach,sinai,singularity,pine,credential,stuffing,mangrove,manhattan,jetblue,among,huntsville,landing,terri,qed,miura,roper,pioneer,representatives,axiom,indie,op,meetup,sacramento,branding,pledge,barber,adult,donotpay,transcription,shave,prelude,valar,dns,wirecard,quickbooks,targeting,bonfire,ashton,anil,bindu,beats,dickey,besmertnik,beef,nash,agrawal,volocopter,hospitality,intuitive,nortman,parking,amnesty,facetune,lightricks,grindr,hygiene,neotribe,hampshire,mariadb,stone,polaris,faa,longevity,dayna,grayson,dfj,kamala,soltero,gate,moorhead,cognitive,skydio,docs,mojo,aggregation,exoskeleton,help,wellbeing,foresite,hemant,redis,ampere,pathbreaker,veterinary,trucking,goeuro,whitney,wolfe,saic,theatres,warranty,beam,einstein,blizzard,eren,dashboards,bell,sonny,steven,jen,appworks,vineet,hypertension,ifa,harness,vostok,vega,gchq,siminoff,century,opay,shagaya,edward,lines,shah,kodiak,houzz,sheet,sky,pham,roomba,ferguson,directors,guides,ralston,technical,picks,intelsat,riverpark,matidor,asus,conferences,drake,qanon,chuxing,integrity,baron,worldwide,goldenberg,zalando,capchase,zack,osterloh,abhay,pointy,finservices,mtech,silverton,howie,lucas,cédric,vlad,assembly,alexandria,ocasio,cortez,audit,huffpost,jonah,peretti,eprivacy,shankar,homekit,district,schroepfer,ovitz,chung,shrug,olx,cbinsights,elegbe,lynda,hercules,viacom,buds,story,goldfein,roslansky,shelf,accolade,circle,yubico,roland,rebecca,shauntel,garvey,pipedrive,tripadvisor,lock,alexia,frog,agility,10x,account,cookies,damien,superpeer,lonsdale,s3,hawaii,lori,telefonica,mart,newark,camp,gett,photographer,glynn,altimeter,sutter,axios,eclipse,gulf,pilot,podium,appliances,prague,riaa,visualization,perch,shogun,heartcore,usability,kellogg,wenger,goods,edinburgh,hawley,land,noah,loverro,budget,tristan,eth,grey,chad,fastly,jpl,aerojet,rocketdyne,blindness,march,lehman,bullpen,cigna,town,sondermind,nandan,nilekani,surgical,doctor,kry,omidyar,sethi,mcneill,ispace,lowercase,lawsuit,ula,burke,bluevine,neeraj,openview,datometry,grazer,raj,cyberpunk,technica,applied,fpga,nanoracks,touchscreen,3m,sheets,daqri,sense,mccarthy,meadow,barrett,saper,belarus,roy,discrimination,vishria,satish,napster,yuri,value,mercadolibre,bounties,meritech,gpt,risk,quantumscape,skyroot,asteroids,katerra,cities,teens,rojas,smb,strava,ethena,gsv,mckinsey,record,ling,workboard,flashparking,spam,mountain,rao,bankruptcy,markus,lebron,mindfulness,mathematics,base,flagship,eastern,element,ebikes,fiber,patel,allianz,conan,vector,bendz,barack,interoperability,wheels,lily,ghodsi,statespace,holle,medtronic,appsflyer,airways,jam,wellington,upguard,equal,rapid7,avast,ringcentral,fixel,urgent,tool,tao,sequeira,seraphim,ariel,kentucky,trolls,indiana,eurazeo,warehousing,latent,muglia,margaret,nagle,next47,plangrid,threat,lawrence,playvs,bannon,caregiving,kormo,icon,holmgren,palm,cyberspace,sheryl,sandberg,edith,herd,optimizely,dick,aclu,gong,empower,whitehurst,sabre,shared,destin,kawasaki,xwing,megan,farms,awards,skyrora,sid,cooper,farley,cat,oprah,safeway,pierre,sisense,elephant,cancelling,appian,coupa,laura,henrique,dubugras,tulsa,katherine,messagebird,homeland,ham,serunjogi,ng,churn,activant,atg,arianespace,berg,stephanie,lior,phoenix,ritual,grant,insider,spent,thompson,lordstown,luca,ex,machina,dental,success,anki,transmission,suse,desmond,airplane,johnston,standard,scoot,gross,mccue,bt,nuvocargo,hipmunk,norwegian,ferrari,malta,mitsubishi,idc,cbre,beuc,hart,resilience,courier,package,legaltech,contractors,credo,cleaning,clegg,explorer,microtargeting,onavo,quantcast,leaf,launcher,roc,schiller,fm,bnp,paribas,cofounder,lte,zuoyebang,auth0,octarine,jenkins,tensorflow,elasticsearch,squad,pattern,julian,mophie,imac,tye,brady,zetta,wrike,safra,catz,outbrain,taboola,token,vedantu,bharatpe,pollution,backend,napa,panos,southwest,haus,betterment,teller,acast,ministry,banjo,patton,harlem,digitally,transforming,mckinnon,matternet,jumo,renault,wasabi,processors,juggernaut,s28,gumroad,brooke,zagaris,alonso,moonshot,weekend,mapping,dream11,ecobee,torch,bigo,ramsey,exits,dr,matchstick,accidents,apartment,sneakers,chargers,alameda,county,caufield,farmwise,pepper,cyril,pantheon,lead,juno,baszucki,attack,gibeau,mosseri,rogas,maha,ibrahim,mutual,supercomputer,belsky,nurx,maven,clinic,angelo,updates,le,agritech,renting,payu,lizhi,wong,jiomart,seamless,zimmer,abc,hooq,murdoch,printer,gpgpu,mulan,pixar,airpower,songe,laron,linguistics,dishwasher,voodoo,louis,leasing,projekt,shure,oceanic,atmospheric,instruments,ruth,activity,andrea,upwork,yap,deshpande,gonzalez,cadenas,vox,michele,romanow,lighter,insignia,kayhan,maverick,crista,galli,hear,xfinity,hot,lone,maersk,compression,railsbank,salman,sykes,philpot,cowen,childcare,superset,m13,lady,firehawk,chapman,nolan,twttr,fiverr,acton,ownership,joaquin,ticketmaster,szulczewski,seeds,toba,death,kutcher,flo,vend,brien,billing,irl,groceries,roger,continental,greece,autism,flare,bussgang,victress,circ,nerdwallet,opentable,soraya,darabi,ackerman,pachama,solugen,tsai,gabe,body,cognizant,noyb,formation,ancestry,german,wikis,actress,rethink,netsuite,stix,blood,salesky,liquid2,lyra,911,gap,thredup,gogoro,susquehanna,omar,techsquare,mems,ureeka,basis,interaction,klaus,zellmer,huang,refraction,missouri,rajan,defamation,logging,schultz,psychology,inspection,docomo,wunder,hootsuite,anduril,kaltura,danny,nwandu,zoe,nutonomy,nir,dynetics,shorts,p40,sacca,taneja,educational,reber,stream,jungle,man,fandango,stripes,costolo,comscore,astranis,wipro,diligent,luna,othman,laraki,sail,partnership,tsur,repair,cube,arthur,polychain,successfactors,wittington,pasquale,romano,concorde,rolls,royce,alon,snapdragon,vudu,bang,olufsen,makers,apron,tickets,kalanick,braze,mallforafrica,momentus,agora,ido,sum,shows,profitwell,darpa,ucla,kobe,bryant,loreal,gusto,biomimetic,bowl,mixer,webflow,reports,society,trevor,sling,chicken,stein,xm,shooters,fable,promus,canopy,linden,bollinger,substitute,su,class,cost,hostile,biomedical,douvos,plasma,currier,nutrition,crosslink,modern,puma,looking,ifood,amnon,shashua,avatar,bitstrips,clickup,zeb,yukai,fujifilm,ramot,macquarie,lincoln,einride,demisto,institutional,bounty,bonsai,propaganda,vote,brutality,fatigue,securitization,classifieds,parasnis,ipos,citymapper,pepp,pt,baiju,bhatt,tenev,dianping,exxonmobil,secretary,around,sugar,campus,iab,cookie,luxembourg,dilemma,falconx,rickshaw,vaya,airtags,playbook,jimmy,reynolds,earlybird,hailo,krieger,affirmed,telus,avira,sur,gic,xu,k9,tecton,shlomo,innov8,instana,juniper,sd,ecosystems,corey,borthwick,kubermatic,s7,mindville,mcmillon,predictive,anca,dragan,panzarino,gibson,cloutier,fleetsmith,gainsight,career,mai,strive,oskoui,fairness,quality,bellm,peanut,monetization,reinforcement,singerman,stash,atom,dinsdale,marlon,nichols,monkeylearn,sora,mallun,yen,uavs,folayan,novant,ken,senegal,zindi,olugbenga,agboola,cchub,gebeya,mississippi,sokowatch,sendy,sphero,gsma,singles,durham,valentino,btov,shop,collections,adams,retention,nuvia,segars,activist,metaprop,aarons,varo,hammerling,bare,packet,kazakhstan,illegal,democracy,fadell,geforce,xrc,address,sunshine,threema,whitepages,lumi,protein,pluto,stuart,sopp,rewards,lili,piracy,crisis,kard,tink,schools,wingcopter,ux,ahmed,appnexus,onedrive,yusuf,mehdi,getsafe,stratis,luxury,shoe,meng,wanzhou,ren,semi,spinlaunch,sbir,ecosia,demis,hassabis,pyka,ebersweiler,penguin,bixby,comedian,moviepass,busuu,solarwinds,mandiant,dog,blind,fruchterman,gaze,krebs,nye,teladoc,savings,twentyeight,alivecor,milk,lei,westbridge,bajaj,whitehat,pitney,bowes,ladder,beverages,heritage,float,anis,uzzaman,protonmail,geekplus,openspace,paramount,convergence,shachar,bialick,assassin,creed,israeli,grauer,iversity,screensharing,lemnos,grow,marqeta,hastings,creator,keeptruckin,onstar,phantom,carlyle,wag,steelseries,circuit,compute,moog,analogue,wyze,daniela,density,zin,treadmill,sanger,gaurav,nougat,siren,sennheiser,defi,ming,petnet,eyal,wemo,xnor,pornhub,employees,patricof,tours,toni,overload,joymode,davis,darktrace,signalfx,merchants,brear,dean,avoidance,ameelio,prison,basf,iraq,kingsoft,shunwei,fresh,eva,ho,florence,kamet,ehang,mohammed,bigid,rony,abovitz,xs,xyz,heura,whopper,leolabs,coppa,capitalone,sieg,node,edbi,listings,iceye,effective,kayvon,beykpour,coop,faber,volition,navitas,war,pages,vishal,shell,dash,launchpad,airship,rus,routing,endpoint,suborbital,pornography,browder,aira,hunters,radian,crook,katrina,carfax,launchdarkly,protocol,monetary,astanor,orca,mindset,library,perspective,proterra,pioneering,dn,mobilize,civic,npm,sonali,rycker,hungrypanda,kinnevik,philippe,aiops,omniture,instances,checkmark,optic,proeza,hired,klain,gordon,dupont,purifier,chien,realityengines,dialpad,highfive,glasswing,lyman,406,fishtown,fivetran,turtles,remo,bookclub,sentinelone,expel,paladin,lil,workday,micah,deel,wren,christine,flint,nyca,conditions,dana,settle,vendr,silk,road,doctolib,kimchuk,sccs,cisa,varden,b8ta,endomondo,walter,notes,liquor,ghostery,bipa,aleksandr,kogan,chancellor,vine,adblock,till,jerusalem,castle,flippy,raise,dioxide,perfect,perumal,gandhi,pandya,ice,outdoorsy,sensei,chao,plastic,brighteye,flops,supercomputers,corning,jakubowski,kessler,emergency,bukuwarung,leyla,seka,hedosophia,magna,hjelm,adesina,touch,ach,countingup,crowdcube,pollen,fallout,amoruso,allbirds,tomer,jsonar,snippets,relic,av8,caura,rimer,mirakl,shade,itaú,lofgren,hacware,bonobos,ridge,quantexa,delane,parnell,kaisei,hamamoto,apigee,appsheet,clock,launchnotes,biking,genius,elderly,boomerang,slides,ascension,coronvirus,leonard,builders,calendar,mclaughlin,burka,zittrain,nyu,cole,graphql,sumitomo,indiebio,wind,dines,synthesized,lyst,sequencing,advance,fleksy,react,naren,shaam,atzberger,siroker,albionvc,krause,ulrich,kranz,revero,pinewood,cosmose,telepresence,brook,corvette,infosys,chevy,climacell,filtering,pia,iribarne,letgo,offerup,zenly,gaorong,mural,voicemail,enigma,xos,nanox,ran,poliakine,ab,cobalt,rubio,steph,hipchat,blomfield,cloudinary,duck,karen,novo,mosaic,digitization,saar,unagi,foodtech,eventures,tnl,kitonga,vitable,minimum,hartman,mouse,apoorva,heineken,giraud,hellofresh,coivd,chaos,wildlife,airmap,mead,mixtape,fushman,boost,anker,haystack,friedman,equities,choi,riccitiello,rpa,tibet,bush,luis,ahn,shift,audible,teatime,thor,fridriksson,hanks,czi,priscilla,loupedeck,satellogic,biz,fleet,leather,mycoworks,feng,autonation,girsky,referral,nathan,def,con,zheng,northgate,esri,wonder,scribd,cubesats,smoking,criteo,milton,flex,desk,carvana,compass,zelda,autopilot,monashees,menopause,sims,merchant,noom,trash,dott,likee,expensify,solarcity,careem,sousmile,hawkins,sixth,acquia,netgear,springer,voyage,arjun,isreali,abby,kearns,grammarly,silbermann,chronic,automobiles,imessage,cassandra,pathology,qihoo,cleantech,madrone,common,ecosystem,cta,21st,friends,tubi,rich,iii,latam,agent,rating,clover,meatable,greatpoint,cmu,dfinity,courtside,allvp,antonia,eing,sensel,woocommerce,anchorage,boyce,scaleway,medium,aliexpress,mint,efounders,ccp,momenta,karl,iagnemma,2021,orcam,scaringe,valencia,rsa,sxsw,competitions,metaverse,spongebob,squarepants,baraja,lessin,lastline,moxie,marlinspike,envision,sleepbuds,identification,kentik,vistara,adevinta,burberry,illustrator,flixbus,magellan,matney,chainsmokers,sharon,pompeo,skillshare,tracxn,welab,roborace,addventure,dry,auditing,popsugar,thrillist,thune,moment,near,interview,walden,options,gamifying,graf,curio,translation,continuity,habana,mounted,legere,makemytrip,toro,grady,penny,pritzker,vlocity,labeling,vickers,brockman,netscape,bunch,kubeflow,qi,incident,neidig,oscars,hall,noyo,brett,stubhub,yubikey\n"
          ]
        }
      ]
    },
    {
      "cell_type": "code",
      "source": [
        "import re\n",
        "\n",
        "# use regular expression to remove numbers\n",
        "updated_string = re.sub(r'\\d+', '', words_string)\n",
        "\n",
        "print(updated_string)  \n"
      ],
      "metadata": {
        "colab": {
          "base_uri": "https://localhost:8080/"
        },
        "id": "EWpYTx0uCf-9",
        "outputId": "b8633564-43d6-4db2-ac65-85281fd23d50"
      },
      "execution_count": null,
      "outputs": [
        {
          "output_type": "stream",
          "name": "stdout",
          "text": [
            "capital,google,ventures,united,covid,,coronavirus,states,apple,amazon,computing,space,facebook,techcrunch,,venture,cloud,microsoft,software,partners,technology,data,media,security,intelligence,online,social,finance,artificial,economy,learning,equity,spaceflight,china,health,mobile,india,startups,new,services,video,uber,business,ceo,food,machine,asia,electric,entrepreneurship,startup,crunch,europe,web,company,systems,outer,tesla,exchange,operating,spacex,streaming,management,commerce,private,california,twitter,group,apps,vehicles,trump,kingdom,tiktok,android,european,disrupt,marketing,app,general,york,articles,digital,combinator,america,san,financial,softbank,tech,technologies,fund,daily,instagram,service,africa,enterprise,computer,companies,tc,internet,francisco,government,ai,union,musk,co,iphone,infrastructure,smartphones,elon,cars,energy,netflix,live,sessions,games,protection,nasa,delivery,president,commission,law,samsung,global,tv,work,search,founder,election,disney,privacy,administration,corporate,falcon,store,france,healthcare,spacecraft,sequoia,world,ios,salesforce,station,international,london,zoom,robotics,lyft,advertising,los,angeles,mobility,extra,shopping,music,banking,university,partner,satellite,youtube,spotify,bank,retail,national,emerging,walmart,hyperloop,podcast,federal,vision,alibaba,bytedance,inc,gaming,public,saas,acquisitions,remote,driving,news,ces,rocket,mergers,ford,north,sharing,include,investment,self,car,science,boston,telecommunications,florida,mark,development,reliance,southeast,market,airbnb,labs,open,germany,smartphone,regulation,department,education,jeff,lab,south,reality,donald,com,driver,information,model,manufacturing,customer,stage,slack,virtual,system,michael,smart,visa,andreessen,conferencing,network,foundation,windows,early,play,industry,recognition,g,japan,automation,content,city,air,platforms,motors,david,consumer,autonomous,accel,singapore,whatsapp,messenger,horowitz,latin,entrepreneur,meat,washington,zuckerberg,force,mexico,tools,peter,electronics,travel,card,stock,vc,cybercrime,texas,developers,steve,founders,real,fintech,doordash,research,home,networks,human,source,green,huawei,jio,officer,alphabet,max,intel,stores,blue,alexa,medicine,wireless,engine,communications,spokesperson,verizon,code,chief,cryptography,micromobility,australia,engineering,platform,applications,encryption,catalyst,commercial,immigration,lunar,aws,executive,starlink,broadband,sony,white,lightspeed,offering,insurance,foods,growth,house,newsletter,snap,initial,telemedicine,rights,oracle,bessemer,goldman,supply,epic,xbox,series,day,wework,john,medical,robot,assistant,industries,nintendo,tencent,quantum,paypal,chrome,jack,congress,sachs,antitrust,money,nigeria,virgin,twitch,ibm,battlefield,waymo,eric,wide,one,grocery,israel,shopify,adobe,bluetooth,surveillance,bezos,credit,tim,hbo,transport,payments,facial,misinformation,layoffs,challenger,tourism,chain,demand,event,messaging,crunchbase,aerospace,brazil,snapchat,product,act,gig,martin,b,times,cyberwarfare,dragon,italy,github,bill,program,automotive,battery,devices,seattle,toyota,scooters,joe,ireland,pinterest,sophie,aviation,unicorn,flight,robinhood,mike,estate,securities,linkedin,justice,east,insight,stanford,imaging,biden,tiger,sf,enforcement,alex,storage,launch,speech,monday,postmates,boeing,drug,alcorn,mit,breach,holdings,head,palantir,lee,motorcycles,lockheed,design,nvidia,ipo,vehicle,origin,jim,flipkart,ordering,telehealth,breaches,spain,accelerator,phones,agency,valley,uk,drink,instacart,big,galaxy,tracing,canada,volkswagen,us,disease,ggv,week,retailers,square,azure,korea,api,matt,yc,echo,hosting,free,browsers,future,james,artemis,experience,hardware,first,engineer,incubators,chris,dynamics,ransomware,eu,websites,office,coinbase,deep,pixel,diversity,fda,organization,identity,competition,silicon,edtech,khosla,institute,walt,vodafone,kubernetes,adam,lake,telecommuting,twilio,frank,gm,johnson,industrial,gas,andrew,culture,audio,roblox,chicago,maps,lagos,processing,devops,augmented,prevention,covid,prime,bain,motor,workers,fortnite,beijing,kleiner,jason,stripe,scott,control,harvard,marc,brian,board,russia,carolina,austin,dropbox,perkins,atlassian,voice,indonesia,morgan,cisco,analytics,malware,trade,ryan,qualcomm,sales,innovation,techstars,game,cannabis,hulu,policy,kevin,street,cambridge,watch,managing,trucks,os,wwdc,director,paytm,taiwan,scooter,kenya,galactic,d,dorsey,ted,ambani,satellites,player,cord,cutting,zomato,labor,ads,time,accessibility,nest,leary,ml,ecommerce,keith,direct,african,revolut,esports,linux,airlines,television,cloudflare,xiaomi,quibi,league,safety,senate,lucid,device,gdpr,email,school,massachusetts,transportation,pro,charles,crew,dell,comcast,small,mass,club,climate,mental,michigan,playstation,disinformation,zealand,party,speaker,mukesh,peer,care,mac,rivian,greenhouse,presidential,wall,seed,crm,alpha,berlin,renewable,politics,ben,oculus,ant,west,atlanta,substitutes,roku,electronic,josh,kong,photo,sap,collaboration,developer,monzo,macbook,headphones,subscription,lemonade,contact,red,brent,bmw,agriculture,starship,simulation,asana,plaid,itunes,gates,coast,fitness,investor,bird,switch,emissions,ebay,greylock,chat,sports,sciences,gillmor,access,kids,things,hong,target,association,jennifer,andy,aurora,pay,peloton,payload,language,biology,tel,george,initialized,neural,aaron,voting,networking,,nasdaq,dara,khosrowshahi,earnings,round,leader,bike,drones,aviv,nevada,wechat,pitchbook,area,berkeley,neobank,index,vaccine,podcasts,reddit,unity,point,solar,native,publishing,impossible,beyond,printing,barcelona,pandemic,justin,ride,ad,ev,smith,toronto,sarah,discovery,life,defense,acquisition,fire,pharmacy,margrethe,vestager,battle,center,ipad,demo,funding,bikes,paul,spac,dating,spark,edge,virginia,snowflake,entertainment,honda,palo,alto,corporation,fitbit,pichai,charging,cards,surface,daniel,studio,silver,firms,gmail,louisiana,w,cancer,terms,plus,metal,employment,telecom,associates,rob,warnermedia,investing,upfront,impact,orbit,process,american,section,editor,blockchain,sensor,tower,las,vegas,drone,guide,password,cybernetics,hate,lerer,arm,okta,serial,payment,hailing,gift,spaceport,bridenstine,denis,pombriant,radice,teare,markman,coatue,ups,project,mario,,sundar,uc,netherlands,denver,products,yahoo,leap,hippeau,jones,cook,airtel,true,zero,aircraft,angel,cowboy,atlantic,personal,fundraising,bay,astronaut,arizona,investments,temasek,ohio,georgia,matthew,sam,norwest,roundup,court,magic,events,mozilla,lime,greycroft,films,photography,vice,dan,dow,chime,jobs,motorcycle,jon,kapor,dc,lander,advisors,natural,earbuds,auto,airline,brand,brad,wearable,journal,whole,manager,mastercard,cybersecurity,database,nikola,detroit,women,cruise,jose,fremont,political,qualtrics,marketplace,recruitment,creative,biotechnology,box,ghana,nadella,collective,nea,hudson,logistics,laser,boring,moon,testing,floyd,targeted,nbcuniversal,tinder,tracking,colombia,go,nairobi,carbon,suite,precursor,headspace,affirm,io,genomics,show,nations,ron,computers,vista,governor,tom,oxford,airpods,text,sapphire,dallas,satya,gv,byju,analyst,casper,oyo,switzerland,coffee,contract,urban,change,relationship,porsche,user,price,committee,insurtech,roelof,botha,shanghai,benioff,firefox,thomas,felicis,centers,harley,lg,legal,bob,firstmark,hyundai,hummer,eqt,mustang,thierry,elections,bureau,pennsylvania,black,hero,vmware,infection,end,mining,sharma,chan,power,designer,chips,crispr,jassy,databases,alexis,valuation,kickstarter,semiconductors,menlo,banks,subscriptions,iran,robots,vr,warner,hybrid,unilever,decrypted,debt,narendra,modi,nhs,pitch,electricity,trends,crowdstrike,benchmark,davidson,beck,venmo,mars,next,hans,radio,animation,investigation,traffic,weekly,matrix,swiggy,phone,williams,,invent,monitoring,levie,ohanian,angellist,grid,crime,volvo,cell,grab,canaan,blackrock,illinois,materials,original,breton,freedom,lidar,travis,getty,duolingo,elizabeth,bicycle,eats,contacts,booking,dark,horizons,surveys,lambda,rental,austria,luckin,physician,king,coo,jersey,warehouse,airbus,photos,vulnerability,team,craft,teleconferencing,portland,fcc,browser,review,metromile,viruses,motorola,az,solutions,miami,freeware,pfizer,nubank,chairman,jumia,jd,tax,chemicals,rover,oliver,femtech,alliance,grubhub,stories,ar,utah,vroom,markets,foldables,basketball,,low,servicenow,fuel,property,diego,movies,serverless,wi,unmanned,stanley,super,controller,cbs,moderation,deliveroo,libra,vpn,tony,partech,listing,karma,distance,atomico,redpoint,yuan,speakers,fashion,high,sound,pharmaceutical,gps,peacock,reilly,authority,crypto,safaricom,uganda,sql,share,hat,mercedes,saudi,arabia,oil,lux,reels,journalist,raspberry,semiconductor,northrop,grumman,ellis,cyber,brown,bolt,schrems,visual,fisker,fox,jfrog,owl,madrona,brex,wang,cvs,buzzfeed,fake,homepod,,average,emergence,nba,microblogging,mary,hacking,fraud,phishing,dave,zendesk,family,vaccines,fi,nick,camera,shenzhen,supreme,cryptocurrencies,nissan,unicorns,teams,oneplus,hotstar,pi,tsmc,children,astrobotic,balderton,foundry,robert,python,images,reporter,,oneweb,javascript,oppo,boris,stephen,contents,civil,arvind,unpacked,ola,results,highland,bosch,member,prop,vc,nike,iot,av,resource,corp,cross,exploration,getaround,winter,quest,zach,parents,eniac,brennan,richard,waste,ourcrowd,spin,taylor,maxar,alley,vacation,amsterdam,electrical,attorney,yelp,parker,alan,agile,debris,deepfakes,cox,rowe,truck,post,merchandising,altman,houston,riot,prosus,gavin,algorithmic,parliament,crowdfunding,jira,patrick,authentication,sidewalk,censorship,pacific,klarna,carnegie,mellon,starbucks,sleep,construction,plug,cyberattack,harassment,udemy,photoshop,legends,middle,ro,occupational,book,liquid,obama,annie,interswitch,stocks,krishna,face,multi,discord,adidas,canalys,thiel,chile,gitlab,moto,plexo,ignite,gradient,bing,meet,hopkins,heavy,environmental,orion,shield,efficiency,mechanics,hacker,moderna,optimization,navigation,sacks,zoox,redwood,image,reid,conference,munich,investors,imagery,airtable,aileen,newsom,maryland,performance,version,unacademy,ikea,vertex,flash,tpg,working,drive,sierra,audi,chrysler,virus,two,sustainable,broker,kaszek,relativity,therapeutics,meditation,apis,vw,pitchers,pitches,henry,deutsche,migicovsky,deception,pete,arkansas,alipay,ncino,mubadala,delta,delhi,special,mini,plastics,pincus,bias,sydney,greg,chen,shasta,homebrew,mayer,kim,ian,racism,zte,thailand,summit,belgium,based,drugs,oscar,eight,howard,equipment,hoxton,revolution,astroscale,community,factory,female,adtech,deal,instant,pentagon,cameras,nuro,artist,hoffman,rick,thrive,loans,lane,cryptocurrency,schmidt,warren,judge,rwanda,kobo,workflow,liberties,duo,fold,wealthfront,governance,gil,bradley,irobot,list,dst,engines,sight,von,vietnam,rakuten,survey,anthony,vaccination,daimler,panasonic,bros,years,minneapolis,iowa,connect,wilhelm,jump,philadelphia,webmail,telegram,wave,emc,zynga,masayoshi,son,interactive,mitchell,doug,philippines,root,bigcommerce,ribbit,harry,vancouver,tanzania,triller,exposure,walgreens,signalfire,sonos,star,fiat,draper,wellness,cyberattacks,third,qubit,seibel,border,omers,golden,erp,polestar,jedi,chip,fiction,bumble,proptech,productivity,hdmi,freight,ground,musicians,viacomcbs,democratic,siri,jessica,kirsten,datadog,olympics,long,jay,patreon,finix,jenny,bret,m,,gojek,,alaska,debit,hr,docusign,portal,ban,calm,columbia,prize,christian,defy,major,fidelity,pharmaceuticals,kemp,crunchmatch,nfx,hp,canon,dhl,brands,ps,worlds,amy,logic,nbc,desktop,kkr,fj,initiative,supremacy,analytica,databricks,pesa,case,baidu,studios,sweden,bonatsos,berkshire,salt,inclusion,mwc,duckduckgo,videos,dubai,hangouts,bloomberg,council,stewart,rawlinson,bfr,tess,hatch,egnyte,tusk,roads,farming,crimes,igtv,mission,forward,retailer,ada,doudna,football,nature,mcdonalds,finland,radiation,match,field,scale,yang,tier,deck,lenovo,chiang,build,cohen,scientist,ann,unusual,bling,xpeng,norway,nexus,blume,sun,floodgate,basecamp,rentals,players,forerunner,macos,kuaishou,telekom,openstack,insights,kart,coursera,reach,hustle,montana,transferwise,constellation,andela,cash,pp,paga,bangladesh,lo,hill,walk,levchin,klein,medicare,franklin,anne,d,podcasting,michelle,exercise,ring,rahul,vohra,movie,capella,yl,yext,biontech,csail,m,entrepreneurs,malaysia,biotech,noise,sim,dna,argo,arr,astronomy,continuous,robotaxi,alabama,wing,ubisoft,artists,christmas,nso,decency,display,connie,helsinki,speedinvest,sumo,nfl,icloud,ambient,rre,chamath,palihapitiya,liu,teacher,left,pei,rico,tan,eventbrite,hunt,pence,sagemaker,id,webex,sri,niantic,healthtech,factor,marketplaces,poland,procore,opendoor,ethiopia,flutterwave,isp,nokia,fusion,ge,accounting,peru,alexander,graphics,rohit,influencer,crv,baillie,gifford,gmc,pubg,argentina,vp,vulcan,warburg,good,lego,fedex,machines,sedans,felix,hiring,intuit,restaurants,military,copyright,frontier,records,threads,flybridge,trackers,uipath,personalization,cto,livewire,ike,pitango,tablet,mixed,ec,burns,spreadsheet,mirror,vivo,yin,primary,naspers,garry,oregon,nine,das,books,bitcoin,widgets,homescreen,braun,troy,water,nestle,jeffrey,cleo,trello,deloitte,valor,jamf,chiu,nutanix,lemkin,bharti,toney,distributed,zhang,view,notification,stadia,uncork,breakthrough,additive,raptor,dot,perseverance,otto,hims,wrap,mirantis,dc,writer,bernie,sanders,state,flu,politicians,burger,launcherone,astra,anna,spaceshiptwo,octopus,substack,enterprises,mongodb,ali,kindred,tung,portugal,canva,models,pittsburgh,biometrics,docsend,kate,vijay,shekhar,fika,olaf,sakkers,puerto,decentralized,william,accountability,commissioner,prasad,pavel,lin,sprint,meg,whitman,cb,larry,kelly,kabbage,blake,emily,rooms,jeremy,pinduoduo,creators,mayfield,emirates,building,qwant,honeywell,pr,electron,jordan,propulsion,baseball,joshua,diabetes,base,santa,clean,ethan,customs,rigetti,boldstart,warehouses,mysql,fertility,synthetic,pain,galvanize,robotic,la,turner,didi,cruz,takeaway,vanessa,financing,foxconn,gohealth,dublin,clubhouse,chinese,firewall,lending,eat,positioning,outage,calling,lisa,job,armstrong,classpass,mobileye,bangalore,getyourguide,singtel,jp,chase,runway,coding,jan,tile,meesho,paris,hathaway,todd,recession,hub,countries,scotland,adyen,mandalorian,johns,ecl,axa,stem,connected,koch,purpose,therapy,verification,gamble,labcorp,esa,theft,li,openai,gopro,eduardo,java,well,baltimore,tableau,crowdsourcing,pets,org,dylan,communication,prisma,nielsen,de,pew,passion,scopely,boom,location,local,genetic,trivia,chernin,tusimple,benz,strategy,families,harms,mail,dji,glass,fifth,quora,police,caffeinated,sofman,nancy,shin,mayor,mateo,editing,balloon,decentralization,durov,carter,blackberry,giphy,conservation,chromecast,tcv,betaworks,kurian,unreal,fix,programming,udaan,niko,ram,casa,guo,banister,starling,funds,colin,lawson,melinda,short,classes,threshold,slootman,elliott,shuttle,wisconsin,hunter,dawn,embedded,boxgroup,jonathan,counterfeit,northzone,amadeus,playter,chair,fireeye,warby,optum,connecticut,russell,colorado,livongo,neumann,autodesk,cable,espn,horizon,teachers,inductive,smartwatches,pricing,eleven,republic,richards,stonks,kfc,jaxa,rose,roche,seth,nextview,resources,martech,disabilities,joseph,onboarding,chargepoint,kroger,oakland,minecraft,lululemon,hearst,cybertruck,bronco,ftc,lu,slow,perret,zebra,agarwal,disaster,contractor,meituan,shipt,helen,spyware,xcloud,stratosphere,ethereum,zimbabwe,accessories,phil,van,katzenberg,tlcom,joel,analysis,generation,activision,hippo,stitch,carolan,soundcloud,phonepe,reed,link,worldpay,wu,simon,kia,rise,child,emoji,pakistan,allo,vtol,hawk,keybase,animal,chromium,memphis,speed,surgery,yandex,spot,opera,turkey,julia,chatbot,depression,cathay,lazada,chapek,reddy,mucker,cells,cd,ocean,notion,mesh,film,ionq,website,jet,caryn,marooney,iac,vimeo,start,astrazeneca,recruiting,sigma,chatbots,island,planning,sophia,ii,smes,amit,moore,cadillac,bitmoji,bug,interference,royale,arbor,goodrx,natasha,anti,drew,zurich,rabois,influenza,atrium,kan,trading,cdc,naval,ravikant,hearing,glassdoor,branson,seoul,recycling,sk,million,tripactions,zeev,kansas,thoma,bravo,pai,houseparty,tab,jacobson,claire,gurley,citi,quizlet,degreed,emerge,tracy,village,flipboard,nvca,stockholm,twiga,iconiq,loon,,portability,madrid,ross,plan,languages,relations,orbex,trinity,cultured,tyson,integrated,neuberger,orleans,arts,filters,gsr,light,saverin,jake,wars,planet,ccpa,paper,carta,rappi,marshall,test,suster,lens,sensors,vaping,turing,angels,key,figma,army,splunk,fast,butterfield,julie,chef,masterclass,serena,amplify,xerox,firefly,zenefits,physics,abuse,bandcamp,expedia,bbc,roundtable,bc,reading,clearview,multiverse,young,wordpress,voi,disability,dmitry,cubesat,zatlyn,homage,bicycles,benefits,lufthansa,levandowski,damon,docker,superhuman,europas,construct,evans,musical,universal,philips,usb,sams,ubs,jr,novel,matter,today,behavioral,lasers,loizos,kopelman,bose,neuroscience,oura,canvas,harris,vsco,ethics,flexport,term,gofundme,ludlow,doj,currencies,taipei,hewlett,packard,macintosh,conrad,moovit,top,wealth,egypt,flip,collab,course,jomayra,learn,rackspace,n,transparency,lueders,qatar,synergy,operator,nyse,adware,shot,cannon,practice,deepmind,hubspot,aerial,evan,outlook,roman,kit,site,templeton,jaguar,gigafactory,devin,advisor,modeling,arab,rtp,khan,karan,northern,marco,point,estonia,suisse,bansal,carsharing,tampa,zume,ea,architecture,allen,pagerduty,apache,oklahoma,ukraine,emmanuel,sendgrid,espionage,western,kerry,c,ray,siemens,tweets,stopcovid,kitty,seedcamp,emsisoft,genetics,dnx,runa,blossom,illness,builder,babbel,npe,dcvc,theaters,wanxiang,appdynamics,summer,energica,garmin,andme,segment,pandora,georgian,vera,feed,voter,mascarenhas,team,cuban,kramer,nasscom,tsay,take,cooperative,ab,conspiracy,theories,extremism,hey,ipads,ravi,jesse,central,albert,sinch,dish,express,programmer,g,jai,sebastian,foldable,s,plex,note,delaunay,gartner,redesign,udacity,bent,bigbasket,cherry,ping,age,yale,dream,report,elad,providers,solomon,apptopia,wayfair,jackson,hax,cyan,invision,byron,spiegel,jensen,yammer,crossing,meats,goop,denmark,circuits,campbell,spamming,shepard,agtech,signal,tobii,tobel,procter,albums,talkspace,pocket,call,smartwatch,arora,playground,snoop,dogg,higher,brooklyn,nashville,net,journalism,pc,furniture,nextdoor,omnichannel,hussein,kanji,czech,farfetch,frederic,rent,tuesday,harbor,exit,fab,wish,nosql,training,microservices,albertsons,rhode,gamification,order,goodwater,hancock,byte,forbes,looker,french,gary,freshworks,coworking,localglobe,automattic,shevelenko,swarm,babylon,waze,vanmoof,autotech,linus,torvalds,graph,bayer,luminar,mammoth,keyboard,sms,zillow,ajit,kepler,production,aptiv,ly,logitech,celina,jb,straubel,brussels,jourova,caching,sacha,conway,great,geoff,labster,sharechat,glovo,cares,etsy,maveron,nation,telstra,jpmorgan,inspired,layoff,craig,videoconferencing,server,kunst,dustin,moskovitz,costanoa,reuters,bootcamp,lynn,coalition,cred,pwc,best,smiledirectclub,checking,kathryn,zymergen,saastr,patagonia,zipline,processor,blck,form,aol,coca,cola,sosv,nio,messages,istanbul,mulesoft,merck,college,npd,freada,mitch,seniors,workplace,guardian,adventures,brain,datto,joey,asset,ecuador,struck,cerner,newview,highway,environment,jakarta,channel,iger,karthik,chegg,gwyneth,paltrow,monica,turo,duke,engineers,weiner,carlos,minnesota,physical,collins,gucci,grove,rogier,safe,lerman,chains,taskrabbit,voyager,gateway,heroku,spaceplane,symantec,cycling,acrew,unemployment,obvious,gpu,zscaler,micro,nauta,forum,knowledge,nhsx,olympic,orlando,flying,ed,frontline,gender,miller,morris,iron,transfers,nlp,miso,rocketry,hashtag,vertical,derek,room,masten,cockroach,alchemist,gang,anthos,parental,creek,partovi,pet,transit,eileen,amc,canoo,velez,biosciences,supersonic,tlv,telecoms,campaign,stations,bb,launches,hertz,nova,rift,outschool,arcade,wwdc,henrik,mikolajczak,hackerone,oled,klobuchar,wyden,lives,racial,usa,democrats,safari,wilson,idg,multimedia,truecaller,insurify,weibo,copenhagen,saif,bpifrance,line,restaurant,shutdown,fdic,hoover,barr,ico,stablecoin,consent,alternative,mach,fairphone,hololens,investcorp,helios,toast,omio,containerization,wan,bridge,configuration,ginni,rometty,ellison,skype,razr,rosenstein,skyflow,douyin,signia,deadpool,bench,darren,optical,character,edison,tayo,oviosu,ginkgo,bioworks,manchester,murphy,pappas,timnit,gebru,ipod,bluejeans,pokémon,meetings,microphones,tivo,santander,ee,deeter,mmhmm,qr,managed,moritz,second,medicaid,mentorship,ubiquitous,pony,beach,amd,chevrolet,vrionis,xp,mask,therapist,onfido,flourish,razorpay,dubsmash,trek,squire,influencers,charlotte,neutrality,barra,atari,hope,cochran,pen,se,headset,lucy,songs,,gocardless,eaze,accenture,cashierless,blueyard,steel,macron,incubator,bull,aydin,senkut,neil,atlas,callahan,ko,verde,student,mariam,naficy,iris,gamer,genesis,magma,ciso,arch,economic,bigquery,groupon,geely,taxis,kitchens,diagnostics,dcms,rally,soma,mitsui,,kumar,button,hq,watchos,ivp,marcus,tyler,revel,bali,jyoti,away,cornell,ilya,valence,hackett,outdoor,voices,byd,schwab,support,tokyo,concur,beta,crane,ion,rd,annual,periscope,pax,tcl,olympus,laptop,microphone,røde,chromebook,duncan,ethernet,antler,prince,registration,u,vienna,warsaw,zachary,breyer,fenton,communist,barry,fenwick,supercell,graphcore,reserve,sustainability,herrera,fried,jared,concerts,sweeney,set,check,transformation,file,baker,kuffner,jocelyn,producer,unions,cutler,matern,graphic,capitalism,rachleff,svp,pension,hamilton,nascar,chipper,centre,garrett,niklas,recommendations,cooking,housing,katie,rae,worker,automated,better,underscore,lucasfilm,tsg,advanced,raleigh,buffalo,vinod,cellular,glossier,year,pizza,cfo,rachel,shahin,farshchi,cameron,coldewey,kpcb,geographic,chrysalis,raibert,glenn,eye,brothers,issues,ia,casey,obesity,netease,pluralsight,gupta,run,idea,pictures,marvel,mlb,curve,weiss,matthews,phaedra,lamkins,watching,imagine,academy,hinge,chem,hemi,brandless,frankfurt,consumption,n,copilot,anand,radar,cloudera,astronauts,digitalocean,nursing,heater,robin,swiss,warming,depot,superawesome,purchases,taxi,formula,revenue,wells,fargo,pre,clara,compliance,wadhera,slingshot,checkout,sparklabs,huffman,dollar,sexual,christopher,apeel,sale,interfaces,bitbucket,harper,fulfillment,orchard,amp,congruent,river,pillar,libin,evtol,ajay,kara,marriott,melbourne,rubin,envoy,blocking,jain,kaiser,cuomo,git,bryan,fact,m,melissa,uruguay,hartz,javier,ophelia,easter,intercom,dcm,stefan,bio,batteries,smartnews,jurvetson,tribeca,siegler,singh,integration,dragoneer,jamie,quinn,rothenberg,eve,pandadoc,dpc,color,acorns,people,faze,clan,vestberg,lithium,sofi,fontinalis,soft,cvc,loom,merlin,exor,fca,romania,labels,citigroup,reform,velodyne,buttigieg,fred,communities,accelerators,byton,morningside,darrell,etherington,susa,tonal,catterton,deepinder,goyal,ritesh,status,downtime,baby,dixon,johnny,portable,lightroom,kahoot,marshmello,creation,localization,durable,limited,pat,travelperk,block,workflows,relational,wistron,corsair,karp,spruce,spacs,internships,graham,euwyn,poon,treasury,teachable,jamin,ball,chesky,buy,navy,nauto,neuralink,arlan,cre,quona,ericsson,blavity,debaun,talent,literacy,asheem,chandna,volpi,dreamit,illumina,sahil,lavingia,yiming,action,mcdermott,folding,thermostat,rome,stamos,upgrade,immigrants,remitly,milan,oslo,similarweb,five,interface,taavet,hinrikus,clothing,doerr,midi,halo,oecd,ready,kirkhorn,shieber,byers,nigel,hashicorp,migration,clearpath,disruptive,lighting,stacy,faraday,carl,hummingbird,june,ns,premier,lean,northwestern,hazel,erectile,dysfunction,collaborative,everlywell,verily,mx,logan,mode,religion,fair,advice,purple,neologisms,reviews,rechargeable,screens,neo,boats,tennessee,condakchian,juul,moscow,intellectual,dev,kurzweil,levine,expeditions,businesses,anywhere,spectrum,ing,gottlieb,dealerships,humans,pokemon,lilium,connectivity,venrock,albo,hsbc,reef,rafal,modrzewski,spire,anshu,press,wix,postgresql,broadcom,tweet,zwift,netapp,guy,brick,mortar,levy,peg,jerry,made,walker,accomplice,thoughtspot,capitalg,biofuels,bowery,turck,shipping,earth,packaging,collett,doubleverify,americans,stack,goldberg,lakestar,groupware,grand,dairy,robinson,snyk,bentley,pelosi,sean,apax,like,fisher,oversight,flatiron,reshma,yoda,sao,paulo,gif,lanzatech,burbidge,hasura,aggregator,xilinx,ramp,recovery,weather,abu,dhabi,mehta,vu,park,susan,dyson,core,ci,onofrio,,person,song,blackstone,controls,ned,slice,typeform,philip,siriusxm,valve,legend,swiftmile,cjeu,employee,mojave,avatars,ripple,childers,cncf,command,qoobo,motional,canix,ultra,cologne,perks,seedrs,directive,expression,clinton,robocalls,amir,smartglasses,amish,jani,frederik,groce,korosec,fever,hillhouse,zoominfo,gabi,massmutual,viola,bedrock,novak,response,counterpoint,altos,breed,dennis,buchheit,georgetown,emarketer,programmatic,brave,bidding,yamaha,jess,magsafe,movidius,circular,inovia,displays,telephony,zeta,indiegogo,paystack,offs,edsights,forgepoint,cyberark,cybereason,containers,imperva,bajracharya,coneybeer,liberty,toutiao,smbs,greenspring,freestyle,glotzbach,blair,gigafund,meeker,aviva,surveymonkey,ruby,hipcamp,vanderzanden,etrade,kuiper,madison,sweetgreen,fifty,adrian,backstage,kobie,fuller,murph,zapier,bosun,tijani,fis,hackathon,sprout,jewel,stockx,couchbase,memory,cad,blackbird,notation,sv,equinix,cnil,partnerships,akash,current,luke,sage,altair,lydia,lattice,mentorships,maker,ppp,footwear,bieber,memes,peak,tomtom,shutterstock,holt,raytheon,harrison,roadster,impairment,fredrik,sea,mindstrong,plant,generated,livestreaming,shum,brandon,mcafee,jean,lunchbox,draftkings,wine,st,constine,myanmar,aggregators,foreign,maniv,simulator,pass,ps,kitchen,score,components,gear,fernandez,breast,charger,recording,kuo,chi,ink,hack,clearbanc,ag,mlops,coach,sinai,singularity,pine,credential,stuffing,mangrove,manhattan,jetblue,among,huntsville,landing,terri,qed,miura,roper,pioneer,representatives,axiom,indie,op,meetup,sacramento,branding,pledge,barber,adult,donotpay,transcription,shave,prelude,valar,dns,wirecard,quickbooks,targeting,bonfire,ashton,anil,bindu,beats,dickey,besmertnik,beef,nash,agrawal,volocopter,hospitality,intuitive,nortman,parking,amnesty,facetune,lightricks,grindr,hygiene,neotribe,hampshire,mariadb,stone,polaris,faa,longevity,dayna,grayson,dfj,kamala,soltero,gate,moorhead,cognitive,skydio,docs,mojo,aggregation,exoskeleton,help,wellbeing,foresite,hemant,redis,ampere,pathbreaker,veterinary,trucking,goeuro,whitney,wolfe,saic,theatres,warranty,beam,einstein,blizzard,eren,dashboards,bell,sonny,steven,jen,appworks,vineet,hypertension,ifa,harness,vostok,vega,gchq,siminoff,century,opay,shagaya,edward,lines,shah,kodiak,houzz,sheet,sky,pham,roomba,ferguson,directors,guides,ralston,technical,picks,intelsat,riverpark,matidor,asus,conferences,drake,qanon,chuxing,integrity,baron,worldwide,goldenberg,zalando,capchase,zack,osterloh,abhay,pointy,finservices,mtech,silverton,howie,lucas,cédric,vlad,assembly,alexandria,ocasio,cortez,audit,huffpost,jonah,peretti,eprivacy,shankar,homekit,district,schroepfer,ovitz,chung,shrug,olx,cbinsights,elegbe,lynda,hercules,viacom,buds,story,goldfein,roslansky,shelf,accolade,circle,yubico,roland,rebecca,shauntel,garvey,pipedrive,tripadvisor,lock,alexia,frog,agility,x,account,cookies,damien,superpeer,lonsdale,s,hawaii,lori,telefonica,mart,newark,camp,gett,photographer,glynn,altimeter,sutter,axios,eclipse,gulf,pilot,podium,appliances,prague,riaa,visualization,perch,shogun,heartcore,usability,kellogg,wenger,goods,edinburgh,hawley,land,noah,loverro,budget,tristan,eth,grey,chad,fastly,jpl,aerojet,rocketdyne,blindness,march,lehman,bullpen,cigna,town,sondermind,nandan,nilekani,surgical,doctor,kry,omidyar,sethi,mcneill,ispace,lowercase,lawsuit,ula,burke,bluevine,neeraj,openview,datometry,grazer,raj,cyberpunk,technica,applied,fpga,nanoracks,touchscreen,m,sheets,daqri,sense,mccarthy,meadow,barrett,saper,belarus,roy,discrimination,vishria,satish,napster,yuri,value,mercadolibre,bounties,meritech,gpt,risk,quantumscape,skyroot,asteroids,katerra,cities,teens,rojas,smb,strava,ethena,gsv,mckinsey,record,ling,workboard,flashparking,spam,mountain,rao,bankruptcy,markus,lebron,mindfulness,mathematics,base,flagship,eastern,element,ebikes,fiber,patel,allianz,conan,vector,bendz,barack,interoperability,wheels,lily,ghodsi,statespace,holle,medtronic,appsflyer,airways,jam,wellington,upguard,equal,rapid,avast,ringcentral,fixel,urgent,tool,tao,sequeira,seraphim,ariel,kentucky,trolls,indiana,eurazeo,warehousing,latent,muglia,margaret,nagle,next,plangrid,threat,lawrence,playvs,bannon,caregiving,kormo,icon,holmgren,palm,cyberspace,sheryl,sandberg,edith,herd,optimizely,dick,aclu,gong,empower,whitehurst,sabre,shared,destin,kawasaki,xwing,megan,farms,awards,skyrora,sid,cooper,farley,cat,oprah,safeway,pierre,sisense,elephant,cancelling,appian,coupa,laura,henrique,dubugras,tulsa,katherine,messagebird,homeland,ham,serunjogi,ng,churn,activant,atg,arianespace,berg,stephanie,lior,phoenix,ritual,grant,insider,spent,thompson,lordstown,luca,ex,machina,dental,success,anki,transmission,suse,desmond,airplane,johnston,standard,scoot,gross,mccue,bt,nuvocargo,hipmunk,norwegian,ferrari,malta,mitsubishi,idc,cbre,beuc,hart,resilience,courier,package,legaltech,contractors,credo,cleaning,clegg,explorer,microtargeting,onavo,quantcast,leaf,launcher,roc,schiller,fm,bnp,paribas,cofounder,lte,zuoyebang,auth,octarine,jenkins,tensorflow,elasticsearch,squad,pattern,julian,mophie,imac,tye,brady,zetta,wrike,safra,catz,outbrain,taboola,token,vedantu,bharatpe,pollution,backend,napa,panos,southwest,haus,betterment,teller,acast,ministry,banjo,patton,harlem,digitally,transforming,mckinnon,matternet,jumo,renault,wasabi,processors,juggernaut,s,gumroad,brooke,zagaris,alonso,moonshot,weekend,mapping,dream,ecobee,torch,bigo,ramsey,exits,dr,matchstick,accidents,apartment,sneakers,chargers,alameda,county,caufield,farmwise,pepper,cyril,pantheon,lead,juno,baszucki,attack,gibeau,mosseri,rogas,maha,ibrahim,mutual,supercomputer,belsky,nurx,maven,clinic,angelo,updates,le,agritech,renting,payu,lizhi,wong,jiomart,seamless,zimmer,abc,hooq,murdoch,printer,gpgpu,mulan,pixar,airpower,songe,laron,linguistics,dishwasher,voodoo,louis,leasing,projekt,shure,oceanic,atmospheric,instruments,ruth,activity,andrea,upwork,yap,deshpande,gonzalez,cadenas,vox,michele,romanow,lighter,insignia,kayhan,maverick,crista,galli,hear,xfinity,hot,lone,maersk,compression,railsbank,salman,sykes,philpot,cowen,childcare,superset,m,lady,firehawk,chapman,nolan,twttr,fiverr,acton,ownership,joaquin,ticketmaster,szulczewski,seeds,toba,death,kutcher,flo,vend,brien,billing,irl,groceries,roger,continental,greece,autism,flare,bussgang,victress,circ,nerdwallet,opentable,soraya,darabi,ackerman,pachama,solugen,tsai,gabe,body,cognizant,noyb,formation,ancestry,german,wikis,actress,rethink,netsuite,stix,blood,salesky,liquid,lyra,,gap,thredup,gogoro,susquehanna,omar,techsquare,mems,ureeka,basis,interaction,klaus,zellmer,huang,refraction,missouri,rajan,defamation,logging,schultz,psychology,inspection,docomo,wunder,hootsuite,anduril,kaltura,danny,nwandu,zoe,nutonomy,nir,dynetics,shorts,p,sacca,taneja,educational,reber,stream,jungle,man,fandango,stripes,costolo,comscore,astranis,wipro,diligent,luna,othman,laraki,sail,partnership,tsur,repair,cube,arthur,polychain,successfactors,wittington,pasquale,romano,concorde,rolls,royce,alon,snapdragon,vudu,bang,olufsen,makers,apron,tickets,kalanick,braze,mallforafrica,momentus,agora,ido,sum,shows,profitwell,darpa,ucla,kobe,bryant,loreal,gusto,biomimetic,bowl,mixer,webflow,reports,society,trevor,sling,chicken,stein,xm,shooters,fable,promus,canopy,linden,bollinger,substitute,su,class,cost,hostile,biomedical,douvos,plasma,currier,nutrition,crosslink,modern,puma,looking,ifood,amnon,shashua,avatar,bitstrips,clickup,zeb,yukai,fujifilm,ramot,macquarie,lincoln,einride,demisto,institutional,bounty,bonsai,propaganda,vote,brutality,fatigue,securitization,classifieds,parasnis,ipos,citymapper,pepp,pt,baiju,bhatt,tenev,dianping,exxonmobil,secretary,around,sugar,campus,iab,cookie,luxembourg,dilemma,falconx,rickshaw,vaya,airtags,playbook,jimmy,reynolds,earlybird,hailo,krieger,affirmed,telus,avira,sur,gic,xu,k,tecton,shlomo,innov,instana,juniper,sd,ecosystems,corey,borthwick,kubermatic,s,mindville,mcmillon,predictive,anca,dragan,panzarino,gibson,cloutier,fleetsmith,gainsight,career,mai,strive,oskoui,fairness,quality,bellm,peanut,monetization,reinforcement,singerman,stash,atom,dinsdale,marlon,nichols,monkeylearn,sora,mallun,yen,uavs,folayan,novant,ken,senegal,zindi,olugbenga,agboola,cchub,gebeya,mississippi,sokowatch,sendy,sphero,gsma,singles,durham,valentino,btov,shop,collections,adams,retention,nuvia,segars,activist,metaprop,aarons,varo,hammerling,bare,packet,kazakhstan,illegal,democracy,fadell,geforce,xrc,address,sunshine,threema,whitepages,lumi,protein,pluto,stuart,sopp,rewards,lili,piracy,crisis,kard,tink,schools,wingcopter,ux,ahmed,appnexus,onedrive,yusuf,mehdi,getsafe,stratis,luxury,shoe,meng,wanzhou,ren,semi,spinlaunch,sbir,ecosia,demis,hassabis,pyka,ebersweiler,penguin,bixby,comedian,moviepass,busuu,solarwinds,mandiant,dog,blind,fruchterman,gaze,krebs,nye,teladoc,savings,twentyeight,alivecor,milk,lei,westbridge,bajaj,whitehat,pitney,bowes,ladder,beverages,heritage,float,anis,uzzaman,protonmail,geekplus,openspace,paramount,convergence,shachar,bialick,assassin,creed,israeli,grauer,iversity,screensharing,lemnos,grow,marqeta,hastings,creator,keeptruckin,onstar,phantom,carlyle,wag,steelseries,circuit,compute,moog,analogue,wyze,daniela,density,zin,treadmill,sanger,gaurav,nougat,siren,sennheiser,defi,ming,petnet,eyal,wemo,xnor,pornhub,employees,patricof,tours,toni,overload,joymode,davis,darktrace,signalfx,merchants,brear,dean,avoidance,ameelio,prison,basf,iraq,kingsoft,shunwei,fresh,eva,ho,florence,kamet,ehang,mohammed,bigid,rony,abovitz,xs,xyz,heura,whopper,leolabs,coppa,capitalone,sieg,node,edbi,listings,iceye,effective,kayvon,beykpour,coop,faber,volition,navitas,war,pages,vishal,shell,dash,launchpad,airship,rus,routing,endpoint,suborbital,pornography,browder,aira,hunters,radian,crook,katrina,carfax,launchdarkly,protocol,monetary,astanor,orca,mindset,library,perspective,proterra,pioneering,dn,mobilize,civic,npm,sonali,rycker,hungrypanda,kinnevik,philippe,aiops,omniture,instances,checkmark,optic,proeza,hired,klain,gordon,dupont,purifier,chien,realityengines,dialpad,highfive,glasswing,lyman,,fishtown,fivetran,turtles,remo,bookclub,sentinelone,expel,paladin,lil,workday,micah,deel,wren,christine,flint,nyca,conditions,dana,settle,vendr,silk,road,doctolib,kimchuk,sccs,cisa,varden,bta,endomondo,walter,notes,liquor,ghostery,bipa,aleksandr,kogan,chancellor,vine,adblock,till,jerusalem,castle,flippy,raise,dioxide,perfect,perumal,gandhi,pandya,ice,outdoorsy,sensei,chao,plastic,brighteye,flops,supercomputers,corning,jakubowski,kessler,emergency,bukuwarung,leyla,seka,hedosophia,magna,hjelm,adesina,touch,ach,countingup,crowdcube,pollen,fallout,amoruso,allbirds,tomer,jsonar,snippets,relic,av,caura,rimer,mirakl,shade,itaú,lofgren,hacware,bonobos,ridge,quantexa,delane,parnell,kaisei,hamamoto,apigee,appsheet,clock,launchnotes,biking,genius,elderly,boomerang,slides,ascension,coronvirus,leonard,builders,calendar,mclaughlin,burka,zittrain,nyu,cole,graphql,sumitomo,indiebio,wind,dines,synthesized,lyst,sequencing,advance,fleksy,react,naren,shaam,atzberger,siroker,albionvc,krause,ulrich,kranz,revero,pinewood,cosmose,telepresence,brook,corvette,infosys,chevy,climacell,filtering,pia,iribarne,letgo,offerup,zenly,gaorong,mural,voicemail,enigma,xos,nanox,ran,poliakine,ab,cobalt,rubio,steph,hipchat,blomfield,cloudinary,duck,karen,novo,mosaic,digitization,saar,unagi,foodtech,eventures,tnl,kitonga,vitable,minimum,hartman,mouse,apoorva,heineken,giraud,hellofresh,coivd,chaos,wildlife,airmap,mead,mixtape,fushman,boost,anker,haystack,friedman,equities,choi,riccitiello,rpa,tibet,bush,luis,ahn,shift,audible,teatime,thor,fridriksson,hanks,czi,priscilla,loupedeck,satellogic,biz,fleet,leather,mycoworks,feng,autonation,girsky,referral,nathan,def,con,zheng,northgate,esri,wonder,scribd,cubesats,smoking,criteo,milton,flex,desk,carvana,compass,zelda,autopilot,monashees,menopause,sims,merchant,noom,trash,dott,likee,expensify,solarcity,careem,sousmile,hawkins,sixth,acquia,netgear,springer,voyage,arjun,isreali,abby,kearns,grammarly,silbermann,chronic,automobiles,imessage,cassandra,pathology,qihoo,cleantech,madrone,common,ecosystem,cta,st,friends,tubi,rich,iii,latam,agent,rating,clover,meatable,greatpoint,cmu,dfinity,courtside,allvp,antonia,eing,sensel,woocommerce,anchorage,boyce,scaleway,medium,aliexpress,mint,efounders,ccp,momenta,karl,iagnemma,,orcam,scaringe,valencia,rsa,sxsw,competitions,metaverse,spongebob,squarepants,baraja,lessin,lastline,moxie,marlinspike,envision,sleepbuds,identification,kentik,vistara,adevinta,burberry,illustrator,flixbus,magellan,matney,chainsmokers,sharon,pompeo,skillshare,tracxn,welab,roborace,addventure,dry,auditing,popsugar,thrillist,thune,moment,near,interview,walden,options,gamifying,graf,curio,translation,continuity,habana,mounted,legere,makemytrip,toro,grady,penny,pritzker,vlocity,labeling,vickers,brockman,netscape,bunch,kubeflow,qi,incident,neidig,oscars,hall,noyo,brett,stubhub,yubikey\n"
          ]
        }
      ]
    },
    {
      "cell_type": "markdown",
      "source": [
        "# Bag of Words"
      ],
      "metadata": {
        "id": "gVpJKYXzFGe1"
      }
    },
    {
      "cell_type": "code",
      "source": [
        "bag_of_words=updated_string"
      ],
      "metadata": {
        "id": "0bvwsWN-Coox"
      },
      "execution_count": null,
      "outputs": []
    },
    {
      "cell_type": "code",
      "source": [
        "import spacy"
      ],
      "metadata": {
        "id": "VSJzok6UEo-E"
      },
      "execution_count": null,
      "outputs": []
    },
    {
      "cell_type": "code",
      "source": [
        "!python -m spacy download en_core_web_\n",
        "\n",
        "import spacy\n",
        "import pandas as pd\n",
        "\n"
      ],
      "metadata": {
        "id": "ZxZvW3o4ECxE"
      },
      "execution_count": null,
      "outputs": []
    },
    {
      "cell_type": "code",
      "source": [
        "nlp = spacy.load('en_core_web_sm')\n"
      ],
      "metadata": {
        "id": "X3XYmVxLEYGV"
      },
      "execution_count": null,
      "outputs": []
    },
    {
      "cell_type": "code",
      "source": [
        "\n",
        "string1 = bag_of_words\n",
        "string2 = \"give a glance about artificial intelligence\"\n",
        "\n",
        "doc1 = nlp(string1)\n",
        "doc2 = nlp(string2)\n",
        "\n",
        "similarity_score = doc1.similarity(doc2)\n",
        "\n",
        "print(\"Similarity score:\", similarity_score)\n"
      ],
      "metadata": {
        "colab": {
          "base_uri": "https://localhost:8080/"
        },
        "id": "HRaoHTqXEaZA",
        "outputId": "6ca28dd3-ff63-4668-f153-3569587091c4"
      },
      "execution_count": null,
      "outputs": [
        {
          "output_type": "stream",
          "name": "stdout",
          "text": [
            "Similarity score: 0.09441967930980547\n"
          ]
        },
        {
          "output_type": "stream",
          "name": "stderr",
          "text": [
            "<ipython-input-120-0699e0bd6531>:7: UserWarning: [W007] The model you're using has no word vectors loaded, so the result of the Doc.similarity method will be based on the tagger, parser and NER, which may not give useful similarity judgements. This may happen if you're using one of the small models, e.g. `en_core_web_sm`, which don't ship with word vectors and only use context-sensitive tensors. You can always add your own word vectors, or use one of the larger models instead if available.\n",
            "  similarity_score = doc1.similarity(doc2)\n"
          ]
        }
      ]
    },
    {
      "cell_type": "code",
      "source": [
        "\n",
        "# Load the English language model\n",
        "# nlp = spacy.load(\"en_core_web_sm\")\n",
        "\n",
        "# Define the list of words to lemmatize\n",
        "\n",
        "# Apply lemmatization to the list of words\n",
        "lemmas = [token.lemma_ for token in nlp(\" \".join(list_new))]\n",
        "\n",
        "# Print the lemmas\n",
        "print(lemmas)\n"
      ],
      "metadata": {
        "colab": {
          "base_uri": "https://localhost:8080/"
        },
        "id": "IVGVAV1iMtaG",
        "outputId": "c97a69d7-a2fe-4a53-d595-e60d863b51e9"
      },
      "execution_count": null,
      "outputs": [
        {
          "output_type": "stream",
          "name": "stdout",
          "text": [
            "['capital', 'google', 'ventures', 'unite', 'covid', '19', 'coronavirus', 'states', 'apple', 'amazon', 'computing', 'space', 'facebook', 'techcrunch', '2020', 'venture', 'cloud', 'microsoft', 'software', 'partner', 'the', 'technology', 'datum', 'medium', 'security', 'intelligence', 'online', 'social', 'finance', 'artificial', 'economy', 'learn', 'equity', 'spaceflight', 'china', 'health', 'mobile', 'india', 'startup', 'new', 'service', 'and', 'video', 'uber', 'business', 'ceo', 'food', 'machine', 'asia', 'electric', 'entrepreneurship', 'startup', 'of', 'crunch', 'europe', 'web', 'company', 'system', 'outer', 'tesla', 'exchange', 'operate', 'spacex', 'stream', 'management', 'commerce', 'private', 'california', 'twitter', 'group', 'app', 'vehicle', 'trump', 'kingdom', 'tiktok', 'android', 'european', 'disrupt', 'marketing', 'app', 'general', 'york', 'articles', 'digital', 'combinator', 'america', 'san', 'financial', 'softbank', 'tech', 'technology', 'fund', 'daily', 'instagram', 'service', 'africa', 'enterprise', 'computer', 'company', 'tc', 'internet', 'francisco', 'government', 'ai', 'union', 'musk', 'co', 'iphone', 'infrastructure', 'smartphone', 'elon', 'cars', 'energy', 'netflix', 'live', 'session', 'games', 'protection', 'nasa', 'delivery', 'president', 'commission', 'law', 'samsung', 'global', 'tv', 'work', 'search', 'founder', 'election', 'disney', 'privacy', 'administration', 'corporate', 'falcon', 'store', 'france', 'healthcare', 'spacecraft', 'sequoia', 'world', 'ios', 'salesforce', 'station', 'international', 'london', 'zoom', 'robotic', 'lyft', 'advertising', 'los', 'angeles', 'mobility', 'extra', 'shopping', 'music', 'banking', 'university', 'partner', 'satellite', 'youtube', 'spotify', 'bank', 'retail', 'national', 'emerge', 'walmart', 'hyperloop', 'podcast', 'federal', 'vision', 'alibaba', 'bytedance', 'inc', 'gaming', 'public', 'saas', 'acquisition', 'remote', 'drive', 'news', 'ce', 'rocket', 'merger', 'ford', 'north', 'sharing', 'include', 'investment', 'self', 'car', 'science', 'boston', 'telecommunications', 'florida', 'mark', 'development', 'reliance', 'southeast', 'market', 'airbnb', 'labs', 'open', 'germany', 'smartphone', 'regulation', 'department', 'education', 'jeff', 'lab', 'south', 'reality', 'donald', 'com', 'driver', 'information', 'model', 'manufacture', 'customer', 'stage', 'slack', 'virtual', 'system', 'michael', 'smart', 'visa', 'andreessen', 'in', 'conference', 'network', 'foundation', 'window', 'early', 'play', 'industry', 'recognition', '5', 'g', 'japan', 'automation', 'content', 'city', 'air', 'platforms', 'motors', 'david', 'consumer', 'autonomous', 'accel', 'singapore', 'whatsapp', 'messenger', 'horowitz', 'latin', 'entrepreneur', 'meat', 'washington', 'zuckerberg', 'force', 'mexico', 'tool', 'peter', 'electronic', 'travel', 'card', 'stock', 'vc', 'cybercrime', 'texas', 'developer', 'steve', 'founder', 'real', 'fintech', 'doordash', 'research', 'home', 'network', 'human', 'source', 'green', 'huawei', 'jio', 'officer', 'alphabet', 'max', 'intel', 'store', 'blue', 'alexa', 'medicine', 'wireless', 'engine', 'communication', 'spokesperson', 'verizon', 'code', 'chief', 'cryptography', 'micromobility', 'australia', 'engineering', 'platform', 'application', 'encryption', 'catalyst', 'commercial', 'immigration', 'lunar', 'aws', 'executive', 'starlink', 'broadband', 'sony', 'white', 'lightspeed', 'offer', 'insurance', 'food', 'growth', 'house', 'newsletter', 'snap', 'initial', 'on', 'telemedicine', 'right', 'oracle', 'bessemer', 'goldman', 'supply', 'epic', 'xbox', 'series', 'day', 'wework', 'john', 'medical', 'robot', 'assistant', 'industry', 'nintendo', 'tencent', 'quantum', 'paypal', 'chrome', 'jack', 'congress', 'sach', 'antitrust', 'money', 'nigeria', 'virgin', 'twitch', 'ibm', 'battlefield', 'waymo', 'eric', 'wide', 'one', 'grocery', 'israel', 'shopify', 'adobe', 'bluetooth', 'surveillance', 'bezos', 'credit', 'tim', 'hbo', 'transport', 'payment', 'facial', 'misinformation', 'layoff', 'challenger', 'tourism', 'chain', 'demand', 'event', 'message', 'crunchbase', 'aerospace', 'brazil', 'snapchat', 'product', 'act', 'gig', 'martin', '1b', 'times', 'cyberwarfare', 'dragon', 'italy', 'github', 'bill', 'program', 'automotive', 'battery', 'device', 'seattle', 'toyota', 'scooter', 'as', 'joe', 'ireland', 'pinterest', 'sophie', 'aviation', 'unicorn', 'flight', 'robinhood', 'mike', 'estate', 'security', 'for', 'linkedin', 'justice', 'east', 'insight', 'stanford', 'imaging', 'biden', 'tiger', 'sf', 'enforcement', 'alex', 'storage', 'launch', 'speech', 'monday', 'postmates', 'boeing', 'drug', 'alcorn', 'mit', 'breach', 'holding', 'head', 'palantir', 'lee', 'motorcycles', 'lockheed', 'design', 'nvidia', 'ipo', 'vehicle', 'to', 'origin', 'jim', 'flipkart', 'order', 'telehealth', 'breach', 'spain', 'accelerator', 'phone', 'agency', 'valley', 'uk', 'drink', 'instacart', 'big', 'galaxy', 'trace', 'canada', 'volkswagen', 'us', 'disease', 'ggv', 'week', 'retailer', 'square', 'azure', 'korea', 'api', 'matt', 'yc', 'echo', 'host', 'free', 'browser', 'future', 'james', 'artemis', 'experience', 'hardware', 'first', 'engineer', 'incubator', 'chris', 'dynamic', 'ransomware', 'eu', 'websites', 'office', 'coinbase', 'deep', 'pixel', 'diversity', 'fda', 'at', 'organization', 'identity', 'competition', 'silicon', 'edtech', 'khosla', 'institute', 'walt', 'vodafone', 'kubernete', 'adam', 'lake', 'telecommute', 'twilio', 'frank', 'gm', 'johnson', 'industrial', 'gas', 'andrew', 'culture', 'audio', 'roblox', 'chicago', 'maps', 'lago', 'processing', 'devop', 'augmented', 'prevention', 'covid19', 'prime', 'bain', 'motor', 'worker', 'fortnite', 'beijing', 'kleiner', 'jason', 'stripe', 'scott', 'control', 'harvard', 'marc', 'brian', 'board', 'russia', 'carolina', 'austin', 'dropbox', 'perkin', 'this', 'atlassian', 'voice', 'indonesia', 'morgan', 'cisco', 'analytic', 'malware', 'trade', 'ryan', 'qualcomm', 'sale', 'innovation', 'techstar', 'game', 'cannabis', 'hulu', 'policy', 'kevin', 'street', 'cambridge', 'watch', 'manage', 'truck', 'os', 'wwdc', 'director', 'paytm', 'taiwan', 'scooter', 'kenya', 'galactic', '3d', 'dorsey', 'ted', 'ambani', 'satellite', 'player', 'cord', 'cut', 'zomato', 'labor', 'ad', 'time', 'accessibility', 'nest', 'leary', 'ml', 'ecommerce', 'keith', 'direct', 'african', 'revolut', 'esport', 'linux', 'airlines', 'television', 'cloudflare', 'xiaomi', 'quibi', 'league', 'safety', 'senate', 'lucid', 'device', 'gdpr', 'email', 'school', 'massachusetts', 'transportation', 'pro', 'charle', 'crew', 'dell', 'comcast', 'small', 'mass', 'club', 'climate', 'mental', 'michigan', 'playstation', 'disinformation', 'zealand', 'party', 'speaker', 'mukesh', 'peer', 'care', 'mac', 'rivian', 'greenhouse', 'presidential', 'wall', 'seed', 'crm', 'alpha', 'berlin', 'renewable', 'politic', 'ben', 'oculus', 'ant', 'west', 'no', 'atlanta', 'substitute', 'roku', 'electronic', 'josh', 'kong', 'photo', 'sap', 'collaboration', 'developer', 'monzo', 'macbook', 'headphone', 'subscription', 'lemonade', 'contact', 'red', 'brent', 'bmw', 'agriculture', 'starship', 'simulation', 'asana', 'plaid', 'itune', 'gate', 'coast', 'fitness', 'investor', 'bird', 'switch', 'emission', 'ebay', 'greylock', 'chat', 'sport', 'sciences', 'gillmor', 'access', 'kid', 'thing', 'hong', 'target', 'association', 'jennifer', 'andy', 'aurora', 'pay', 'peloton', 'payload', 'language', 'biology', 'tel', 'george', 'initialize', 'neural', 'aaron', 'voting', 'network', '14', 'nasdaq', 'dara', 'khosrowshahi', 'earning', 'round', 'leader', 're', 'bike', 'drones', 'aviv', 'nevada', 'wechat', 'pitchbook', 'area', 'berkeley', 'neobank', 'index', 'vaccine', 'podcast', 'reddit', 'unity', 'point', 'solar', 'native', 'publishing', 'impossible', 'beyond', 'print', 'barcelona', 'pandemic', 'justin', 'ride', 'ad', 'ev', 'smith', 'toronto', 'sarah', 'discovery', 'life', 'defense', 'acquisition', 'fire', 'pharmacy', 'margrethe', 'vestager', 'battle', 'center', 'ipad', 'demo', 'funding', 'bike', 'paul', 'spac', 'date', 'spark', 'edge', 'virginia', 'snowflake', 'entertainment', 'honda', 'palo', 'alto', 'corporation', 'fitbit', 'pichai', 'charge', 'card', 'surface', 'daniel', 'studio', 'silver', 'over', 'firm', 'gmail', 'louisiana', 'w20', 'cancer', 'term', 'plus', 'metal', 'employment', 'telecom', 'associates', 'rob', 'warnermedia', 'invest', 'upfront', 'impact', 'orbit', 'process', 'american', 'section', 'editor', 'blockchain', 'sensor', 'tower', 'las', 'vegas', 'drone', 'guide', 'password', 'cybernetic', 'hate', 'lerer', 'arm', 'okta', 'serial', 'payment', 'hail', 'gift', 'spaceport', 'bridenstine', 'denis', 'pombriant', 'radice', 'teare', 'markman', 'coatue', 'up', 'project', 'mario', '230', 'sundar', 'uc', 'netherlands', 'denver', 'products', 'yahoo', 'leap', 'hippeau', 'jones', 'cook', 'airtel', 'true', 'zero', 'aircraft', 'angel', 'cowboy', 'atlantic', 'personal', 'fundraising', 'bay', 'astronaut', 'arizona', 'investments', 'temasek', 'ohio', 'georgia', 'matthew', 'sam', 'norwest', 'roundup', 'court', 'magic', 'event', 'mozilla', 'lime', 'greycroft', 'film', 'photography', 'vice', 'dan', 'dow', 'chime', 'job', 'motorcycle', 'jon', 'kapor', 'd2c', 'lander', 'advisors', 'natural', 'earbud', 'auto', 'airline', 'brand', 'brad', 'wearable', 'journal', 'whole', 'manager', 'mastercard', 'cybersecurity', 'database', 'nikola', 'detroit', 'women', 'cruise', 'jose', 'fremont', 'political', 'qualtric', 'marketplace', 'recruitment', 'creative', 'biotechnology', 'box', 'ghana', 'nadella', 'collective', 'nea', 'hudson', 'logistics', 'laser', 'boring', 'moon', 'testing', 'floyd', 'target', 'nbcuniversal', 'tinder', 'track', 'colombia', 'go', 'nairobi', 'carbon', 'suite', 'precursor', 'headspace', 'affirm', 'io', 'genomics', 'show', 'nation', 'ron', 'computers', 'vista', 'governor', 'tom', 'oxford', 'airpods', 'text', 'sapphire', 'dallas', 'satya', 'gv', 'byju', 'analyst', 'casper', 'oyo', 'switzerland', 'coffee', 'contract', 'urban', 'change', 'relationship', 'porsche', 'user', 'price', 'committee', 'insurtech', 'roelof', 'botha', 'shanghai', 'benioff', 'firefox', 'thomas', 'felicis', 'center', 'harley', 'lg', 'legal', 'bob', 'firstmark', 'hyundai', 'hummer', 'eqt', 'mustang', 'thierry', 'elections', 'bureau', 'pennsylvania', 'black', 'hero', 'vmware', 'infection', 'end', 'mining', 'sharma', 'chan', 'power', 'designer', 'chip', 'crispr', 'jassy', 'database', 'alexis', 'valuation', 'kickstarter', 'semiconductor', 'menlo', 'bank', 'subscription', 'iran', 'robots', 'vr', 'warner', 'hybrid', 'unilever', 'decrypt', 'debt', 'narendra', 'modi', 'nhs', 'pitch', 'electricity', 'trend', 'crowdstrike', 'benchmark', 'davidson', 'beck', 'venmo', 'mar', 'next', 'hans', 'radio', 'animation', 'all', 'investigation', 'traffic', 'weekly', 'matrix', 'swiggy', 'phone', 'williams', '10', 'invent', 'monitor', 'levie', 'ohanian', 'angellist', 'grid', 'crime', 'volvo', 'cell', 'grab', 'canaan', 'blackrock', 'illinois', 'material', 'original', 'breton', 'freedom', 'lidar', 'travis', 'getty', 'duolingo', 'elizabeth', 'bicycle', 'eat', 'contact', 'book', 'dark', 'horizon', 'survey', 'lambda', 'rental', 'austria', 'luckin', 'physician', 'king', 'coo', 'jersey', 'warehouse', 'airbus', 'photo', 'vulnerability', 'team', 'craft', 'teleconference', 'portland', 'fcc', 'browser', 'review', 'metromile', 'virus', 'motorola', 'a16z', 'solutions', 'miami', 'freeware', 'pfizer', 'nubank', 'chairman', 'jumia', 'jd', 'tax', 'chemical', 'rover', 'oliver', 'femtech', 'alliance', 'grubhub', 'stories', 'ar', 'utah', 'vroom', 'market', 'foldable', 'basketball', '365', 'low', 'servicenow', 'fuel', 'property', 'diego', 'movie', 'serverless', 'wi', 'unmanned', 'stanley', 'super', 'controller', 'cbs', 'moderation', 'deliveroo', 'libra', 'vpn', 'tony', 'partech', 'list', 'karma', 'distance', 'atomico', 'redpoint', 'yuan', 'speaker', 'fashion', 'high', 'sound', 'pharmaceutical', 'gps', 'peacock', 'reilly', 'authority', 'crypto', 'safaricom', 'uganda', 'sql', 'share', 'hat', 'mercede', 'saudi', 'arabia', 'oil', 'lux', 'reel', 'journalist', 'raspberry', 'semiconductor', 'northrop', 'grumman', 'ellis', 'cyber', 'brown', 'bolt', 'schrem', 'visual', 'fisker', 'fox', 'jfrog', 'owl', 'madrona', 'brex', 'wang', 'cvs', 'buzzfee', 'fake', 'homepod', '12', 'average', 'emergence', 'nba', 'microblogging', 'mary', 'from', 'hack', 'fraud', 'phishe', 'dave', 'zendesk', 'family', 'vaccine', 'fi', 'nick', 'camera', 'shenzhen', 'supreme', 'cryptocurrencies', 'nissan', 'unicorns', 'team', 'oneplus', 'hotstar', 'pi', 'tsmc', 'children', 'astrobotic', 'balderton', 'foundry', 'robert', 'python', 'image', 'reporter', '500', 'ma', 'oneweb', 'javascript', 'oppo', 'boris', 'stephen', 'content', 'civil', 'arvind', 'unpacked', 'ola', 'result', 'highland', 'bosch', 'member', 'prop', '8vc', 'nike', 'iot', 'av', 'resource', 'corp', 'cross', 'exploration', 'getaround', 'winter', 'quest', 'zach', 'parent', 'eniac', 'brennan', 'richard', 'waste', 'ourcrowd', 'spin', 'taylor', 'maxar', 'alley', 'vacation', 'amsterdam', 'electrical', 'attorney', 'yelp', 'parker', 'alan', 'agile', 'debris', 'deepfake', 'cox', 'rowe', 'truck', 'post', 'merchandise', 'altman', 'houston', 'riot', 'prosus', 'gavin', 'algorithmic', 'parliament', 'crowdfunde', 'jira', 'patrick', 'authentication', 'sidewalk', 'censorship', 'pacific', 'klarna', 'carnegie', 'mellon', 'starbuck', 'sleep', 'construction', 'plug', 'cyberattack', 'harassment', 'udemy', 'photoshop', 'legend', 'middle', 'ro', 'occupational', 'book', 'liquid', 'obama', 'annie', 'interswitch', 'stock', 'krishna', 'face', 'multi', 'discord', 'adidas', 'canalys', 'thiel', 'chile', 'gitlab', 'moto', 'plexo', 'ignite', 'gradient', 'bing', 'meet', 'hopkin', 'heavy', 'environmental', 'orion', 'shield', 'efficiency', 'mechanic', 'hacker', 'moderna', 'optimization', 'navigation', 'sack', 'zoox', 'redwood', 'image', 'reid', 'conference', 'munich', 'investor', 'imagery', 'airtable', 'aileen', 'newsom', 'maryland', 'performance', 'version', 'unacademy', 'ikea', 'vertex', 'flash', 'tpg', 'working', 'drive', 'sierra', 'audi', 'chrysler', 'virus', 'two', 'sustainable', 'broker', 'kaszek', 'relativity', 'therapeutic', 'meditation', 'apis', 'vw', 'pitcher', 'pitch', 'henry', 'deutsche', 'migicovsky', 'deception', 'pete', 'arkansas', 'alipay', 'ncino', 'mubadala', 'delta', 'delhi', 'special', 'mini', 'plastic', 'pincus', 'bias', 'sydney', 'greg', 'chen', 'shasta', 'homebrew', 'mayer', 'kim', 'ian', 'racism', 'zte', 'thailand', 'summit', 'belgium', 'base', 'drug', 'oscar', 'eight', 'howard', 'equipment', 'hoxton', 'revolution', 'astroscale', 'community', 'factory', 'female', 'adtech', 'deal', 'instant', 'pentagon', 'camera', 'nuro', 'artist', 'hoffman', 'rick', 'thrive', 'loan', 'lane', 'cryptocurrency', 'schmidt', 'warren', 'judge', 'rwanda', 'kobo360', 'workflow', 'liberty', 'duo', 'fold', 'wealthfront', 'governance', 'gil', 'bradley', 'irobot', 'list', 'dst', 'engine', 'sight', 'von', 'vietnam', 'rakuten', 'survey', 'anthony', 'vaccination', 'daimler', 'panasonic', 'bros', 'years', 'minneapolis', 'will', 'iowa', 'connect', 'wilhelm', 'jump', 'philadelphia', 'just', 'webmail', 'telegram', 'wave', 'emc', 'zynga', 'masayoshi', 'son', 'interactive', 'mitchell', 'doug', 'philippines', 'root', 'bigcommerce', 'ribbit', 'harry', 'vancouver', 'tanzania', 'triller', 'exposure', 'walgreen', 'signalfire', 'sonos', 'star', 'fiat', 'draper', 'wellness', 'cyberattack', 'third', 'qubit', 'seibel', 'border', 'omer', 'golden', 'erp', 'polestar', 'jedi', 'chip', 'fiction', 'bumble', 'proptech', 'productivity', 'hdmi', 'freight', 'ground', 'musician', 'viacomcbs', 'democratic', 'siri', 'jessica', 'kirsten', 'datadog', 'olympics', 'long', 'jay', 'patreon', 'finix', 'jenny', 'bret', 'm12', '11', 'gojek', '22', 'alaska', 'debit', 'hr', 'docusign', 'portal', 'ban', 'calm', 'columbia', 'prize', 'christian', 'defy', 'major', 'fidelity', 'pharmaceutical', 'kemp', 'crunchmatch', 'nfx', 'hp', 'canon', 'dhl', 'brand', 'ps5', 'worlds', 'amy', 'logic', 'nbc', 'desktop', 'kkr', 'fj', 'initiative', 'supremacy', 'analytica', 'databricks', 'pesa', 'case', 'baidu', 'studio', 'sweden', 'bonatsos', 'berkshire', 'salt', 'inclusion', 'mwc', 'duckduckgo', 'videos', 'dubai', 'hangouts', 'bloomberg', 'council', 'stewart', 'rawlinson', 'bfr', 'tess', 'hatch', 'egnyte', 'tusk', 'road', 'farming', 'crime', 'igtv', 'mission', 'forward', 'retailer', 'ada', 'doudna', 'football', 'nature', 'mcdonald', 'finland', 'radiation', 'match', 'field', 'scale', 'yang', 'tier', 'deck', 'lenovo', 'chiang', 'build', 'cohen', 'scientist', 'ann', 'unusual', 'bling', 'xpeng', 'norway', 'nexus', 'blume', 'sun', 'floodgate', 'basecamp', 'rental', 'player', 'forerunner', 'macos', 'kuaishou', 'telekom', 'openstack', 'insight', 'kart', 'coursera', 'reach', 'hustle', 'montana', 'transferwise', 'constellation', 'andela', 'cash', 'p2p', 'paga', 'bangladesh', 'lo', 'hill', 'walk', 'levchin', 'klein', 'medicare', 'franklin', 'anne', 'd1', 'podcast', 'michelle', 'exercise', 'ring', 'rahul', 'vohra', 'movie', 'capella', 'yl', 'yext', 'biontech', 'csail', 'm1', 'entrepreneur', 'malaysia', 'biotech', 'noise', 'sim', 'dna', 'argo', 'arr', 'astronomy', 'continuous', 'robotaxi', 'alabama', 'wing', 'ubisoft', 'artist', 'christmas', 'nso', 'decency', 'display', 'connie', 'helsinki', 'speedinvest', 'sumo', 'nfl', 'icloud', 'ambient', 'rre', 'chamath', 'palihapitiya', 'liu', 'teacher', 'leave', 'pei', 'rico', 'tan', 'eventbrite', 'hunt', 'pence', 'sagemaker', 'i', 'd', 'webex', 'sri', 'niantic', 'healthtech', 'factor', 'marketplaces', 'poland', 'procore', 'opendoor', 'ethiopia', 'flutterwave', 'isp', 'nokia', 'fusion', 'ge', 'accounting', 'peru', 'alexander', 'graphics', 'rohit', 'influencer', 'crv', 'baillie', 'gifford', 'gmc', 'pubg', 'argentina', 'vp', 'vulcan', 'warburg', 'good', 'lego', 'fedex', 'machines', 'sedans', 'felix', 'hire', 'intuit', 'restaurant', 'military', 'copyright', 'frontier', 'record', 'thread', 'flybridge', 'tracker', 'uipath', 'personalization', 'cto', 'livewire', 'ike', 'pitango', 'by', 'tablet', 'mix', 'ec', 'burn', 'spreadsheet', 'mirror', 'vivo', 'yin', 'primary', 'off', 'nasper', 'garry', 'oregon', 'nine', 'das', 'book', 'bitcoin', 'widget', 'homescreen', 'braun', 'troy', 'water', 'nestle', 'jeffrey', 'cleo', 'trello', 'deloitte', 'valor', 'jamf', 'chiu', 'nutanix', 'lemkin', 'bharti', 'toney', 'distribute', 'zhang', 'view', 'notification', 'stadia', 'uncork', 'breakthrough', 'additive', 'raptor', 'dot', 'perseverance', 'otto', 'hims', 'wrap', 'mirantis', 'dc', 'writer', 'bernie', 'sanders', 'state', 'flu', 'politician', 'burger', 'launcherone', 'astra', 'anna', 'spaceshiptwo', 'octopus', 'substack', 'enterprise', 'mongodb', 'ali', 'kindre', 'tung', 'portugal', 'canva', 'model', 'pittsburgh', 'biometrics', 'docsend', 'kate', 'vijay', 'shekhar', 'fika', 'olaf', 'sakker', 'puerto', 'decentralize', 'william', 'accountability', 'commissioner', 'prasad', 'pavel', 'lin', 'sprint', 'meg', 'whitman', 'cb', 'larry', 'kelly', 'kabbage', 'blake', 'emily', 'room', 'jeremy', 'pinduoduo', 'creator', 'mayfield', 'emirate', 'build', 'qwant', 'honeywell', 'pr', 'electron', 'jordan', 'propulsion', 'baseball', 'joshua', 'diabetes', 'base10', 'santa', 'clean', 'ethan', 'customs', 'rigetti', 'boldstart', 'warehouse', 'mysql', 'fertility', 'synthetic', 'pain', 'galvanize', 'robotic', 'la', 'turner', 'didi', 'cruz', 'takeaway', 'vanessa', 'financing', 'foxconn', 'gohealth', 'dublin', 'clubhouse', 'chinese', 'firewall', 'lending', 'eat', 'out', 'position', 'outage', 'call', 'lisa', 'job', 'armstrong', 'classpass', 'mobileye', 'bangalore', 'getyourguide', 'singtel', 'jp', 'chase', 'runway', 'code', 'jan', 'tile', 'meesho', 'paris', 'hathaway', 'todd', 'recession', 'hub', 'country', 'scotland', 'adyen', 'mandalorian', 'johns', 'ecl', 'axa', 'stem', 'connect', 'koch', 'purpose', 'therapy', 'verification', 'gamble', 'labcorp', 'esa', 'theft', 'li', 'openai', 'gopro', 'eduardo', 'java', 'well', 'baltimore', 'tableau', 'crowdsourcing', 'pets', 'org', 'dylan', 'communication', 'prisma', 'nielsen', 'up', 'de', 'pew', 'passion', 'scopely', 'boom', 'location', 'local', 'genetic', 'trivia', 'chernin', 'tusimple', 'benz', 'strategy', 'family', 'harm', 'mail', 'dji', 'glass', 'fifth', 'quora', 'police', 'caffeinate', 'sofman', 'nancy', 'shin', 'mayor', 'mateo', 'edit', 'balloon', 'decentralization', 'durov', 'carter', 'blackberry', 'giphy', 'conservation', 'chromecast', 'tcv', 'betawork', 'kurian', 'unreal', 'fix', 'programming', 'udaan', 'niko', 'ram', 'casa', 'guo', 'banister', 'starling', 'fund', 'colin', 'lawson', 'melinda', 'short', 'class', 'threshold', 'slootman', 'elliott', 'shuttle', 'wisconsin', 'hunter', 'dawn', 'embed', 'boxgroup', 'jonathan', 'counterfeit', 'northzone', 'it', 'amadeus', 'playter', 'chair', 'fireeye', 'warby', 'optum', 'connecticut', 'russell', 'colorado', 'livongo', 'neumann', 'autodesk', 'cable', 'espn', 'horizon', 'teachers', 'inductive', 'smartwatche', 'price', 'eleven', 'republic', 'richard', 'stonk', 'kfc', 'jaxa', 'rise', 'roche', 'seth', 'nextview', 'resource', 'martech', 'disabilities', 'joseph', 'onboarding', 'chargepoint', 'kroger', 'oakland', 'minecraft', 'lululemon', 'hearst', 'cybertruck', 'bronco', 'ftc', 'lu', 'slow', 'perret', 'zebra', 'agarwal', 'disaster', 'contractor', 'meituan', 'shipt', 'helen', 'spyware', 'xcloud', 'stratosphere', 'ethereum', 'zimbabwe', 'accessory', 'phil', 'van', 'katzenberg', 'tlcom', 'joel', 'analysis', 'generation', 'activision', 'hippo', 'stitch', 'carolan', 'soundcloud', 'phonepe', 'reed', 'link', 'worldpay', 'wu', 'simon', 'kia', 'rise', 'child', 'emoji', 'pakistan', 'allo', 'vtol', 'hawk', 'keybase', 'animal', 'chromium', 'memphis', 'speed', 'surgery', 'yandex', 'spot', 'opera', 'turkey', 'julia', 'chatbot', 'depression', 'cathay', 'lazada', 'chapek', 'reddy', 'mucker', 'cells', 'cd', 'ocean', 'notion', 'mesh', 'film', 'ionq', 'website', 'jet', 'caryn', 'marooney', 'iac', 'vimeo', 'start', 'astrazeneca', 'recruit', 'sigma', 'chatbots', 'island', 'planning', 'sophia', 'ii', 'smes', 'amit', 'moore', 'cadillac', 'bitmoji', 'bug', 'interference', 'royale', 'arbor', 'goodrx', 'natasha', 'anti', 'draw', 'zurich', 'rabois', 'influenza', 'atrium', 'kan', 'trading', 'cdc', 'naval', 'ravikant', 'hearing', 'glassdoor', 'branson', 'seoul', 'recycle', 'sk', 'million', 'tripaction', 'zeev', 'kansas', 'thoma', 'bravo', 'pai', 'houseparty', 'tab', 'jacobson', 'claire', 'gurley', 'citi', 'quizlet', 'degree', 'emerge', 'tracy', 'village', 'flipboard', 'nvca', 'stockholm', 'twiga', 'iconiq', 'loon', '120', 'portability', 'madrid', 'ross', 'plan', 'language', 'relation', 'orbex', 'trinity', 'culture', 'tyson', 'integrate', 'neuberger', 'orleans', 'arts', 'filter', 'gsr', 'light', 'saverin', 'jake', 'war', 'planet', 'ccpa', 'paper', 'carta', 'rappi', 'marshall', 'test', 'suster', 'lens', 'sensor', 'vape', 'ture', 'angel', 'key', 'figma', 'army', 'splunk', 'fast', 'butterfield', 'julie', 'chef', 'masterclass', 'serena', 'amplify', 'xerox', 'firefly', 'zenefit', 'physics', 'abuse', 'bandcamp', 'expedia', 'bbc', 'roundtable', 'b2c', 'read', 'clearview', 'with', 'multiverse', 'young', 'wordpress', 'voi', 'disability', 'dmitry', 'cubesat', 'zatlyn', 'homage', 'bicycle', 'benefit', 'lufthansa', 'levandowski', 'damon', 'docker', 'superhuman', 'europas', 'construct', 'evans', 'musical', 'universal', 'philip', 'usb', 'sams', 'ubs', 'jr', 'novel', 'matter', 'today', 'behavioral', 'laser', 'loizos', 'kopelman', 'bose', 'neuroscience', 'oura', 'canvas', 'harris', 'here', 'vsco', 'ethic', 'flexport', 'term', 'gofundme', 'ludlow', 'doj', 'currency', 'taipei', 'hewlett', 'packard', 'macintosh', 'conrad', 'moovit', 'top', 'wealth', 'egypt', 'flip', 'collab', 'course', 'jomayra', 'learn', 'rackspace', 'n26', 'transparency', 'lueder', 'qatar', 'synergy', 'operator', 'nyse', 'adware', 'shoot', 'cannon', 'practice', 'deepmind', 'hubspot', 'aerial', 'evan', 'outlook', 'roman', 'kit', 'site', 'templeton', 'jaguar', 'gigafactory', 'devin', 'advisor', 'modeling', 'arab', 'rtp', 'khan', 'karan', 'northern', 'marco', 'point72', 'estonia', 'suisse', 'bansal', 'carshare', 'tampa', 'zume', 'ea', 'architecture', 'allen', 'pagerduty', 'apache', 'oklahoma', 'ukraine', 'emmanuel', 'sendgrid', 'espionage', 'western', 'kerry', 'c3', 'ray', 'siemens', 'tweets', 'stopcovid', 'kitty', 'seedcamp', 'emsisoft', 'genetics', 'dnx', 'runa', 'blossom', 'illness', 'builder', 'babbel', 'npe', 'dcvc', 'theater', 'wanxiang', 'appdynamic', 'summer', 'energica', 'garmin', '23andme', 'segment', 'pandora', 'georgian', 'vera', 'feed', 'voter', 'mascarenhas', 'team8', 'cuban', 'kramer', 'nasscom', 'tsay', 'take', 'cooperative', 'ab5', 'conspiracy', 'theory', 'extremism', 'hey', 'ipad', 'ravi', 'jesse', 'central', 'albert', 'sinch', 'dish', 'express', 'programmer', 'g20', 'jai', 'sebastian', 'foldable', 's20', 'plex', 'note', 'delaunay', 'gartner', 'redesign', 'udacity', 'bent', 'bigbasket', 'cherry', 'ping', 'age', 'yale', 'dream', 'report', 'elad', 'providers', 'solomon', 'apptopia', 'wayfair', 'jackson', 'hax', 'cyan', 'invision', 'byron', 'spiegel', 'jensen', 'yammer', 'crossing', 'meat', 'goop', 'denmark', 'circuit', 'campbell', 'spamme', 'shepard', 'agtech', 'signal', 'tobii', 'tobel', 'procter', 'albums', 'talkspace', 'pocket', 'call', 'smartwatch', 'arora', 'playground', 'snoop', 'dogg', 'high', 'brooklyn', 'nashville', 'net', 'journalism', 'pc', 'furniture', 'nextdoor', 'omnichannel', 'hussein', 'kanji', 'czech', 'farfetch', 'frederic', 'rent', 'tuesday', 'harbor', 'exit', 'fab', 'wish', 'nosql', 'training', 'microservice', 'albertson', 'rhode', 'gamification', 'order', 'goodwater', 'hancock', 'byte', 'forbes', 'looker', 'french', 'gary', 'freshwork', 'coworke', 'localglobe', 'automattic', 'shevelenko', 'swarm', 'babylon', 'waze', 'vanmoof', 'autotech', 'linus', 'torvald', 'graph', 'bayer', 'luminar', 'mammoth', 'keyboard', 'sms', 'zillow', 'ajit', 'kepler', 'production', 'aptiv', 'ly', 'logitech', 'celina', 'jb', 'straubel', 'brussels', 'jourova', 'cache', 'sacha', 'conway', 'great', 'geoff', 'labster', 'sharechat', 'glovo', 'care', 'etsy', 'maveron', 'nation', 'telstra', 'jpmorgan', 'inspire', 'layoff', 'craig', 'videoconferencing', 'server', 'kunst', 'dustin', 'moskovitz', 'costanoa', 'reuters', 'bootcamp', 'lynn', 'coalition', 'cre', 'pwc', 'good', 'smiledirectclub', 'check', 'kathryn', 'zymergen', 'saastr', 'patagonia', 'zipline', 'processor', 'blck', 'form', 'aol', 'coca', 'cola', 'sosv', 'nio', 'message', 'istanbul', 'mulesoft', 'merck', 'college', 'npd', 'freada', 'mitch', 'senior', 'workplace', 'guardian', 'adventure', 'brain', 'datto', 'joey', 'asset', 'ecuador', 'strike', 'cerner', 'newview', 'highway', 'environment', 'jakarta', 'channel', 'iger', 'karthik', 'chegg', 'gwyneth', 'paltrow', 'monica', 'turo', 'duke', 'engineer', 'weiner', 'carlos', 'minnesota', 'physical', 'collin', 'gucci', 'grove', 'rogi', 'safe', 'lerman', 'chain', 'taskrabbit', 'voyager', 'gateway', 'heroku', 'spaceplane', 'symantec', 'cycling', 'acrew', 'unemployment', 'obvious', 'gpu', 'zscaler', 'micro', 'nauta', 'forum', 'knowledge', 'nhsx', 'olympic', 'orlando', 'fly', 'ed', 'frontline', 'gender', 'miller', 'morris', 'iron', 'transfer', 'nlp', 'miso', 'rocketry', 'hashtag', 'vertical', 'derek', 'room', 'masten', 'cockroach', 'alchemist', 'gang', 'anthos', 'parental', 'creek', 'partovi', 'pet', 'transit', 'eileen', 'amc', 'canoo', 'velez', 'bioscience', 'supersonic', 'tlv', 'telecom', 'campaign', 'station', 'b2b', 'launch', 'hertz', 'nova', 'rift', 'outschool', 'arcade', 'wwdc20', 'henrik', 'mikolajczak', 'hackerone', 'ole', 'klobuchar', 'wyden', 'live', 'racial', 'usa', 'democrats', 'safari', 'wilson', 'idg', 'multimedia', 'truecaller', 'insurify', 'weibo', 'copenhagen', 'saif', 'bpifrance', 'line', 'restaurant', 'shutdown', 'fdic', 'hoover', 'barr', 'ico', 'stablecoin', 'consent', 'alternative', 'mach', 'fairphone', 'hololens', 'investcorp', 'helio', 'toast', 'omio', 'containerization', 'wan', 'bridge', 'configuration', 'ginni', 'rometty', 'ellison', 'skype', 'razr', 'rosenstein', 'skyflow', 'douyin', 'signia', 'deadpool', 'bench', 'darren', 'optical', 'character', 'edison', 'tayo', 'oviosu', 'ginkgo', 'biowork', 'manchester', 'murphy', 'pappas', 'timnit', 'gebru', 'ipod', 'bluejeans', 'pokémon', 'meeting', 'microphone', 'tivo', 'santander', 'e2e', 'deeter', 'mmhmm', 'qr', 'manage', 'moritz', 'second', 'medicaid', 'mentorship', 'ubiquitous', 'pony', 'beach', 'amd', 'chevrolet', 'vrionis', 'xp', 'mask', 'therapist', 'onfido', 'flourish', 'razorpay', 'dubsmash', 'trek', 'squire', 'influencer', 'charlotte', 'neutrality', 'barra', 'atari', 'hope', 'cochran', 'pen', 'se', 'headset', 'lucy', 'song', '360', 'gocardless', 'eaze', 'accenture', 'cashierless', 'blueyard', 'steel', 'macron', 'incubator', 'bull', 'aydin', 'senkut', 'neil', 'atlas', 'callahan', 'ko', 'verde', 'student', 'mariam', 'naficy', 'iris', 'gamer', 'genesis', 'magma', 'ciso', 'arch', 'economic', 'bigquery', 'groupon', 'geely', 'taxis', 'kitchen', 'diagnostic', 'dcms', 'rally', 'soma', 'mitsui', '100', 'kumar', 'button', 'hq', 'watchos', 'ivp', 'marcus', 'tyler', 'revel', 'bali', 'jyoti', 'away', 'cornell', 'ilya', 'valence', 'hackett', 'outdoor', 'voice', 'byd', 'schwab', 'support', 'tokyo', 'concur', 'beta', 'crane', 'ion', '3rd', 'annual', 'periscope', 'pax', 'tcl', 'olympus', 'laptop', 'microphone', 'røde', 'chromebook', 'duncan', 'ethernet', 'antler', 'prince', 'registration', '2u', 'vienna', 'warsaw', 'zachary', 'breyer', 'fenton', 'communist', 'barry', 'fenwick', 'supercell', 'graphcore', 'reserve', 'sustainability', 'herrera', 'fry', 'jared', 'concert', 'sweeney', 'set', 'check', 'transformation', 'file', 'baker', 'kuffner', 'jocelyn', 'producer', 'union', 'cutler', 'matern', 'graphic', 'capitalism', 'rachleff', 'svp', 'pension', 'hamilton', 'nascar', 'chipper', 'centre', 'garrett', 'niklas', 'recommendation', 'cook', 'housing', 'katie', 'rae', 'worker', 'automate', 'well', 'underscore', 'lucasfilm', 'tsg', 'advanced', 'raleigh', 'buffalo', 'vinod', 'cellular', 'glossier', 'year', 'pizza', 'cfo', 'rachel', 'shahin', 'farshchi', 'cameron', 'coldewey', 'kpcb', 'geographic', 'chrysalis', 'raibert', 'glenn', 'eye', 'brother', 'issue', 'ia', 'casey', 'obesity', 'netease', 'pluralsight', 'gupta', 'run', 'idea', 'picture', 'marvel', 'mlb', 'curve', 'be', 'weiss', 'matthews', 'phaedra', 'lamkin', 'watch', 'imagine', 'academy', 'hinge', 'chem', 'hemi', 'brandless', 'frankfurt', 'consumption', 'n95', 'copilot', 'anand', 'radar', 'cloudera', 'astronaut', 'digitalocean', 'nursing', 'heater', 'robin', 'swiss', 'warm', 'depot', 'superawesome', 'purchase', 'taxi', 'formula', 'revenue', 'wells', 'fargo', 'pre', 'clara', 'compliance', 'wadhera', 'slingshot', 'checkout', 'sparklab', 'huffman', 'dollar', 'sexual', 'christopher', 'apeel', 'sale', 'interface', 'bitbucket', 'harper', 'fulfillment', 'orchard', 'amp', 'congruent', 'river', 'pillar', 'libin', 'evtol', 'ajay', 'kara', 'marriott', 'melbourne', 'rubin', 'envoy', 'block', 'jain', 'kaiser', 'cuomo', 'git', 'bryan', 'fact', '100', 'm', 'melissa', 'uruguay', 'hartz', 'javier', 'ophelia', 'easter', 'intercom', 'dcm', 'stefan', 'bio', 'batterie', 'smartnew', 'jurvetson', 'tribeca', 'siegler', 'singh', 'integration', 'dragoneer', 'jamie', 'quinn', 'rothenberg', 'eve', 'pandadoc', 'dpc', 'color', 'acorn', 'people', 'faze', 'clan', 'vestberg', 'lithium', 'sofi', 'fontinalis', 'soft', 'cvc', 'loom', 'merlin', 'exor', 'fca', 'romania', 'labels', 'citigroup', 'reform', 'velodyne', 'buttigieg', 'fred', 'communities', 'accelerator', 'byton', 'morningside', 'darrell', 'etherington', 'susa', 'tonal', 'catterton', 'deepinder', 'goyal', 'ritesh', 'status', 'downtime', 'baby', 'dixon', 'johnny', 'portable', 'lightroom', 'kahoot', 'marshmello', 'creation', 'localization', 'durable', 'limited', 'pat', 'travelperk', 'block', 'workflow', 'relational', 'wistron', 'corsair', 'karp', 'spruce', 'spac', 'internship', 'graham', 'euwyn', 'poon', 'treasury', 'teachable', 'jamin', 'ball', 'chesky', 'buy', 'navy', 'nauto', 'neuralink', 'arlan', 'cre', 'quona', 'ericsson', 'blavity', 'debaun', 'talent', 'literacy', 'asheem', 'chandna', 'volpi', 'dreamit', 'illumina', 'sahil', 'lavingia', 'yiming', 'action', 'mcdermott', 'fold', 'thermostat', 'rome', 'stamos', 'upgrade', 'immigrant', 'remitly', 'milan', 'oslo', 'similarweb', 'five', 'interface', 'taavet', 'hinrikus', 'clothing', 'doerr', 'midi', 'halo', 'oecd', 'ready', 'kirkhorn', 'shieber', 'byers', 'nigel', 'hashicorp', 'migration', 'clearpath', 'disruptive', 'lighting', 'stacy', 'faraday', 'carl', 'hummingbird', 'june', 'ns8', 'premier', 'lean', 'northwestern', 'hazel', 'erectile', 'dysfunction', 'collaborative', 'everlywell', 'verily', 'mx', 'logan', 'mode', 'religion', 'fair', 'advice', 'purple', 'neologism', 'review', 'rechargeable', 'screen', 'neo', 'boats', 'tennessee', 'condakchian', 'juul', 'moscow', 'intellectual', 'dev', 'kurzweil', 'levine', 'expedition', 'business', 'anywhere', 'spectrum', 'ing', 'gottlieb', 'dealership', 'humans', 'pokemon', 'lilium', 'connectivity', 'venrock', 'albo', 'hsbc', 'reef', 'rafal', 'modrzewski', 'spire', 'anshu', 'press', 'wix', 'postgresql', 'broadcom', 'tweet', 'zwift', 'netapp', 'guy', 'brick', 'mortar', 'levy', 'peg', 'jerry', 'make', 'walker', 'accomplice', 'thoughtspot', 'capitalg', 'biofuels', 'bowery', 'turck', 'ship', 'earth', 'packaging', 'collett', 'doubleverify', 'americans', 'stack', 'goldberg', 'lakestar', 'groupware', 'grand', 'dairy', 'robinson', 'snyk', 'bentley', 'pelosi', 'sean', 'apax', 'like', 'fisher', 'oversight', 'flatiron', 'reshma', 'yoda', 'sao', 'paulo', 'gif', 'lanzatech', 'burbidge', 'hasura', 'aggregator', 'xilinx', 'ramp', 'recovery', 'weather', 'abu', 'dhabi', 'mehta', 'vu', 'park', 'susan', 'dyson', 'core', 'ci', 'onofrio', '01', 'person', 'song', 'blackstone', 'control', 'ned', 'slice', 'typeform', 'philip', 'siriusxm', 'valve', 'legend', 'swiftmile', 'cjeu', 'employee', 'mojave', 'avatar', 'ripple', 'childers', 'cncf', 'command', 'qoobo', 'motional', 'canix', 'ultra', 'cologne', 'perk', 'seedr', 'you', 'directive', 'expression', 'clinton', 'robocall', 'amir', 'smartglasse', 'amish', 'jani', 'frederik', 'groce', 'korosec', 'fever', 'hillhouse', 'zoominfo', 'gabi', 'massmutual', 'viola', 'bedrock', 'novak', 'response', 'counterpoint', 'alto', 'breed', 'dennis', 'buchheit', 'georgetown', 'emarketer', 'programmatic', 'brave', 'bidding', 'yamaha', 'jess', 'magsafe', 'movidius', 'circular', 'inovia', 'displays', 'telephony', 'zeta', 'indiegogo', 'paystack', 'offs', 'edsight', 'forgepoint', 'cyberark', 'cybereason', 'container', 'imperva', 'bajracharya', 'coneybeer', 'liberty', 'toutiao', 'smb', 'greenspre', 'freestyle', 'glotzbach', 'blair', 'gigafund', 'meeker', 'aviva', 'surveymonkey', 'ruby', 'hipcamp', 'vanderzanden', 'etrade', 'kuiper', 'madison', 'sweetgreen', 'fifty', 'adrian', 'backstage', 'kobie', 'fuller', 'murph', 'zapier', 'bosun', 'tijani', 'fis', 'hackathon', 'sprout', 'jewel', 'stockx', 'couchbase', 'memory', 'cad', 'blackbird', 'notation', 'sv', 'equinix', 'cnil', 'partnership', 'akash', 'current', 'luke', 'sage', 'altair', 'lydia', 'lattice', 'mentorships', 'maker', 'ppp', 'footwear', 'bieber', 'meme', 'peak', 'tomtom', 'shutterstock', 'holt', 'raytheon', 'harrison', 'roadster', 'impairment', 'fredrik', 'sea', 'mindstrong', 'plant', 'generate', 'livestreame', 'shum', 'brandon', 'mcafee', 'jean', 'lunchbox', 'draftkings', 'wine', 'st', 'constine', 'myanmar', 'aggregator', 'foreign', 'maniv', 'simulator', 'pass', 'ps4', 'kitchen', 'score', 'component', 'gear', 'fernandez', 'breast', 'charger', 'recording', 'kuo', 'chi', 'ink', 'hack', 'clearbanc', 'ag', 'mlop', 'coach', 'sinai', 'singularity', 'pine', 'credential', 'stuffing', 'mangrove', 'manhattan', 'jetblue', 'among', 'huntsville', 'land', 'terri', 'qed', 'miura', 'roper', 'pioneer', 'representative', 'axiom', 'indie', 'op', 'meetup', 'sacramento', 'branding', 'pledge', 'barber', 'adult', 'donotpay', 'transcription', 'shave', 'prelude', 'valar', 'dns', 'wirecard', 'quickbook', 'target', 'bonfire', 'ashton', 'anil', 'bindu', 'beat', 'dickey', 'besmertnik', 'beef', 'nash', 'agrawal', 'volocopter', 'hospitality', 'intuitive', 'nortman', 'parking', 'amnesty', 'facetune', 'lightrick', 'grindr', 'hygiene', 'neotribe', 'hampshire', 'mariadb', 'stone', 'polaris', 'faa', 'longevity', 'dayna', 'grayson', 'dfj', 'kamala', 'soltero', 'gate', 'moorhead', 'cognitive', 'skydio', 'docs', 'mojo', 'aggregation', 'exoskeleton', 'help', 'wellbee', 'foresite', 'hemant', 'redis', 'ampere', 'pathbreaker', 'veterinary', 'trucking', 'goeuro', 'whitney', 'wolfe', 'saic', 'theatre', 'warranty', 'beam', 'einstein', 'blizzard', 'eren', 'dashboards', 'bell', 'sonny', 'steven', 'jen', 'appworks', 'vineet', 'hypertension', 'ifa', 'harness', 'vostok', 'vega', 'gchq', 'siminoff', 'century', 'opay', 'shagaya', 'edward', 'line', 'shah', 'kodiak', 'houzz', 'sheet', 'sky', 'pham', 'roomba', 'ferguson', 'director', 'guide', 'ralston', 'technical', 'pick', 'intelsat', 'riverpark', 'matidor', 'asus', 'conference', 'drake', 'qanon', 'chuxe', 'integrity', 'baron', 'worldwide', 'goldenberg', 'zalando', 'capchase', 'zack', 'osterloh', 'abhay', 'pointy', 'finservices', 'mtech', 'silverton', 'howie', 'lucas', 'against', 'cédric', 'vlad', 'assembly', 'alexandria', 'ocasio', 'cortez', 'audit', 'huffpost', 'jonah', 'peretti', 'eprivacy', 'shankar', 'homekit', 'district', 'schroepfer', 'ovitz', 'chung', 'shrug', 'olx', 'cbinsight', 'elegbe', 'lynda', 'hercules', 'viacom', 'now', 'buds', 'story', 'goldfein', 'roslansky', 'shelf', 'accolade', 'circle', 'yubico', 'roland', 'rebecca', 'shauntel', 'garvey', 'pipedrive', 'tripadvisor', 'lock', 'alexia', 'frog', 'agility', '10x', 'account', 'cookies', 'damien', 'superpeer', 'lonsdale', 's3', 'hawaii', 'lori', 'telefonica', 'mart', 'newark', 'camp', 'gett', 'photographer', 'glynn', 'altimeter', 'sutter', 'axios', 'eclipse', 'gulf', 'pilot', 'podium', 'appliance', 'prague', 'riaa', 'visualization', 'perch', 'shogun', 'heartcore', 'usability', 'kellogg', 'wenger', 'goods', 'edinburgh', 'hawley', 'land', 'noah', 'loverro', 'budget', 'tristan', 'eth', 'grey', 'chad', 'fastly', 'jpl', 'aerojet', 'rocketdyne', 'blindness', 'march', 'lehman', 'bullpen', 'cigna', 'town', 'sondermind', 'nandan', 'nilekani', 'surgical', 'doctor', 'kry', 'omidyar', 'sethi', 'mcneill', 'ispace', 'lowercase', 'lawsuit', 'ula', 'burke', 'bluevine', 'neeraj', 'openview', 'datometry', 'grazer', 'raj', 'cyberpunk', 'technica', 'apply', 'fpga', 'nanorack', 'touchscreen', '3', 'm', 'sheet', 'daqri', 'sense', 'mccarthy', 'meadow', 'barrett', 'saper', 'belarus', 'roy', 'discrimination', 'vishria', 'satish', 'napster', 'yuri', 'value', 'mercadolibre', 'bounties', 'meritech', 'gpt', 'risk', 'quantumscape', 'skyroot', 'asteroids', 'katerra', 'citie', 'I', 'teen', 'rojas', 'smb', 'strava', 'ethena', 'gsv', 'mckinsey', 'record', 'ling', 'workboard', 'flashparking', 'spam', 'mountain', 'rao', 'bankruptcy', 'markus', 'lebron', 'mindfulness', 'mathematic', 'base', 'flagship', 'eastern', 'element', 'ebike', 'fiber', 'patel', 'allianz', 'conan', 'vector', 'bendz', 'barack', 'interoperability', 'wheel', 'lily', 'ghodsi', 'statespace', 'holle', 'medtronic', 'appsflyer', 'airways', 'jam', 'wellington', 'upguard', 'equal', 'rapid7', 'avast', 'ringcentral', 'fixel', 'urgent', 'tool', 'tao', 'sequeira', 'seraphim', 'ariel', 'kentucky', 'troll', 'indiana', 'eurazeo', 'warehouse', 'latent', 'muglia', 'margaret', 'nagle', 'next47', 'plangrid', 'threat', 'lawrence', 'playvs', 'bannon', 'caregive', 'kormo', 'icon', 'holmgren', 'palm', 'cyberspace', 'sheryl', 'sandberg', 'edith', 'herd', 'optimizely', 'dick', 'aclu', 'gong', 'empower', 'whitehurst', 'sabre', 'share', 'destin', 'kawasaki', 'xwing', 'megan', 'farms', 'awards', 'skyrora', 'sid', 'cooper', 'farley', 'cat', 'oprah', 'safeway', 'pierre', 'sisense', 'elephant', 'cancel', 'appian', 'coupa', 'laura', 'henrique', 'dubugra', 'tulsa', 'katherine', 'messagebird', 'homeland', 'ham', 'serunjogi', 'ng', 'churn', 'activant', 'atg', 'arianespace', 'berg', 'stephanie', 'lior', 'phoenix', 'ritual', 'grant', 'insider', 'spend', 'thompson', 'lordstown', 'luca', 'ex', 'machina', 'dental', 'success', 'anki', 'transmission', 'suse', 'desmond', 'airplane', 'johnston', 'standard', 'scoot', 'gross', 'mccue', 'bt', 'nuvocargo', 'hipmunk', 'norwegian', 'ferrari', 'malta', 'mitsubishi', 'idc', 'cbre', 'beuc', 'hart', 'resilience', 'courier', 'package', 'legaltech', 'contractor', 'credo', 'clean', 'clegg', 'explorer', 'microtargeting', 'onavo', 'quantcast', 'leaf', 'launcher', 'roc', 'schiller', 'fm', 'bnp', 'paribas', 'cofounder', 'lte', 'zuoyebang', 'auth0', 'octarine', 'jenkins', 'tensorflow', 'elasticsearch', 'squad', 'pattern', 'julian', 'mophie', 'imac', 'tye', 'brady', 'zetta', 'wrike', 'safra', 'catz', 'outbrain', 'taboola', 'token', 'vedantu', 'bharatpe', 'pollution', 'backend', 'napa', 'panos', 'southwest', 'haus', 'betterment', 'teller', 'acast', 'ministry', 'banjo', 'patton', 'harlem', 'digitally', 'transform', 'mckinnon', 'matternet', 'jumo', 'renault', 'wasabi', 'processor', 'juggernaut', 's28', 'gumroad', 'brooke', 'zagaris', 'alonso', 'moonshot', 'weekend', 'mapping', 'dream11', 'ecobee', 'torch', 'bigo', 'ramsey', 'exits', 'dr', 'matchstick', 'accident', 'apartment', 'sneakers', 'charger', 'alameda', 'county', 'caufield', 'farmwise', 'pepper', 'cyril', 'pantheon', 'lead', 'juno', 'baszucki', 'attack', 'gibeau', 'mosseri', 'rogas', 'maha', 'ibrahim', 'mutual', 'supercomputer', 'belsky', 'nurx', 'maven', 'clinic', 'angelo', 'updates', 'le', 'agritech', 'rent', 'payu', 'lizhi', 'wong', 'jiomart', 'seamless', 'zimmer', 'abc', 'hooq', 'murdoch', 'printer', 'gpgpu', 'mulan', 'pixar', 'airpower', 'songe', 'laron', 'linguistics', 'dishwasher', 'voodoo', 'louis', 'leasing', 'projekt', 'shure', 'oceanic', 'atmospheric', 'instrument', 'ruth', 'activity', 'andrea', 'upwork', 'yap', 'deshpande', 'gonzalez', 'cadenas', 'vox', 'michele', 'romanow', 'light', 'insignia', 'kayhan', 'maverick', 'crista', 'galli', 'hear', 'xfinity', 'hot', 'lone', 'maersk', 'compression', 'railsbank', 'salman', 'syke', 'philpot', 'cowen', 'childcare', 'superset', 'm13', 'lady', 'firehawk', 'chapman', 'nolan', 'twttr', 'fiverr', 'acton', 'ownership', 'joaquin', 'ticketmaster', 'szulczewski', 'seeds', 'toba', 'death', 'kutcher', 'flo', 'vend', 'brien', 'billing', 'irl', 'grocery', 'roger', 'continental', 'greece', 'autism', 'flare', 'bussgang', 'victress', 'circ', 'nerdwallet', 'opentable', 'soraya', 'darabi', 'ackerman', 'pachama', 'solugen', 'tsai', 'gabe', 'body', 'cognizant', 'noyb', 'formation', 'ancestry', 'german', 'wikis', 'actress', 'rethink', 'netsuite', 'stix', 'blood', 'salesky', 'liquid2', 'lyra', '911', 'gap', 'thredup', 'gogoro', 'susquehanna', 'omar', 'techsquare', 'mem', 'ureeka', 'basis', 'interaction', 'klaus', 'zellmer', 'huang', 'refraction', 'missouri', 'rajan', 'defamation', 'log', 'schultz', 'psychology', 'inspection', 'docomo', 'wunder', 'hootsuite', 'anduril', 'kaltura', 'danny', 'nwandu', 'zoe', 'nutonomy', 'nir', 'dynetic', 'short', 'p40', 'sacca', 'taneja', 'educational', 'reber', 'stream', 'jungle', 'man', 'fandango', 'stripe', 'costolo', 'comscore', 'astranis', 'wipro', 'diligent', 'luna', 'othman', 'laraki', 'sail', 'partnership', 'tsur', 'repair', 'cube', 'arthur', 'polychain', 'successfactors', 'wittington', 'pasquale', 'romano', 'concorde', 'roll', 'royce', 'alon', 'snapdragon', 'vudu', 'bang', 'olufsen', 'maker', 'apron', 'ticket', 'kalanick', 'braze', 'mallforafrica', 'momentus', 'agora', 'ido', 'sum', 'show', 'profitwell', 'darpa', 'ucla', 'kobe', 'bryant', 'loreal', 'gusto', 'biomimetic', 'bowl', 'mixer', 'webflow', 'report', 'society', 'trevor', 'sle', 'same', 'chicken', 'stein', 'xm', 'shooters', 'fable', 'promus', 'canopy', 'linden', 'bollinger', 'substitute', 'su', 'class', 'cost', 'hostile', 'biomedical', 'douvos', 'plasma', 'currier', 'nutrition', 'crosslink', 'modern', 'puma', 'look', 'ifood', 'amnon', 'shashua', 'avatar', 'bitstrips', 'clickup', 'zeb', 'yukai', 'fujifilm', 'ramot', 'macquarie', 'lincoln', 'einride', 'demisto', 'institutional', 'bounty', 'bonsai', 'propaganda', 'vote', 'brutality', 'fatigue', 'securitization', 'classified', 'parasnis', 'ipos', 'citymapper', 'pepp', 'pt', 'baiju', 'bhatt', 'tenev', 'dianpe', 'exxonmobil', 'secretary', 'around', 'sugar', 'campus', 'iab', 'cookie', 'luxembourg', 'dilemma', 'falconx', 'rickshaw', 'vaya', 'airtag', 'playbook', 'jimmy', 'reynolds', 'earlybird', 'hailo', 'krieger', 'affirmed', 'telus', 'avira', 'sur', 'gic', 'xu', 'k9', 'tecton', 'shlomo', 'innov8', 'instana', 'juniper', 'sd', 'ecosystem', 'corey', 'borthwick', 'kubermatic', 's7', 'mindville', 'mcmillon', 'predictive', 'anca', 'dragan', 'panzarino', 'gibson', 'cloutier', 'fleetsmith', 'gainsight', 'career', 'mai', 'strive', 'oskoui', 'fairness', 'quality', 'bellm', 'peanut', 'monetization', 'reinforcement', 'singerman', 'stash', 'atom', 'dinsdale', 'marlon', 'nichols', 'monkeylearn', 'sora', 'mallun', 'yen', 'uavs', 'folayan', 'novant', 'ken', 'senegal', 'zindi', 'olugbenga', 'agboola', 'cchub', 'gebeya', 'mississippi', 'sokowatch', 'sendy', 'sphero', 'gsma', 'single', 'durham', 'valentino', 'btov', 'shop', 'collection', 'adam', 'retention', 'nuvia', 'segars', 'activist', 'metaprop', 'aaron', 'varo', 'hammerle', 'bare', 'packet', 'kazakhstan', 'illegal', 'democracy', 'fadell', 'geforce', 'xrc', 'address', 'sunshine', 'threema', 'whitepage', 'lumi', 'protein', 'pluto', 'stuart', 'sopp', 'reward', 'lili', 'piracy', 'crisis', 'kard', 'tink', 'school', 'wingcopter', 'ux', 'ahmed', 'appnexus', 'onedrive', 'yusuf', 'mehdi', 'getsafe', 'stratis', 'luxury', 'shoe', 'do', 'meng', 'wanzhou', 'ren', 'semi', 'spinlaunch', 'sbir', 'ecosia', 'demis', 'hassabis', 'pyka', 'ebersweiler', 'penguin', 'bixby', 'comedian', 'moviepass', 'busuu', 'solarwind', 'mandiant', 'dog', 'don', 'blind', 'fruchterman', 'gaze', 'krebs', 'nye', 'teladoc', 'saving', 'twentyeight', 'alivecor', 'milk', 'lei', 'westbridge', 'bajaj', 'whitehat', 'pitney', 'bow', 'ladder', 'beverages', 'heritage', 'float', 'anis', 'uzzaman', 'protonmail', 'geekplus', 'openspace', 'paramount', 'convergence', 'shachar', 'bialick', 'assassin', 'creed', 'israeli', 'grauer', 'iversity', 'screensharing', 'lemno', 'grow', 'marqeta', 'hastings', 'creator', 'keeptruckin', 'onstar', 'phantom', 'carlyle', 'wag', 'steelserie', 'circuit', 'compute', 'moog', 'analogue', 'wyze', 'daniela', 'density', 'zin', 'treadmill', 'sanger', 'gaurav', 'nougat', 'siren', 'sennheiser', 'defi', 'me', 'petnet', 'eyal', 'wemo', 'xnor', 'pornhub', 'employees', 'patricof', 'tour', 'toni', 'overload', 'joymode', 'davis', 'darktrace', 'signalfx', 'merchant', 'brear', 'dean', 'avoidance', 'ameelio', 'prison', 'basf', 'iraq', 'kingsoft', 'shunwei', 'fresh', 'eva', 'ho', 'florence', 'kamet', 'ehang', 'mohamme', 'bigid', 'rony', 'abovitz', 'xs', 'xyz', 'heura', 'whopper', 'leolabs', 'coppa', 'capitalone', 'sieg', 'node', 'edbi', 'listings', 'iceye', 'effective', 'kayvon', 'beykpour', 'coop', 'faber', 'volition', 'navitas', 'war', 'page', 'vishal', 'shell', 'dash', 'launchpad', 'airship', 'rus', 'route', 'endpoint', 'suborbital', 'pornography', 'browder', 'aira', 'hunters', 'radian', 'crook', 'katrina', 'carfax', 'launchdarkly', 'protocol', 'monetary', 'astanor', 'orca', 'mindset', 'library', 'perspective', 'proterra', 'pioneer', 'dn', 'mobilize', 'civic', 'npm', 'sonali', 'rycker', 'hungrypanda', 'kinnevik', 'philippe', 'aiop', 'omniture', 'instance', 'checkmark', 'optic', 'proeza', 'hire', 'klain', 'gordon', 'dupont', 'purifier', 'chien', 'realityengine', 'dialpad', 'highfive', 'glasswe', 'lyman', '406', 'fishtown', 'fivetran', 'turtle', 'remo', 'bookclub', 'sentinelone', 'expel', 'paladin', 'lil', 'workday', 'micah', 'deel', 'wren', 'christine', 'flint', 'nyca', 'condition', 'dana', 'settle', 'vendr', 'silk', 'road', 'doctolib', 'kimchuk', 'sccs', 'cisa', 'varden', 'b8ta', 'endomondo', 'walter', 'notes', 'liquor', 'ghostery', 'bipa', 'aleksandr', 'kogan', 'chancellor', 'vine', 'adblock', 'till', 'jerusalem', 'castle', 'flippy', 'raise', 'dioxide', 'perfect', 'perumal', 'gandhi', 'pandya', 'ice', 'outdoorsy', 'sensei', 'chao', 'plastic', 'brighteye', 'flops', 'supercomputer', 'corn', 'jakubowski', 'kessler', 'emergency', 'bukuwarung', 'leyla', 'seka', 'hedosophia', 'magna', 'hjelm', 'adesina', 'touch', 'ach', 'countingup', 'crowdcube', 'pollen', 'fallout', 'amoruso', 'allbirds', 'tomer', 'jsonar', 'snippets', 'relic', 'av8', 'caura', 'rimer', 'mirakl', 'shade', 'itaú', 'lofgren', 'hacware', 'bonobos', 'ridge', 'quantexa', 'delane', 'parnell', 'kaisei', 'hamamoto', 'apigee', 'appsheet', 'clock', 'launchnote', 'bike', 'genius', 'elderly', 'boomerang', 'slide', 'ascension', 'coronvirus', 'leonard', 'builder', 'calendar', 'mclaughlin', 'burka', 'zittrain', 'nyu', 'cole', 'graphql', 'sumitomo', 'indiebio', 'wind', 'dine', 'synthesize', 'lyst', 'sequence', 'advance', 'fleksy', 'react', 'naren', 'shaam', 'atzberger', 'siroker', 'albionvc', 'krause', 'ulrich', 'kranz', 'revero', 'pinewood', 'cosmose', 'telepresence', 'brook', 'corvette', 'infosys', 'chevy', 'climacell', 'filter', 'pia', 'iribarne', 'letgo', 'offerup', 'zenly', 'gaorong', 'mural', 'voicemail', 'enigma', 'xos', 'nanox', 'run', 'poliakine', 'ab', 'cobalt', 'rubio', 'steph', 'hipchat', 'blomfield', 'cloudinary', 'duck', 'karen', 'novo', 'mosaic', 'digitization', 'saar', 'unagi', 'foodtech', 'eventure', 'tnl', 'kitonga', 'vitable', 'minimum', 'hartman', 'mouse', 'apoorva', 'heineken', 'giraud', 'hellofresh', 'coivd', 'chaos', 'wildlife', 'airmap', 'mead', 'mixtape', 'fushman', 'boost', 'anker', 'haystack', 'friedman', 'equity', 'choi', 'riccitiello', 'rpa', 'tibet', 'bush', 'luis', 'ahn', 'shift', 'audible', 'teatime', 'thor', 'fridriksson', 'hanks', 'czi', 'priscilla', 'loupedeck', 'satellogic', 'biz', 'fleet', 'leather', 'mycowork', 'feng', 'autonation', 'girsky', 'referral', 'nathan', 'def', 'con', 'zheng', 'northgate', 'esri', 'wonder', 'scribd', 'cubesat', 'smoke', 'criteo', 'milton', 'flex', 'desk', 'carvana', 'compass', 'zelda', 'autopilot', 'monashee', 'menopause', 'sim', 'merchant', 'noom', 'trash', 'dott', 'likee', 'expensify', 'solarcity', 'careem', 'sousmile', 'hawkins', 'sixth', 'acquia', 'netgear', 'springer', 'voyage', 'arjun', 'isreali', 'abby', 'kearn', 'grammarly', 'silbermann', 'chronic', 'automobile', 'imessage', 'cassandra', 'pathology', 'qihoo', 'cleantech', 'madrone', 'common', 'ecosystem', 'cta', '21st', 'friend', 'tubi', 'rich', 'iii', 'latam', 'agent', 'rating', 'clover', 'meatable', 'greatpoint', 'cmu', 'dfinity', 'courtside', 'allvp', 'antonia', 'ee', 'sensel', 'woocommerce', 'anchorage', 'boyce', 'scaleway', 'medium', 'aliexpress', 'mint', 'efounder', 'ccp', 'momenta', 'karl', 'iagnemma', '2021', 'orcam', 'scaringe', 'valencia', 'rsa', 'sxsw', 'competition', 'metaverse', 'spongebob', 'squarepant', 'baraja', 'lessin', 'lastline', 'moxie', 'marlinspike', 'envision', 'sleepbud', 'identification', 'kentik', 'vistara', 'adevinta', 'burberry', 'illustrator', 'flixbus', 'magellan', 'matney', 'chainsmokers', 'sharon', 'pompeo', 'skillshare', 'tracxn', 'welab', 'roborace', 'addventure', 'dry', 'auditing', 'popsugar', 'thrillist', 'thune', 'moment', 'near', 'interview', 'walden', 'option', 'gamifye', 'graf', 'curio', 'translation', 'continuity', 'habana', 'mount', 'legere', 'makemytrip', 'toro', 'grady', 'penny', 'pritzker', 'vlocity', 'labeling', 'vickers', 'brockman', 'netscape', 'bunch', 'kubeflow', 'qi', 'incident', 'neidig', 'oscars', 'hall', 'noyo', 'brett', 'stubhub', 'yubikey']\n"
          ]
        }
      ]
    },
    {
      "cell_type": "code",
      "source": [
        "def is_Tech_art(s2):\n",
        "  # Tokenize the strings\n",
        "  tokens1 = word_tokenize(bag_of_words.lower())\n",
        "  tokens2 = word_tokenize(s2)\n",
        "\n",
        "# Convert tokens to vectors\n",
        "  vector1 = np.mean([word_vectors[token] for token in tokens1 if token in word_vectors], axis=0)\n",
        "  vector2 = np.mean([word_vectors[token] for token in tokens2 if token in word_vectors], axis=0)\n",
        "\n",
        "# Calculate cosine similarity between the two vectors\n",
        "  similarity = np.dot(vector1, vector2) / (np.linalg.norm(vector1) * np.linalg.norm(vector2))\n",
        "  print(similarity)\n",
        "\n"
      ],
      "metadata": {
        "id": "vUZdFFLVGq4C"
      },
      "execution_count": null,
      "outputs": []
    },
    {
      "cell_type": "code",
      "source": [
        "is_Tech_art('')"
      ],
      "metadata": {
        "colab": {
          "base_uri": "https://localhost:8080/"
        },
        "id": "8n0-7mWQG2rj",
        "outputId": "763a489c-3bea-4d29-fdae-af364d245ba5"
      },
      "execution_count": null,
      "outputs": [
        {
          "output_type": "stream",
          "name": "stdout",
          "text": [
            "0.5087282\n"
          ]
        }
      ]
    },
    {
      "cell_type": "code",
      "source": [
        "import spacy\n",
        "\n",
        "# Load a spaCy model with WordNet integration\n",
        "nlp = spacy.load(\"en_core_web_sm\")\n",
        "\n"
      ],
      "metadata": {
        "id": "A0bWSddm5s6o"
      },
      "execution_count": null,
      "outputs": []
    },
    {
      "cell_type": "code",
      "source": [
        "pip install spacy-wordnet\n"
      ],
      "metadata": {
        "colab": {
          "base_uri": "https://localhost:8080/",
          "height": 323
        },
        "id": "7ffo8pJO6J0M",
        "outputId": "5f49443e-a8ae-4c66-e500-a6f42632d08f"
      },
      "execution_count": null,
      "outputs": [
        {
          "output_type": "error",
          "ename": "NotImplementedError",
          "evalue": "ignored",
          "traceback": [
            "\u001b[0;31m---------------------------------------------------------------------------\u001b[0m",
            "\u001b[0;31mNotImplementedError\u001b[0m                       Traceback (most recent call last)",
            "\u001b[0;32m<ipython-input-4-42fd9ed5ae04>\u001b[0m in \u001b[0;36m<cell line: 1>\u001b[0;34m()\u001b[0m\n\u001b[0;32m----> 1\u001b[0;31m \u001b[0mget_ipython\u001b[0m\u001b[0;34m(\u001b[0m\u001b[0;34m)\u001b[0m\u001b[0;34m.\u001b[0m\u001b[0mrun_line_magic\u001b[0m\u001b[0;34m(\u001b[0m\u001b[0;34m'pip'\u001b[0m\u001b[0;34m,\u001b[0m \u001b[0;34m'install spacy-wordnet'\u001b[0m\u001b[0;34m)\u001b[0m\u001b[0;34m\u001b[0m\u001b[0;34m\u001b[0m\u001b[0m\n\u001b[0m",
            "\u001b[0;32m/usr/local/lib/python3.9/dist-packages/IPython/core/interactiveshell.py\u001b[0m in \u001b[0;36mrun_line_magic\u001b[0;34m(self, magic_name, line, _stack_depth)\u001b[0m\n\u001b[1;32m   2416\u001b[0m                 \u001b[0mkwargs\u001b[0m\u001b[0;34m[\u001b[0m\u001b[0;34m'local_ns'\u001b[0m\u001b[0;34m]\u001b[0m \u001b[0;34m=\u001b[0m \u001b[0mself\u001b[0m\u001b[0;34m.\u001b[0m\u001b[0mget_local_scope\u001b[0m\u001b[0;34m(\u001b[0m\u001b[0mstack_depth\u001b[0m\u001b[0;34m)\u001b[0m\u001b[0;34m\u001b[0m\u001b[0;34m\u001b[0m\u001b[0m\n\u001b[1;32m   2417\u001b[0m             \u001b[0;32mwith\u001b[0m \u001b[0mself\u001b[0m\u001b[0;34m.\u001b[0m\u001b[0mbuiltin_trap\u001b[0m\u001b[0;34m:\u001b[0m\u001b[0;34m\u001b[0m\u001b[0;34m\u001b[0m\u001b[0m\n\u001b[0;32m-> 2418\u001b[0;31m                 \u001b[0mresult\u001b[0m \u001b[0;34m=\u001b[0m \u001b[0mfn\u001b[0m\u001b[0;34m(\u001b[0m\u001b[0;34m*\u001b[0m\u001b[0margs\u001b[0m\u001b[0;34m,\u001b[0m \u001b[0;34m**\u001b[0m\u001b[0mkwargs\u001b[0m\u001b[0;34m)\u001b[0m\u001b[0;34m\u001b[0m\u001b[0;34m\u001b[0m\u001b[0m\n\u001b[0m\u001b[1;32m   2419\u001b[0m             \u001b[0;32mreturn\u001b[0m \u001b[0mresult\u001b[0m\u001b[0;34m\u001b[0m\u001b[0;34m\u001b[0m\u001b[0m\n\u001b[1;32m   2420\u001b[0m \u001b[0;34m\u001b[0m\u001b[0m\n",
            "\u001b[0;32m/usr/local/lib/python3.9/dist-packages/google/colab/_installation_commands.py\u001b[0m in \u001b[0;36m_pip_magic\u001b[0;34m(line)\u001b[0m\n\u001b[1;32m     47\u001b[0m   \u001b[0;31m# Colab is set up such that pip does the right thing, and pip install\u001b[0m\u001b[0;34m\u001b[0m\u001b[0;34m\u001b[0m\u001b[0m\n\u001b[1;32m     48\u001b[0m   \u001b[0;31m# will properly trigger the pip install warning.\u001b[0m\u001b[0;34m\u001b[0m\u001b[0;34m\u001b[0m\u001b[0m\n\u001b[0;32m---> 49\u001b[0;31m   \u001b[0;32mreturn\u001b[0m \u001b[0mip\u001b[0m\u001b[0;34m.\u001b[0m\u001b[0msystem\u001b[0m\u001b[0;34m(\u001b[0m\u001b[0;34m'pip {}'\u001b[0m\u001b[0;34m.\u001b[0m\u001b[0mformat\u001b[0m\u001b[0;34m(\u001b[0m\u001b[0mline\u001b[0m\u001b[0;34m)\u001b[0m\u001b[0;34m)\u001b[0m\u001b[0;34m\u001b[0m\u001b[0;34m\u001b[0m\u001b[0m\n\u001b[0m\u001b[1;32m     50\u001b[0m \u001b[0;34m\u001b[0m\u001b[0m\n\u001b[1;32m     51\u001b[0m \u001b[0;34m\u001b[0m\u001b[0m\n",
            "\u001b[0;32m/usr/local/lib/python3.9/dist-packages/google/colab/_shell.py\u001b[0m in \u001b[0;36msystem\u001b[0;34m(self, *args, **kwargs)\u001b[0m\n\u001b[1;32m     96\u001b[0m       \u001b[0mkwargs\u001b[0m\u001b[0;34m.\u001b[0m\u001b[0mupdate\u001b[0m\u001b[0;34m(\u001b[0m\u001b[0;34m{\u001b[0m\u001b[0;34m'also_return_output'\u001b[0m\u001b[0;34m:\u001b[0m \u001b[0;32mTrue\u001b[0m\u001b[0;34m}\u001b[0m\u001b[0;34m)\u001b[0m\u001b[0;34m\u001b[0m\u001b[0;34m\u001b[0m\u001b[0m\n\u001b[1;32m     97\u001b[0m \u001b[0;34m\u001b[0m\u001b[0m\n\u001b[0;32m---> 98\u001b[0;31m     \u001b[0moutput\u001b[0m \u001b[0;34m=\u001b[0m \u001b[0m_system_commands\u001b[0m\u001b[0;34m.\u001b[0m\u001b[0m_system_compat\u001b[0m\u001b[0;34m(\u001b[0m\u001b[0mself\u001b[0m\u001b[0;34m,\u001b[0m \u001b[0;34m*\u001b[0m\u001b[0margs\u001b[0m\u001b[0;34m,\u001b[0m \u001b[0;34m**\u001b[0m\u001b[0mkwargs\u001b[0m\u001b[0;34m)\u001b[0m  \u001b[0;31m# pylint:disable=protected-access\u001b[0m\u001b[0;34m\u001b[0m\u001b[0;34m\u001b[0m\u001b[0m\n\u001b[0m\u001b[1;32m     99\u001b[0m \u001b[0;34m\u001b[0m\u001b[0m\n\u001b[1;32m    100\u001b[0m     \u001b[0;32mif\u001b[0m \u001b[0mpip_warn\u001b[0m\u001b[0;34m:\u001b[0m\u001b[0;34m\u001b[0m\u001b[0;34m\u001b[0m\u001b[0m\n",
            "\u001b[0;32m/usr/local/lib/python3.9/dist-packages/google/colab/_system_commands.py\u001b[0m in \u001b[0;36m_system_compat\u001b[0;34m(shell, cmd, also_return_output)\u001b[0m\n\u001b[1;32m    451\u001b[0m   \u001b[0;31m# is expected to call this function, thus adding one level of nesting to the\u001b[0m\u001b[0;34m\u001b[0m\u001b[0;34m\u001b[0m\u001b[0m\n\u001b[1;32m    452\u001b[0m   \u001b[0;31m# stack.\u001b[0m\u001b[0;34m\u001b[0m\u001b[0;34m\u001b[0m\u001b[0m\n\u001b[0;32m--> 453\u001b[0;31m   result = _run_command(\n\u001b[0m\u001b[1;32m    454\u001b[0m       \u001b[0mshell\u001b[0m\u001b[0;34m.\u001b[0m\u001b[0mvar_expand\u001b[0m\u001b[0;34m(\u001b[0m\u001b[0mcmd\u001b[0m\u001b[0;34m,\u001b[0m \u001b[0mdepth\u001b[0m\u001b[0;34m=\u001b[0m\u001b[0;36m2\u001b[0m\u001b[0;34m)\u001b[0m\u001b[0;34m,\u001b[0m \u001b[0mclear_streamed_output\u001b[0m\u001b[0;34m=\u001b[0m\u001b[0;32mFalse\u001b[0m\u001b[0;34m\u001b[0m\u001b[0;34m\u001b[0m\u001b[0m\n\u001b[1;32m    455\u001b[0m   )\n",
            "\u001b[0;32m/usr/local/lib/python3.9/dist-packages/google/colab/_system_commands.py\u001b[0m in \u001b[0;36m_run_command\u001b[0;34m(cmd, clear_streamed_output)\u001b[0m\n\u001b[1;32m    165\u001b[0m   \u001b[0mlocale_encoding\u001b[0m \u001b[0;34m=\u001b[0m \u001b[0mlocale\u001b[0m\u001b[0;34m.\u001b[0m\u001b[0mgetpreferredencoding\u001b[0m\u001b[0;34m(\u001b[0m\u001b[0;34m)\u001b[0m\u001b[0;34m\u001b[0m\u001b[0;34m\u001b[0m\u001b[0m\n\u001b[1;32m    166\u001b[0m   \u001b[0;32mif\u001b[0m \u001b[0mlocale_encoding\u001b[0m \u001b[0;34m!=\u001b[0m \u001b[0m_ENCODING\u001b[0m\u001b[0;34m:\u001b[0m\u001b[0;34m\u001b[0m\u001b[0;34m\u001b[0m\u001b[0m\n\u001b[0;32m--> 167\u001b[0;31m     raise NotImplementedError(\n\u001b[0m\u001b[1;32m    168\u001b[0m         \u001b[0;34m'A UTF-8 locale is required. Got {}'\u001b[0m\u001b[0;34m.\u001b[0m\u001b[0mformat\u001b[0m\u001b[0;34m(\u001b[0m\u001b[0mlocale_encoding\u001b[0m\u001b[0;34m)\u001b[0m\u001b[0;34m\u001b[0m\u001b[0;34m\u001b[0m\u001b[0m\n\u001b[1;32m    169\u001b[0m     )\n",
            "\u001b[0;31mNotImplementedError\u001b[0m: A UTF-8 locale is required. Got ANSI_X3.4-1968"
          ]
        }
      ]
    },
    {
      "cell_type": "code",
      "source": [
        "nlp=spacy.load('en_core_web_sm')"
      ],
      "metadata": {
        "id": "9VWxg4I4Rb3H"
      },
      "execution_count": null,
      "outputs": []
    },
    {
      "cell_type": "code",
      "source": [
        "nlp.add_pipe(\"lemmatizer\", name=\"wordnet\", after=\"tagger\")\n"
      ],
      "metadata": {
        "colab": {
          "base_uri": "https://localhost:8080/"
        },
        "id": "5vKozu0-RyGd",
        "outputId": "0b2cb06a-e655-458c-e0de-d7ffaf0c3586"
      },
      "execution_count": null,
      "outputs": [
        {
          "output_type": "execute_result",
          "data": {
            "text/plain": [
              "<spacy.lang.en.lemmatizer.EnglishLemmatizer at 0x7ff5a62ed040>"
            ]
          },
          "metadata": {},
          "execution_count": 42
        }
      ]
    },
    {
      "cell_type": "code",
      "source": [
        "# Access WordNet via spaCy's Language object\n",
        "word=nlp.get_pipe(\"wordnet\")\n",
        "\n",
        "# Use the WordNet integration to retrieve synsets for a word in a specific domain\n",
        "synsets = word._.wordnet.wordnet_synsets_for_domain(\"technology\")\n",
        "\n",
        "# synsets = wordnet.wordnet_synsets_for_domain(\"technology\")\n"
      ],
      "metadata": {
        "colab": {
          "base_uri": "https://localhost:8080/",
          "height": 244
        },
        "id": "8GXz21MD5ymJ",
        "outputId": "3904460e-4705-4ea6-b2ce-a6e5fdf3e2d9"
      },
      "execution_count": null,
      "outputs": [
        {
          "output_type": "error",
          "ename": "AttributeError",
          "evalue": "ignored",
          "traceback": [
            "\u001b[0;31m---------------------------------------------------------------------------\u001b[0m",
            "\u001b[0;31mAttributeError\u001b[0m                            Traceback (most recent call last)",
            "\u001b[0;32m<ipython-input-43-ee57f161928e>\u001b[0m in \u001b[0;36m<cell line: 5>\u001b[0;34m()\u001b[0m\n\u001b[1;32m      3\u001b[0m \u001b[0;34m\u001b[0m\u001b[0m\n\u001b[1;32m      4\u001b[0m \u001b[0;31m# Use the WordNet integration to retrieve synsets for a word in a specific domain\u001b[0m\u001b[0;34m\u001b[0m\u001b[0;34m\u001b[0m\u001b[0m\n\u001b[0;32m----> 5\u001b[0;31m \u001b[0msynsets\u001b[0m \u001b[0;34m=\u001b[0m \u001b[0mword\u001b[0m\u001b[0;34m.\u001b[0m\u001b[0m_\u001b[0m\u001b[0;34m.\u001b[0m\u001b[0mwordnet\u001b[0m\u001b[0;34m.\u001b[0m\u001b[0mwordnet_synsets_for_domain\u001b[0m\u001b[0;34m(\u001b[0m\u001b[0;34m\"technology\"\u001b[0m\u001b[0;34m)\u001b[0m\u001b[0;34m\u001b[0m\u001b[0;34m\u001b[0m\u001b[0m\n\u001b[0m\u001b[1;32m      6\u001b[0m \u001b[0;34m\u001b[0m\u001b[0m\n\u001b[1;32m      7\u001b[0m \u001b[0;31m# synsets = wordnet.wordnet_synsets_for_domain(\"technology\")\u001b[0m\u001b[0;34m\u001b[0m\u001b[0;34m\u001b[0m\u001b[0m\n",
            "\u001b[0;31mAttributeError\u001b[0m: 'EnglishLemmatizer' object has no attribute '_'"
          ]
        }
      ]
    },
    {
      "cell_type": "code",
      "source": [
        "!pip install --upgrade nltk"
      ],
      "metadata": {
        "colab": {
          "base_uri": "https://localhost:8080/",
          "height": 323
        },
        "id": "OHdQ_kp-QTGJ",
        "outputId": "a42843e1-5172-4394-b000-cc44de084c6d"
      },
      "execution_count": null,
      "outputs": [
        {
          "output_type": "error",
          "ename": "NotImplementedError",
          "evalue": "ignored",
          "traceback": [
            "\u001b[0;31m---------------------------------------------------------------------------\u001b[0m",
            "\u001b[0;31mNotImplementedError\u001b[0m                       Traceback (most recent call last)",
            "\u001b[0;32m<ipython-input-32-3d7e277ce4ae>\u001b[0m in \u001b[0;36m<cell line: 1>\u001b[0;34m()\u001b[0m\n\u001b[0;32m----> 1\u001b[0;31m \u001b[0mget_ipython\u001b[0m\u001b[0;34m(\u001b[0m\u001b[0;34m)\u001b[0m\u001b[0;34m.\u001b[0m\u001b[0msystem\u001b[0m\u001b[0;34m(\u001b[0m\u001b[0;34m'pip install --upgrade nltk'\u001b[0m\u001b[0;34m)\u001b[0m\u001b[0;34m\u001b[0m\u001b[0;34m\u001b[0m\u001b[0m\n\u001b[0m",
            "\u001b[0;32m/usr/local/lib/python3.9/dist-packages/google/colab/_shell.py\u001b[0m in \u001b[0;36msystem\u001b[0;34m(self, *args, **kwargs)\u001b[0m\n\u001b[1;32m     96\u001b[0m       \u001b[0mkwargs\u001b[0m\u001b[0;34m.\u001b[0m\u001b[0mupdate\u001b[0m\u001b[0;34m(\u001b[0m\u001b[0;34m{\u001b[0m\u001b[0;34m'also_return_output'\u001b[0m\u001b[0;34m:\u001b[0m \u001b[0;32mTrue\u001b[0m\u001b[0;34m}\u001b[0m\u001b[0;34m)\u001b[0m\u001b[0;34m\u001b[0m\u001b[0;34m\u001b[0m\u001b[0m\n\u001b[1;32m     97\u001b[0m \u001b[0;34m\u001b[0m\u001b[0m\n\u001b[0;32m---> 98\u001b[0;31m     \u001b[0moutput\u001b[0m \u001b[0;34m=\u001b[0m \u001b[0m_system_commands\u001b[0m\u001b[0;34m.\u001b[0m\u001b[0m_system_compat\u001b[0m\u001b[0;34m(\u001b[0m\u001b[0mself\u001b[0m\u001b[0;34m,\u001b[0m \u001b[0;34m*\u001b[0m\u001b[0margs\u001b[0m\u001b[0;34m,\u001b[0m \u001b[0;34m**\u001b[0m\u001b[0mkwargs\u001b[0m\u001b[0;34m)\u001b[0m  \u001b[0;31m# pylint:disable=protected-access\u001b[0m\u001b[0;34m\u001b[0m\u001b[0;34m\u001b[0m\u001b[0m\n\u001b[0m\u001b[1;32m     99\u001b[0m \u001b[0;34m\u001b[0m\u001b[0m\n\u001b[1;32m    100\u001b[0m     \u001b[0;32mif\u001b[0m \u001b[0mpip_warn\u001b[0m\u001b[0;34m:\u001b[0m\u001b[0;34m\u001b[0m\u001b[0;34m\u001b[0m\u001b[0m\n",
            "\u001b[0;32m/usr/local/lib/python3.9/dist-packages/google/colab/_system_commands.py\u001b[0m in \u001b[0;36m_system_compat\u001b[0;34m(shell, cmd, also_return_output)\u001b[0m\n\u001b[1;32m    451\u001b[0m   \u001b[0;31m# is expected to call this function, thus adding one level of nesting to the\u001b[0m\u001b[0;34m\u001b[0m\u001b[0;34m\u001b[0m\u001b[0m\n\u001b[1;32m    452\u001b[0m   \u001b[0;31m# stack.\u001b[0m\u001b[0;34m\u001b[0m\u001b[0;34m\u001b[0m\u001b[0m\n\u001b[0;32m--> 453\u001b[0;31m   result = _run_command(\n\u001b[0m\u001b[1;32m    454\u001b[0m       \u001b[0mshell\u001b[0m\u001b[0;34m.\u001b[0m\u001b[0mvar_expand\u001b[0m\u001b[0;34m(\u001b[0m\u001b[0mcmd\u001b[0m\u001b[0;34m,\u001b[0m \u001b[0mdepth\u001b[0m\u001b[0;34m=\u001b[0m\u001b[0;36m2\u001b[0m\u001b[0;34m)\u001b[0m\u001b[0;34m,\u001b[0m \u001b[0mclear_streamed_output\u001b[0m\u001b[0;34m=\u001b[0m\u001b[0;32mFalse\u001b[0m\u001b[0;34m\u001b[0m\u001b[0;34m\u001b[0m\u001b[0m\n\u001b[1;32m    455\u001b[0m   )\n",
            "\u001b[0;32m/usr/local/lib/python3.9/dist-packages/google/colab/_system_commands.py\u001b[0m in \u001b[0;36m_run_command\u001b[0;34m(cmd, clear_streamed_output)\u001b[0m\n\u001b[1;32m    165\u001b[0m   \u001b[0mlocale_encoding\u001b[0m \u001b[0;34m=\u001b[0m \u001b[0mlocale\u001b[0m\u001b[0;34m.\u001b[0m\u001b[0mgetpreferredencoding\u001b[0m\u001b[0;34m(\u001b[0m\u001b[0;34m)\u001b[0m\u001b[0;34m\u001b[0m\u001b[0;34m\u001b[0m\u001b[0m\n\u001b[1;32m    166\u001b[0m   \u001b[0;32mif\u001b[0m \u001b[0mlocale_encoding\u001b[0m \u001b[0;34m!=\u001b[0m \u001b[0m_ENCODING\u001b[0m\u001b[0;34m:\u001b[0m\u001b[0;34m\u001b[0m\u001b[0;34m\u001b[0m\u001b[0m\n\u001b[0;32m--> 167\u001b[0;31m     raise NotImplementedError(\n\u001b[0m\u001b[1;32m    168\u001b[0m         \u001b[0;34m'A UTF-8 locale is required. Got {}'\u001b[0m\u001b[0;34m.\u001b[0m\u001b[0mformat\u001b[0m\u001b[0;34m(\u001b[0m\u001b[0mlocale_encoding\u001b[0m\u001b[0;34m)\u001b[0m\u001b[0;34m\u001b[0m\u001b[0;34m\u001b[0m\u001b[0m\n\u001b[1;32m    169\u001b[0m     )\n",
            "\u001b[0;31mNotImplementedError\u001b[0m: A UTF-8 locale is required. Got ANSI_X3.4-1968"
          ]
        }
      ]
    },
    {
      "cell_type": "code",
      "source": [
        "import nltk; print(nltk.__version__)"
      ],
      "metadata": {
        "colab": {
          "base_uri": "https://localhost:8080/"
        },
        "id": "tfHWpWejQXwp",
        "outputId": "87e10446-29a1-4f60-f9a3-c77c9950e103"
      },
      "execution_count": null,
      "outputs": [
        {
          "output_type": "stream",
          "name": "stdout",
          "text": [
            "3.8.1\n"
          ]
        }
      ]
    },
    {
      "cell_type": "code",
      "source": [
        "from nltk.corpus import wordnet_domains\n",
        "\n",
        "# Find synsets related to the technology domain\n",
        "tech_synsets = wordnet_domains.synsets('technology')\n"
      ],
      "metadata": {
        "colab": {
          "base_uri": "https://localhost:8080/",
          "height": 372
        },
        "id": "kO1v05wPQIBA",
        "outputId": "250823c6-df69-4d7b-9724-ac18e442b417"
      },
      "execution_count": null,
      "outputs": [
        {
          "output_type": "error",
          "ename": "ImportError",
          "evalue": "ignored",
          "traceback": [
            "\u001b[0;31m---------------------------------------------------------------------------\u001b[0m",
            "\u001b[0;31mImportError\u001b[0m                               Traceback (most recent call last)",
            "\u001b[0;32m<ipython-input-33-61b2699ebae9>\u001b[0m in \u001b[0;36m<cell line: 1>\u001b[0;34m()\u001b[0m\n\u001b[0;32m----> 1\u001b[0;31m \u001b[0;32mfrom\u001b[0m \u001b[0mnltk\u001b[0m\u001b[0;34m.\u001b[0m\u001b[0mcorpus\u001b[0m \u001b[0;32mimport\u001b[0m \u001b[0mwordnet_domains\u001b[0m\u001b[0;34m\u001b[0m\u001b[0;34m\u001b[0m\u001b[0m\n\u001b[0m\u001b[1;32m      2\u001b[0m \u001b[0;34m\u001b[0m\u001b[0m\n\u001b[1;32m      3\u001b[0m \u001b[0;31m# Find synsets related to the technology domain\u001b[0m\u001b[0;34m\u001b[0m\u001b[0;34m\u001b[0m\u001b[0m\n\u001b[1;32m      4\u001b[0m \u001b[0mtech_synsets\u001b[0m \u001b[0;34m=\u001b[0m \u001b[0mwordnet_domains\u001b[0m\u001b[0;34m.\u001b[0m\u001b[0msynsets\u001b[0m\u001b[0;34m(\u001b[0m\u001b[0;34m'technology'\u001b[0m\u001b[0;34m)\u001b[0m\u001b[0;34m\u001b[0m\u001b[0;34m\u001b[0m\u001b[0m\n",
            "\u001b[0;31mImportError\u001b[0m: cannot import name 'wordnet_domains' from 'nltk.corpus' (/usr/local/lib/python3.9/dist-packages/nltk/corpus/__init__.py)",
            "",
            "\u001b[0;31m---------------------------------------------------------------------------\u001b[0;32m\nNOTE: If your import is failing due to a missing package, you can\nmanually install dependencies using either !pip or !apt.\n\nTo view examples of installing some common dependencies, click the\n\"Open Examples\" button below.\n\u001b[0;31m---------------------------------------------------------------------------\u001b[0m\n"
          ],
          "errorDetails": {
            "actions": [
              {
                "action": "open_url",
                "actionText": "Open Examples",
                "url": "/notebooks/snippets/importing_libraries.ipynb"
              }
            ]
          }
        }
      ]
    },
    {
      "cell_type": "code",
      "source": [
        "!export LC_ALL=en_US.UTF-8\n"
      ],
      "metadata": {
        "colab": {
          "base_uri": "https://localhost:8080/",
          "height": 323
        },
        "id": "AOVEJMnS-N4n",
        "outputId": "eee3e494-1f3a-426f-be9d-211c6b17c57d"
      },
      "execution_count": null,
      "outputs": [
        {
          "output_type": "error",
          "ename": "NotImplementedError",
          "evalue": "ignored",
          "traceback": [
            "\u001b[0;31m---------------------------------------------------------------------------\u001b[0m",
            "\u001b[0;31mNotImplementedError\u001b[0m                       Traceback (most recent call last)",
            "\u001b[0;32m<ipython-input-5-171c96822d3a>\u001b[0m in \u001b[0;36m<cell line: 1>\u001b[0;34m()\u001b[0m\n\u001b[0;32m----> 1\u001b[0;31m \u001b[0mget_ipython\u001b[0m\u001b[0;34m(\u001b[0m\u001b[0;34m)\u001b[0m\u001b[0;34m.\u001b[0m\u001b[0msystem\u001b[0m\u001b[0;34m(\u001b[0m\u001b[0;34m'export LC_ALL=en_US.UTF-8'\u001b[0m\u001b[0;34m)\u001b[0m\u001b[0;34m\u001b[0m\u001b[0;34m\u001b[0m\u001b[0m\n\u001b[0m",
            "\u001b[0;32m/usr/local/lib/python3.9/dist-packages/google/colab/_shell.py\u001b[0m in \u001b[0;36msystem\u001b[0;34m(self, *args, **kwargs)\u001b[0m\n\u001b[1;32m     96\u001b[0m       \u001b[0mkwargs\u001b[0m\u001b[0;34m.\u001b[0m\u001b[0mupdate\u001b[0m\u001b[0;34m(\u001b[0m\u001b[0;34m{\u001b[0m\u001b[0;34m'also_return_output'\u001b[0m\u001b[0;34m:\u001b[0m \u001b[0;32mTrue\u001b[0m\u001b[0;34m}\u001b[0m\u001b[0;34m)\u001b[0m\u001b[0;34m\u001b[0m\u001b[0;34m\u001b[0m\u001b[0m\n\u001b[1;32m     97\u001b[0m \u001b[0;34m\u001b[0m\u001b[0m\n\u001b[0;32m---> 98\u001b[0;31m     \u001b[0moutput\u001b[0m \u001b[0;34m=\u001b[0m \u001b[0m_system_commands\u001b[0m\u001b[0;34m.\u001b[0m\u001b[0m_system_compat\u001b[0m\u001b[0;34m(\u001b[0m\u001b[0mself\u001b[0m\u001b[0;34m,\u001b[0m \u001b[0;34m*\u001b[0m\u001b[0margs\u001b[0m\u001b[0;34m,\u001b[0m \u001b[0;34m**\u001b[0m\u001b[0mkwargs\u001b[0m\u001b[0;34m)\u001b[0m  \u001b[0;31m# pylint:disable=protected-access\u001b[0m\u001b[0;34m\u001b[0m\u001b[0;34m\u001b[0m\u001b[0m\n\u001b[0m\u001b[1;32m     99\u001b[0m \u001b[0;34m\u001b[0m\u001b[0m\n\u001b[1;32m    100\u001b[0m     \u001b[0;32mif\u001b[0m \u001b[0mpip_warn\u001b[0m\u001b[0;34m:\u001b[0m\u001b[0;34m\u001b[0m\u001b[0;34m\u001b[0m\u001b[0m\n",
            "\u001b[0;32m/usr/local/lib/python3.9/dist-packages/google/colab/_system_commands.py\u001b[0m in \u001b[0;36m_system_compat\u001b[0;34m(shell, cmd, also_return_output)\u001b[0m\n\u001b[1;32m    451\u001b[0m   \u001b[0;31m# is expected to call this function, thus adding one level of nesting to the\u001b[0m\u001b[0;34m\u001b[0m\u001b[0;34m\u001b[0m\u001b[0m\n\u001b[1;32m    452\u001b[0m   \u001b[0;31m# stack.\u001b[0m\u001b[0;34m\u001b[0m\u001b[0;34m\u001b[0m\u001b[0m\n\u001b[0;32m--> 453\u001b[0;31m   result = _run_command(\n\u001b[0m\u001b[1;32m    454\u001b[0m       \u001b[0mshell\u001b[0m\u001b[0;34m.\u001b[0m\u001b[0mvar_expand\u001b[0m\u001b[0;34m(\u001b[0m\u001b[0mcmd\u001b[0m\u001b[0;34m,\u001b[0m \u001b[0mdepth\u001b[0m\u001b[0;34m=\u001b[0m\u001b[0;36m2\u001b[0m\u001b[0;34m)\u001b[0m\u001b[0;34m,\u001b[0m \u001b[0mclear_streamed_output\u001b[0m\u001b[0;34m=\u001b[0m\u001b[0;32mFalse\u001b[0m\u001b[0;34m\u001b[0m\u001b[0;34m\u001b[0m\u001b[0m\n\u001b[1;32m    455\u001b[0m   )\n",
            "\u001b[0;32m/usr/local/lib/python3.9/dist-packages/google/colab/_system_commands.py\u001b[0m in \u001b[0;36m_run_command\u001b[0;34m(cmd, clear_streamed_output)\u001b[0m\n\u001b[1;32m    165\u001b[0m   \u001b[0mlocale_encoding\u001b[0m \u001b[0;34m=\u001b[0m \u001b[0mlocale\u001b[0m\u001b[0;34m.\u001b[0m\u001b[0mgetpreferredencoding\u001b[0m\u001b[0;34m(\u001b[0m\u001b[0;34m)\u001b[0m\u001b[0;34m\u001b[0m\u001b[0;34m\u001b[0m\u001b[0m\n\u001b[1;32m    166\u001b[0m   \u001b[0;32mif\u001b[0m \u001b[0mlocale_encoding\u001b[0m \u001b[0;34m!=\u001b[0m \u001b[0m_ENCODING\u001b[0m\u001b[0;34m:\u001b[0m\u001b[0;34m\u001b[0m\u001b[0;34m\u001b[0m\u001b[0m\n\u001b[0;32m--> 167\u001b[0;31m     raise NotImplementedError(\n\u001b[0m\u001b[1;32m    168\u001b[0m         \u001b[0;34m'A UTF-8 locale is required. Got {}'\u001b[0m\u001b[0;34m.\u001b[0m\u001b[0mformat\u001b[0m\u001b[0;34m(\u001b[0m\u001b[0mlocale_encoding\u001b[0m\u001b[0;34m)\u001b[0m\u001b[0;34m\u001b[0m\u001b[0;34m\u001b[0m\u001b[0m\n\u001b[1;32m    169\u001b[0m     )\n",
            "\u001b[0;31mNotImplementedError\u001b[0m: A UTF-8 locale is required. Got ANSI_X3.4-1968"
          ]
        }
      ]
    },
    {
      "cell_type": "markdown",
      "source": [
        "# Input prompt using Synonyms "
      ],
      "metadata": {
        "id": "UU2ha9lCMZBv"
      }
    },
    {
      "cell_type": "markdown",
      "source": [
        "Necessary Import\n"
      ],
      "metadata": {
        "id": "MLrEDB0NMlDX"
      }
    },
    {
      "cell_type": "code",
      "source": [
        "import spacy\n",
        "import nltk\n",
        "from nltk.corpus import wordnet\n",
        "nltk.download('wordnet')\n",
        "nltk.download('punkt')"
      ],
      "metadata": {
        "id": "clFuc19R_6pZ",
        "colab": {
          "base_uri": "https://localhost:8080/"
        },
        "outputId": "0333f9fe-03a0-4ba8-8b98-a2f5b9c8fc84"
      },
      "execution_count": null,
      "outputs": [
        {
          "output_type": "stream",
          "name": "stderr",
          "text": [
            "[nltk_data] Downloading package wordnet to /root/nltk_data...\n",
            "[nltk_data] Downloading package punkt to /root/nltk_data...\n",
            "[nltk_data]   Unzipping tokenizers/punkt.zip.\n"
          ]
        },
        {
          "output_type": "execute_result",
          "data": {
            "text/plain": [
              "True"
            ]
          },
          "metadata": {},
          "execution_count": 1
        }
      ]
    },
    {
      "cell_type": "code",
      "source": [
        "prompt=input(\"Enter a sentence: \")\n",
        "tokens=nltk.word_tokenize(prompt)\n",
        "synonyms=[]\n",
        "# loop through each token and find its synonyms\n",
        "for token in tokens:\n",
        "    for syn in wordnet.synsets(token):\n",
        "        for lemma in syn.lemmas():\n",
        "            synonyms.append(lemma.name())\n",
        "\n",
        "synonyms"
      ],
      "metadata": {
        "colab": {
          "base_uri": "https://localhost:8080/"
        },
        "id": "k0rdK-eL__Za",
        "outputId": "3a18fade-7dfe-4c20-ba88-8adc89724690"
      },
      "execution_count": null,
      "outputs": [
        {
          "name": "stdout",
          "output_type": "stream",
          "text": [
            "Enter a sentence: computer science\n"
          ]
        },
        {
          "output_type": "execute_result",
          "data": {
            "text/plain": [
              "['computer',\n",
              " 'computing_machine',\n",
              " 'computing_device',\n",
              " 'data_processor',\n",
              " 'electronic_computer',\n",
              " 'information_processing_system',\n",
              " 'calculator',\n",
              " 'reckoner',\n",
              " 'figurer',\n",
              " 'estimator',\n",
              " 'computer',\n",
              " 'science',\n",
              " 'scientific_discipline',\n",
              " 'skill',\n",
              " 'science']"
            ]
          },
          "metadata": {},
          "execution_count": 46
        }
      ]
    },
    {
      "cell_type": "code",
      "source": [
        "# i=0\n",
        "# for token in tokens:\n",
        "#   synsets[i] = wordnet.synsets(token)\n",
        "#   i=i+1"
      ],
      "metadata": {
        "id": "m8a529MgB6uO"
      },
      "execution_count": null,
      "outputs": []
    },
    {
      "cell_type": "code",
      "source": [
        "# filter the synonyms to only include those related to technology\n",
        "technology_synonyms = ['technology', 'innovation', 'automation', 'digital', 'software','technology', 'innovation', 'automation', 'digital',\n",
        "                       'software', 'hardware', 'artificial','intelligence', 'machine','learning', 'robotics', 'internet', 'web, data',\n",
        "                       'analytics', 'cloud, computing', 'virtual', 'reality', 'augmented', 'cybersecurity', 'blockchain', 'cryptocurrency',\n",
        "                       'mobile', 'app', 'gadget', 'device', 'network', 'communication']\n",
        "filtered_synonyms = list(set(synonyms).intersection(set(technology_synonyms)))\n"
      ],
      "metadata": {
        "id": "uKLuihkvDMx4"
      },
      "execution_count": null,
      "outputs": []
    },
    {
      "cell_type": "code",
      "source": [
        "filtered_synonyms"
      ],
      "metadata": {
        "colab": {
          "base_uri": "https://localhost:8080/"
        },
        "id": "l-KEWBNqDzwR",
        "outputId": "28ccac59-bb62-4f4d-dce3-82ea2956cc0f"
      },
      "execution_count": null,
      "outputs": [
        {
          "output_type": "execute_result",
          "data": {
            "text/plain": [
              "['learning', 'machine']"
            ]
          },
          "metadata": {},
          "execution_count": 25
        }
      ]
    },
    {
      "cell_type": "code",
      "source": [
        "def input_text(prompt):\n",
        "  # prompt=input(\"Enter a sentence: \")\n",
        "  tokens=nltk.word_tokenize(prompt)\n",
        "  synonyms=[]\n",
        "  # loop through each token and find its synonyms\n",
        "  for token in tokens:\n",
        "    for syn in wordnet.synsets(token):\n",
        "        for lemma in syn.lemmas():\n",
        "            synonyms.append(lemma.name())\n",
        "\n",
        "\n",
        "\n",
        "  # filter the synonyms to only include those related to technology\n",
        "  technology_synonyms = ['technology', 'innovation', 'automation', 'digital', 'software','technology', 'innovation', 'automation', 'digital',\n",
        "                       'software', 'hardware', 'artificial','intelligence', 'machine','learning', 'robotics', 'internet', 'web', 'science','data',\n",
        "                       'analytics', 'cloud, computing', 'virtual', 'reality', 'augmented', 'cybersecurity', 'blockchain', 'cryptocurrency',\n",
        "                       'mobile', 'app', 'gadget', 'device', 'network', 'communication',' modeling', 'mining',' engineering','statistical',\n",
        "                       'Computing', 'Cybernetics', 'tech', ' Nanotechnology', 'Robotics', 'Telecommunications', 'Virtual reality','phone','analytics']\n",
        "  filtered_synonyms = list(set(synonyms).intersection(set(technology_synonyms)))\n",
        "\n",
        "  print(filtered_synonyms)\n",
        "\n",
        "  # give an output only if the number of matching words is equal to or greater than one\n",
        "  if len(filtered_synonyms) >=1:\n",
        "    print('Output')\n",
        "  else:\n",
        "    print('Not Valid')"
      ],
      "metadata": {
        "id": "MfL7968YD3LH"
      },
      "execution_count": null,
      "outputs": []
    },
    {
      "cell_type": "code",
      "source": [
        "input_text('data analytics')"
      ],
      "metadata": {
        "colab": {
          "base_uri": "https://localhost:8080/"
        },
        "id": "gZ5EqXQZEkPD",
        "outputId": "e7cb0ddd-ba28-4f1e-e7a4-f3008b8d3084"
      },
      "execution_count": null,
      "outputs": [
        {
          "output_type": "stream",
          "name": "stdout",
          "text": [
            "['data']\n",
            "Output\n"
          ]
        }
      ]
    }
  ]
}